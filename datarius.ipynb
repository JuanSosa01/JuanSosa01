{
  "cells": [
    {
      "cell_type": "markdown",
      "metadata": {
        "id": "view-in-github",
        "colab_type": "text"
      },
      "source": [
        "<a href=\"https://colab.research.google.com/github/JuanSosa01/JuanSosa01/blob/main/datarius.ipynb\" target=\"_parent\"><img src=\"https://colab.research.google.com/assets/colab-badge.svg\" alt=\"Open In Colab\"/></a>"
      ]
    },
    {
      "cell_type": "markdown",
      "metadata": {
        "id": "CT5xrry2eq7O"
      },
      "source": [
        "<!DOCTYPE html>\n",
        "<html>\n",
        "<head>\n",
        "    <style>\n",
        "        .center-image {\n",
        "            display: block;\n",
        "            margin: 0 auto;\n",
        "        }\n",
        "    </style>\n",
        "</head>\n",
        "<body>\n",
        "    <img src=\"https://th.bing.com/th/id/OIP.Nr0R8mkDrCoGYljdy0tTrgHaEK?pid=ImgDet&w=474&h=266&rs=1\" alt=\"Nombre del Logo\" class=\"center-image\">\n",
        "</body>\n",
        "</html>\n",
        "\n"
      ]
    },
    {
      "cell_type": "markdown",
      "metadata": {
        "id": "d27DvLBqeq7U"
      },
      "source": [
        "#  **Limpieza de Datos**\n",
        "En este notebook, se llevará a cabo un proceso de limpieza de datos utilizando información obtenida a partir del informe de tareas descargado del sitio web https://ar.gutrade.io/Mondelezar/Private/Dashboard. Los datos han sido recopilados en el período comprendido entre el 28 de agosto de 2023 y el 06 de octubre de 2023. El objetivo principal de esta iniciativa es mejorar el seguimiento del censo, ya que hasta el momento se ha limitado a realizar un monitoreo sin la generación de resultados en tiempo real que sean aprovechables de inmediato. Para abordar esta cuestión, se ha llevado a cabo una exhaustiva limpieza de los datos con el propósito de estructurar nuestros conjuntos de datos de tal manera que puedan ser integrados eficazmente en Power BI. Esto permitirá la creación de paneles de control que facilitarán el análisis de datos y la identificación de patrones relevantes en nuestra información."
      ]
    },
    {
      "cell_type": "code",
      "execution_count": null,
      "metadata": {
        "id": "49QBU1xSeq7V"
      },
      "outputs": [],
      "source": [
        "import pandas as pd\n",
        "import numpy as np\n",
        "import seaborn as sns\n",
        "import matplotlib.pyplot as plt\n",
        "import missingno as msno"
      ]
    },
    {
      "cell_type": "markdown",
      "metadata": {
        "id": "sBO5-fPzeq7X"
      },
      "source": [
        "## **PRIMERO CARGAMOS LOS DATOS.**"
      ]
    },
    {
      "cell_type": "code",
      "execution_count": null,
      "metadata": {
        "id": "EZkms7Wyeq7Y"
      },
      "outputs": [],
      "source": [
        "df = pd.read_excel('Reportes de tareas completadas.xlsx')\n"
      ]
    },
    {
      "cell_type": "markdown",
      "metadata": {
        "id": "a_nEZ5iDeq7Y"
      },
      "source": [
        "Cargamos los df de los locales cerrados y de los censistas."
      ]
    },
    {
      "cell_type": "code",
      "execution_count": null,
      "metadata": {
        "id": "4uMN4EtVeq7Z"
      },
      "outputs": [],
      "source": [
        "df_cerrados = pd.read_excel('base_cerrados.xlsx')\n",
        "df_censistas = pd.read_excel('Censista.xlsx')"
      ]
    },
    {
      "cell_type": "code",
      "execution_count": null,
      "metadata": {
        "id": "7vJ0Ftdqeq7Z"
      },
      "outputs": [],
      "source": [
        "df_cerrados = df_censistas.merge(df_cerrados, on=\"Nombre de persona de interés\", how=\"inner\")\n",
        "df_cerrados = df_cerrados.drop(['Provincia_y', 'Localidad_y', 'Departamentos'], axis=1)\n"
      ]
    },
    {
      "cell_type": "code",
      "execution_count": null,
      "metadata": {
        "id": "lcdlsI5Aeq7a",
        "outputId": "43a1cd8c-402e-4520-eb23-3c7622178eaa"
      },
      "outputs": [
        {
          "name": "stdout",
          "output_type": "stream",
          "text": [
            "['ID_censista', 'Nombre de persona de interés', 'Provincia_x', 'Localidad_x', 'ID_Alta', 'Nombre_local', 'Dirección', 'Coordenadas', 'Departamento', 'Canal', 'Fecha', 'Hora', 'Descripción']\n"
          ]
        }
      ],
      "source": [
        "cer = df_cerrados.columns.tolist()\n",
        "print(cer)"
      ]
    },
    {
      "cell_type": "code",
      "execution_count": null,
      "metadata": {
        "id": "DJ66BNkXeq7b"
      },
      "outputs": [],
      "source": [
        "# Lista de nombres de columnas a eliminar\n",
        "columnas_a_eliminar = [\"Nombre contacto en punto de interés\", \"Teléfono contacto en punto de interés\", \"Preguntas\"]\n",
        "\n",
        "# Eliminar las columnas especificadas\n",
        "df = df.drop(columnas_a_eliminar, axis=1)\n",
        "\n",
        "# Eliminar la primera fila\n",
        "df = df.iloc[1:]\n",
        "\n",
        "df = df.dropna(subset=['Provincia'])\n",
        "\n",
        "df.dropna(subset=['Provincia', 'Departamentos', 'Localidad'], inplace=True)"
      ]
    },
    {
      "cell_type": "code",
      "execution_count": null,
      "metadata": {
        "id": "m-dSkrjjeq7c",
        "outputId": "6e5414f5-4286-4e9f-8ff5-e269284c3c8d"
      },
      "outputs": [
        {
          "name": "stdout",
          "output_type": "stream",
          "text": [
            "['Fecha de inicio', 'Hora inicio', 'Coordenadas inicio', 'Fecha completado', 'Hora completado', 'Coordenadas fin', 'Identificador de persona de interés', 'Nombre de persona de interés', 'Identificador del punto de interés', 'Nombre del punto de interés', 'Departamento del punto de interés', 'Dirección del punto de interés', 'Provincia', 'Departamentos', 'Localidad', 'Tipo de Punto de Venta', 'Razón Social', 'CUIT', 'Papeles?', 'Canal', 'Cantidad de Cajas', 'Cantidad de Góndolas', 'Tiene Verdulería', 'Tiene Fiambrería', 'Heladeras con lacteos', 'Heladeras con bebidas', 'Oreo', 'Cadbury', 'Milka', 'Toblerone', 'Halls', 'Tang', 'Club Social', 'Royal', 'Clight', 'Terrabusi', 'Variedad', 'Beldent', 'Bubaloo', 'Criollitas', 'Diversion', 'Flics', 'Formis', 'Cofler', 'Hogareñas', 'Kesitas', 'La campagnola', 'Macucas', 'Maná', 'Mellizas', 'Menthoplus', 'Merengadas', 'Mogul', 'Mister Pops', 'Natural Break', 'Nereida', 'Opera', 'Poncho Negro', 'Porteñitas', 'Seven', 'Topline', 'Toddy', 'Flynpaff', 'Nucream', 'Full mani', 'Sin azucares', 'Bazooka', 'Palitos de la selva', 'Flow cereal', 'Flynnies yogur', 'Mantecol', 'Philipp Morris', 'Malboro', 'Lucky Strike', 'Chesterfields', 'Red Point', 'Melbour', 'Stella Artois', 'Quilmes', 'Patagonia', 'Corona', 'Budweisser', 'Brahma', 'Andes', 'Coca Cola', 'Fanta', 'Sprite', 'Schweppes', 'powerade', 'Cepita', 'Pepsi', 'Seven U', 'Tropicana', 'Quaker', 'Lays', 'Doritos', 'Cheetos', 'Gatorade', 'Paso de los toros', 'Mirinda', 'H2OH!', 'Estado de Inmueble', 'Cantidad de heladeras', 'Cantidad de Exhibidores de primeras marcas (Lays/Gaseosas/Cervezas)', 'Tiene surtido de vinos', 'Tiene Heladera de lácteos', 'Oreo.1', 'Cadbury.1', 'Milka.1', 'Toblerone.1', 'Halls.1', 'Tang.1', 'Club Social.1', 'Royal.1', 'Clight.1', 'Terrabusi.1', 'Variedad.1', 'Beldent.1', 'Bubaloo.1', 'Criollitas.1', 'Diversion.1', 'Flics.1', 'Formis.1', 'Cofler.1', 'Hogareñas.1', 'Kesitas.1', 'La campagnola.1', 'Macucas.1', 'Maná.1', 'Mellizas.1', 'Menthoplus.1', 'Merengadas.1', 'Mogul.1', 'Mister Pops.1', 'Natural Break.1', 'Nereida.1', 'Opera.1', 'Poncho Negro.1', 'Porteñitas.1', 'Seven.1', 'Topline.1', 'Topline.2', 'Flynpaff.1', 'Nucream.1', 'Full mani.1', 'Sin azucares.1', 'Bazooka.1', 'Palitos de la selva.1', 'Flow cereal.1', 'Flynnies yogur.1', 'Mantecol.1', 'Philipp Morris.1', 'Malboro.1', 'Lucky Strike.1', 'Chesterfields.1', 'Red Point.1', 'Melbour.1', 'Stella Artois.1', 'Quilmes.1', 'Patagonia.1', 'Corona.1', 'Budweisser.1', 'Brahma.1', 'Andes.1', 'Coca Cola.1', 'Fanta.1', 'Sprite.1', 'Schweppes.1', 'powerade.1', 'Cepita.1', 'Pepsi.1', 'Seven U.1', 'Tropicana.1', 'Quaker.1', 'Lays.1', 'Doritos.1', 'Cheetos.1', 'Gatorade.1', 'Paso de los toros.1', 'Mirinda.1', 'H2OH!.1', 'Estado de Inmueble.1', 'Cantidad de Heladeras', 'Estado del inmueble', 'Tiene gondola', 'En caso de que si tenga gondola, cuan llena esta?', 'Tiene exhibidor de chicles/caramelos', 'En caso de tener exhibidor de chicles/caramelos, cuan lleno esta?', 'Oreo.2', 'Cadbury.2', 'Milka.2', 'Toblerone.2', 'Halls.2', 'Tang.2', 'Club Social.2', 'Royal.2', 'Clight.2', 'Terrabusi.2', 'Variedad.2', 'Beldent.2', 'Bubaloo.2', 'Criollitas.2', 'Diversion.2', 'Flics.2', 'Formis.2', 'Cofler.2', 'Hogareñas.2', 'Kesitas.2', 'La campagnola.2', 'Macucas.2', 'Maná.2', 'Mellizas.2', 'Menthoplus.2', 'Merengadas.2', 'Mogul.2', 'Mister Pops.2', 'Natural Break.2', 'Nereida.2', 'Opera.2', 'Poncho Negro.2', 'Porteñitas.2', 'Seven.2', 'Topline.3', 'Toddy.1', 'Flynpaff.2', 'Nucream.2', 'Full mani.2', 'Sin azucares.2', 'Bazooka.2', 'Palitos de la selva.2', 'Flow cereal.2', 'Flynnies yogur.2', 'Mantecol.2', 'Philipp Morris.2', 'Malboro.2', 'Lucky Strike.2', 'Chesterfields.2', 'Red Point.2', 'Melbour.2', 'Stella Artois.2', 'Quilmes.2', 'Patagonia.2', 'Corona.2', 'Budweisser.2', 'Brahma.2', 'Andes.2', 'Coca Cola.2', 'Fanta.2', 'Sprite.2', 'Schweppes.2', 'powerade.2', 'Cepita.2', 'Pepsi.2', 'Seven U.2', 'Tropicana.2', 'Quaker.2', 'Lays.2', 'Doritos.2', 'Cheetos.2', 'Gatorade.2', 'Paso de los toros.2', 'Mirinda.2', 'H2OH!.2', 'No tiene servicios adicionales', 'Fotocopias', 'RapiPago', 'Tramites', 'SUBE', 'Cantidad de Heladeras visibles', 'Cuan llena estan las estanterias', 'Oreo.3', 'Cadbury.3', 'Milka.3', 'Toblerone.3', 'Halls.3', 'Tang.3', 'Club Social.3', 'Royal.3', 'Clight.3', 'Terrabusi.3', 'Variedad.3', 'Beldent.3', 'Beldent.4', 'Criollitas.3', 'Diversion.3', 'Flics.3', 'Formis.3', 'Cofler.3', 'Hogareñas.3', 'Kesitas.3', 'La campagnola.3', 'Macucas.3', 'Maná.3', 'Mellizas.3', 'Menthoplus.3', 'Merengadas.3', 'Mogul.3', 'Mister Pops.3', 'Natural Break.3', 'Nereida.3', 'Opera.3', 'Poncho Negro.3', 'Porteñitas.3', 'Seven.3', 'Topline.4', 'Toddy.2', 'Flynpaff.3', 'Nucream.3', 'Full mani.3', 'Sin azucares.3', 'Bazooka.3', 'Palitos de la selva.3', 'Flow cereal.3', 'Flynnies yogur.3', 'Mantecol.3', 'Philipp Morris.3', 'Malboro.3', 'Lucky Strike.3', 'Chesterfields.3', 'Red Point.3', 'Melbour.3', 'Stella Artois.3', 'Quilmes.3', 'Patagonia.3', 'Corona.3', 'Budweisser.3', 'Brahma.3', 'Andes.3', 'Coca Cola.3', 'Fanta.3', 'Sprite.3', 'Schweppes.3', 'powerade.3', 'Cepita.3', 'Pepsi.3', 'Seven U.3', 'Tropicana.3', 'Quaker.3', 'Lays.3', 'Doritos.3', 'Cheetos.3', 'Gatorade.3', 'Paso de los toros.3', 'Mirinda.3', 'H2OH!.3', 'Estado de inmueble', 'Comercializa chocolates', 'Comercializa productos de kiosco', 'Modalidad de Venta', 'Tabletas', 'Bombones', 'Alfajores', 'Chicles', 'Caramelos', 'Galletas', 'Oreo.4', 'Cadbury.4', 'Milka.4', 'Toblerone.4', 'Halls.4', 'Tang.4', 'Club Social.4', 'Royal.4', 'Clight.4', 'Terrabusi.4', 'Variedad.4', 'Beldent.5', 'Bubaloo.3', 'Criollitas.4', 'Diversion.4', 'Flics.4', 'Formis.4', 'Cofler.4', 'Hogareñas.4', 'Kesitas.4', 'La campagnola.4', 'Macucas.4', 'Maná.4', 'Mellizas.4', 'Menthoplus.4', 'Merengadas.4', 'Mogul.4', 'Mister Pops.4', 'Natural Break.4', 'Nereida.4', 'Opera.4', 'Poncho Negro.4', 'Porteñitas.4', 'Seven.4', 'Topline.5', 'Toddy.3', 'Flynpaff.4', 'Nucream.4', 'Full mani.4', 'Sin azucares.4', 'Bazooka.4', 'Palitos de la selva.4', 'Flow cereal.4', 'Flynnies yogur.4', 'Mantecol.4', 'Estado del inmueble.1', 'Cantidad de góndolas/estanterías', 'Clight.5', 'Tang.5', 'BC', 'Aguila', 'CerealMix', 'Turrón Arcor', 'Chocolate sin Azúcar Georgalos', 'Llenado de estanterías', 'Cantidad de heladeras.1', 'Estado de Inmueble.2', 'Arcor', 'Georgalos', 'Cigarros', 'Quilmes.4', 'Coca Cola.4', 'Pepsi.4', 'Mondelez', 'Trabaja con?', 'Distribuidor', 'Frecuencia de Visita', 'Frecuencia de entrega', 'Se acerca un repositor de Mondelez?', 'Se acerca un repositor de la competencia?', 'En caso de que sea otro, indicar con quien', 'Aplicaciones B2B', 'Mondelez.1', 'Arcor.1', 'BEES', 'Serenisima', 'Massalin', 'Observaciones']\n"
          ]
        }
      ],
      "source": [
        "columnas = df.columns.to_list()\n",
        "print(columnas)"
      ]
    },
    {
      "cell_type": "markdown",
      "metadata": {
        "id": "ZrPSgLeYeq7c"
      },
      "source": [
        "## **COMENZANDO LA LIMPIEZA**\n",
        "\n",
        "Hemos identificado una variabilidad en la forma en que los censistas ingresan los valores en la columna de \"Localidad\". En ocasiones, se emplean diversas representaciones para expresar el mismo valor. Este fenómeno se traduce en la existencia de múltiples formas de escritura para un mismo concepto o entidad. Con el objetivo de estandarizar y consolidar la información, llevaremos a cabo un proceso de unificación de estos valores."
      ]
    },
    {
      "cell_type": "code",
      "execution_count": null,
      "metadata": {
        "id": "HHQD6uL9eq7d",
        "outputId": "3431aa51-e7c4-4531-c350-0d3ff5f450eb"
      },
      "outputs": [
        {
          "name": "stdout",
          "output_type": "stream",
          "text": [
            "['san juan' 'capital' nan 'san fernando del valle de catamarca'\n",
            " 'josé león suárez' 'gualeguaychu' 'san lorenzo' 'colon' 'villa ballester'\n",
            " 'moreno' 'campana' 'zarate' 'la rioja' 'chajarí' 'villa adelina'\n",
            " 'cipolletti' 'plottier' 'merlo' 'san andrés' 'chacabuco' 'villa maipú'\n",
            " 'concordia' 'santa fe' 'villa martelli' 'rosario' 'san nicolas' 'florida'\n",
            " 'billinghurst' 'loma hermosa' 'san antonio de padua' 'rivadavia' 'padua'\n",
            " 'santiago del estero' 'posadas' 'entre rios' 'misiones' 'junin'\n",
            " 'libertad' 'carlos paz' 'villa maria' 'rio cuarto' 'san pedro' 'boulogne'\n",
            " 'corrientes' 'rawson' 'soler' 'soler ' 'pontevedra' 'ponte vedra '\n",
            " 'san martin ' 'san martín ' 'villa lynch' 'capital\\n' 'posadas\\n'\n",
            " 'san fernando del valle de cat' 'san fernando del valle de' 'rivadia '\n",
            " 'rovadavia ' 'mariano acosta' 'mariano acosta ' 'cordoba '\n",
            " 'mariano moreno' 'villa maipú ' 'san andrés ' 'carlos paz  '\n",
            " 'general roca' 'mariano moereno' 'mariano moreno ' 'general roca '\n",
            " '\\nsanta fe' 'general viamonte ' 'samta fe' 'santa fe\\n' 'santa fe '\n",
            " 'posada' 'viamonte ' 'cipolletii']\n"
          ]
        }
      ],
      "source": [
        "# Convierte todos los valores de 'Localidad' a minúsculas\n",
        "df['Localidad'] = df['Localidad'].str.lower()\n",
        "\n",
        "# Diccionario de reemplazos para valores estandarizados\n",
        "reemplazos = {\n",
        "    \"billinghurst 52\": \"billinghurst\",\n",
        "    \"junín\": \"junin\",\n",
        "    \"san nicolas\": \"san nicolas\",\n",
        "    \"santa fe\": \"santa fe\",\n",
        "    \"san fernando del valle de cat.\": \"capital\",\n",
        "    \"san fernando del valle\": \"capital\",\n",
        "    \"río cuarto\": \"rio cuarto\",\n",
        "    \"catamarca\": \"capital\",\n",
        "    \"la rioja\": \"capital\",\n",
        "    \"córdoba\": \"carlos paz\",\n",
        "    \"villa mari\": \"villa maria\",\n",
        "    \"rivadavia\\r\\n\": \"rivadavia\",\n",
        "    \"santiago del esteo\": \"santiago del estero\",\n",
        "    \"saan pedro\": \"san pedro\",\n",
        "    \"ssn pedro\": \"san pedro\",\n",
        "    \"santoago del estero\": \"santiago del estero\",\n",
        "    \"san juan\": \"san juan\",\n",
        "    \"capital\": \"capital\",\n",
        "    \"josé león suárez\": \"josé león suárez\",\n",
        "    \"jose león suárez\": \"josé león suárez\",\n",
        "    \"jose leon suárez\": \"josé león suárez\",\n",
        "    \"san lorenzo\": \"san lorenzo\",\n",
        "    \"colon\": \"colon\",\n",
        "    \"villa ballester\": \"villa ballester\",\n",
        "    \"moreno\": \"moreno\",\n",
        "    \"campana\": \"campana\",\n",
        "    \"zarate\": \"zarate\",\n",
        "    \"la rioja \": \"la rioja\",\n",
        "    \"chajari\": \"chajarí\",\n",
        "    \"villa adelina\": \"villa adelina\",\n",
        "    \"cipolletti\": \"cipolletti\",\n",
        "    \"plottier\": \"plottier\",\n",
        "    \"munro\": \"munro\",\n",
        "    \"merlo\": \"merlo\",\n",
        "    \"san andrés\": \"san andrés\",\n",
        "    \"chacabuco\": \"chacabuco\",\n",
        "    \"villa maipú\": \"villa maipú\",\n",
        "    \"concordia\": \"concordia\",\n",
        "    \"santa fe\": \"santa fe\",\n",
        "    \"villa martelli\": \"villa martelli\",\n",
        "    \"rosario\": \"rosario\",\n",
        "    \"san nicolas\": \"san nicolas\",\n",
        "    \"vikla martelli\": \"villa martelli\",\n",
        "    \"florida\": \"florida\",\n",
        "    \"loma hermosa\": \"loma hermosa\",\n",
        "    \"san antonio de padua\": \"san antonio de padua\",\n",
        "    \"mwrlo\": \"merlo\",\n",
        "    \"rivadavia\": \"rivadavia\",\n",
        "    \"padua\": \"padua\",\n",
        "    \"santiago del estero\": \"santiago del estero\",\n",
        "    \"roaario\": \"rosario\",\n",
        "    \"loma hermosa \": \"loma hermosa\",\n",
        "    \"guaoeguaychu\": \"gualeguaychu\",\n",
        "    \"posadas\": \"posadas\",\n",
        "    \"rivadavia\\n\": \"rivadavia\",\n",
        "    \"ssn nicolas\": \"san nicolas\",\n",
        "    \"merlo \": \"merlo\",\n",
        "    \"gualguaychu\": \"gualeguaychu\",\n",
        "    \"chacabuco \": \"chacabuco\",\n",
        "    \"entre rios\": \"entre rios\",\n",
        "    \"misiones\": \"misiones\",\n",
        "    \"posadas \": \"posadas\",\n",
        "    \"gualeguychu\": \"gualeguaychu\",\n",
        "    \"santiago del estero \": \"santiago del estero\",\n",
        "    \"gualeguyachu\": \"gualeguaychu\",\n",
        "    \"junín \": \"junin\",\n",
        "    \"junin\": \"junin\",\n",
        "    \"san nicolad\": \"san nicolas\",\n",
        "    \"josé león suárez \": \"josé león suárez\",\n",
        "    \"jose león suárez \": \"josé león suárez\",\n",
        "    \"libertad\": \"libertad\",\n",
        "    \"libertad \": \"libertad\",\n",
        "    \"rivadavia \": \"rivadavia\",\n",
        "    \"lib2\": \"libertad\",\n",
        "    \"villa ballester \": \"villa ballester\",\n",
        "    \"santiago del esteri\": \"santiago del estero\",\n",
        "    \"gualeguaychu . p belgrano\": \"gualeguaychu\",\n",
        "    \"libertaf\": \"libertad\",\n",
        "    \"billinghurst \": \"billinghurst\",\n",
        "    \"possdas\": \"posadas\",\n",
        "    \"san fernando del valle \": \"capital\",\n",
        "    \"ricadavia\": \"rivadavia\",\n",
        "    \"carlos paz\": \"carlos paz\",\n",
        "    \"córdoba \": \"carlos paz\",\n",
        "    \"san nicolas \": \"san nicolas\",\n",
        "    \"carlos paz \": \"carlos paz\",\n",
        "    \"villa maria\": \"villa maria\",\n",
        "    \"rio cuarto \": \"rio cuarto\",\n",
        "    \"río cuarto\": \"rio cuarto\",\n",
        "    \"san pedro\": \"san pedro\",\n",
        "    \"capital \": \"capital\",\n",
        "    \"santoago del estero \": \"santiago del estero\",\n",
        "    \"boulogne \": \"boulogne\",\n",
        "    \"cors\": \"corrientes\",\n",
        "    \"samtiago del estero\": \"santiago del estero\",\n",
        "    \"rawson\": \"rawson\",\n",
        "    \"rawson \": \"rawson\",\n",
        "    \"munro\":\"merlo\",\n",
        "    \"rio cuarto\":\"rio cuarto\",\n",
        "    'pontevedra ':'pontevedra',\n",
        "    'santiagi del estero':'santiago del estero',\n",
        "    'csrlos paz':'carlos paz',\n",
        "    'rawson\\n':\"rawson\",\n",
        "    'pontevedra 185':'pontevedra',\n",
        "    'río cuarto ':'rio cuarto',\n",
        "    'río cuarto ':'rio cuarto',\n",
        "    'santa fw':'santa fe',\n",
        "    'villa lynch ':'villa lynch',\n",
        "    'junin ':'junin'\n",
        "}\n",
        "\n",
        "# Aplicar el mapeo a la columna 'Localidad'\n",
        "df['Localidad'] = df['Localidad'].replace(reemplazos)\n",
        "\n",
        "# Verificar los valores únicos después del mapeo\n",
        "valores_unicos = df['Localidad'].unique()\n",
        "print(valores_unicos)\n"
      ]
    },
    {
      "cell_type": "markdown",
      "metadata": {
        "id": "83DPnRt3eq7e"
      },
      "source": [
        "## **CAMBIAMOS LOS NOMBRES DE LAS COLUMNAS PARA PODER IDENTIFICAR LAS PREGUNTAS POR CANAL.**\n",
        "\n",
        "La base de datos descargada presenta una amalgamación de todas las preguntas sin una especificación clara sobre a qué canal pertenece cada columna. Con el propósito de mejorar la identificación de las preguntas relacionadas con cada canal, hemos empleado una referencia contenida en una hoja de Excel denominada \"Preguntas por Canal\". Aunque dicha referencia no proporcionaba una explicación detallada de las columnas, permitía identificar el orden de las mismas. De esta manera, se determinó que las primeras preguntas en la base de datos, de izquierda a derecha, corresponden al canal \"Autoservicio\", y así sucesivamente para los demás canales. Utilizando esta información, se procedió a renombrar todas las columnas para reflejar de manera más clara a qué canal se asocia cada pregunta.\n"
      ]
    },
    {
      "cell_type": "code",
      "execution_count": null,
      "metadata": {
        "id": "CP8F17tmeq7e"
      },
      "outputs": [],
      "source": [
        "nuevos_nombres = {'Cantidad de Cajas': 'Cantidad de Cajas(Autoservicio)',\n",
        "                  'Cantidad de Góndolas': 'Cantidad de Góndolas(Autoservicio)',\n",
        "                  'Tiene Verdulería': 'Tiene Verdulería(Autoservicio)',\n",
        "                  'Tiene Fiambrería': 'Tiene Fiambrería(Autoservicio)',\n",
        "                  'Heladeras con lacteos': 'Heladeras con lacteos(Autoservicio)',\n",
        "                  'Heladeras con bebidas': 'Heladeras con bebidas(Autoservicio)',\n",
        "                  'Cantidad de Exhibidores de primeras marcas (Lays/Gaseosas/Cervezas)': 'Cantidad de Exhibidores de primeras marcas (Lays/Gaseosas/Cervezas)(Almacen)',\n",
        "                  'Tiene surtido de vinos': 'Tiene surtido de vinos(Almacen)',\n",
        "                  'Tiene Heladera de lácteos': 'Tiene Heladera de lácteos(Almacen)',\n",
        "                  'Tiene gondola': 'Tiene gondola(Maxi Kiosco)',\n",
        "                  'En caso de que si tenga gondola, cuan llena esta?': 'En caso de que si tenga gondola, cuan llena esta?(Maxi Kiosco)',\n",
        "                  'Tiene exhibidor de chicles/caramelos': 'Tiene exhibidor de chicles/caramelos(Maxi Kiosco)',\n",
        "                  'En caso de tener exhibidor de chicles/caramelos, cuan lleno esta?': 'En caso de tener exhibidor de chicles/caramelos, cuan lleno esta?(Maxi Kiosco)',\n",
        "                  'No tiene servicios adicionales': 'No tiene servicios adicionales(Maxi Kiosco)',\n",
        "                  'Fotocopias': 'Fotocopias(Maxi Kiosco)',\n",
        "                  'RapiPago': 'RapiPago(Maxi Kiosco)',\n",
        "                  'Tramites': 'Tramites(Maxi Kiosco)',\n",
        "                  'SUBE': 'SUBE(Maxi Kiosco)',\n",
        "                 'Cuan llena estan las estanterias': 'Cuan llena estan las estanterias(Kiosco Ventana)',\n",
        "                 'Comercializa chocolates': 'Comercializa chocolates(Vinoteca)',\n",
        "                  'Comercializa productos de kiosco': 'Comercializa productos de kiosco(farmacia)',\n",
        "                  'Modalidad de Venta': 'Modalidad de Venta(Goloteca/Golsineria)',\n",
        "                  'Tabletas': 'Tabletas(Goloteca/Golsineria)',\n",
        "                  'Bombones': 'Bombones(Goloteca/Golsineria)',\n",
        "                  'Alfajores': 'Alfajores(Goloteca/Golsineria)',\n",
        "                  'Chicles': 'Chicles(Goloteca/Golsineria)',\n",
        "                  'Caramelos': 'Caramelos(Goloteca/Golsineria)',\n",
        "                  'Galletas': 'Galletas(Goloteca/Golsineria)',\n",
        "                  'Cantidad de góndolas/estanterías': 'Cantidad de góndolas/estanterías(Dietetica)',\n",
        "                 'BC': 'BC(Dietetica)',\n",
        "                  'Aguila': 'Aguila(Dietetica)',\n",
        "                  'CerealMix': 'CerealMix(Dietetica)',\n",
        "                  'Turrón Arcor': 'Turrón Arcor(Dietetica)',\n",
        "                  'Chocolate sin Azúcar Georgalos': 'Chocolate sin Azúcar Georgalos(Dietetica)',\n",
        "                  'Llenado de estanterías': 'Llenado de estanterías(Dietetica)',\n",
        "                  'Georgalos': 'Georgalos(Dietetica)',\n",
        "                  'Cigarros': 'Cigarros(Dietetica)',\n",
        "                  'Identificador de persona de interés': 'ID_censista'\n",
        "                  }\n",
        "df = df.rename(columns=nuevos_nombres)"
      ]
    },
    {
      "cell_type": "code",
      "execution_count": null,
      "metadata": {
        "id": "B_runnT0eq7f"
      },
      "outputs": [],
      "source": []
    },
    {
      "cell_type": "code",
      "execution_count": null,
      "metadata": {
        "id": "GSXQi7ZTeq7f",
        "outputId": "8bc6034b-b439-477e-ccf1-975bf05aa67e"
      },
      "outputs": [
        {
          "name": "stdout",
          "output_type": "stream",
          "text": [
            "['Fecha de inicio', 'Hora inicio', 'Coordenadas inicio', 'Fecha completado', 'Hora completado', 'Coordenadas fin', 'Identificador de persona de interés', 'Nombre de persona de interés', 'Identificador del punto de interés', 'Nombre del punto de interés', 'Departamento del punto de interés', 'Dirección del punto de interés', 'Provincia', 'Departamentos', 'Localidad', 'Tipo de Punto de Venta', 'Razón Social', 'CUIT', 'Papeles?', 'Canal', 'Cantidad de Cajas(Autoservicio)', 'Cantidad de Góndolas(Autoservicio)', 'Tiene Verdulería(Autoservicio)', 'Tiene Fiambrería(Autoservicio)', 'Heladeras con lacteos(Autoservicio)', 'Heladeras con bebidas(Autoservicio)', 'Oreo', 'Cadbury', 'Milka', 'Toblerone', 'Halls', 'Tang', 'Club Social', 'Royal', 'Clight', 'Terrabusi', 'Variedad', 'Beldent', 'Bubaloo', 'Criollitas', 'Diversion', 'Flics', 'Formis', 'Cofler', 'Hogareñas', 'Kesitas', 'La campagnola', 'Macucas', 'Maná', 'Mellizas', 'Menthoplus', 'Merengadas', 'Mogul', 'Mister Pops', 'Natural Break', 'Nereida', 'Opera', 'Poncho Negro', 'Porteñitas', 'Seven', 'Topline', 'Toddy', 'Flynpaff', 'Nucream', 'Full mani', 'Sin azucares', 'Bazooka', 'Palitos de la selva', 'Flow cereal', 'Flynnies yogur', 'Mantecol', 'Philipp Morris', 'Malboro', 'Lucky Strike', 'Chesterfields', 'Red Point', 'Melbour', 'Stella Artois', 'Quilmes', 'Patagonia', 'Corona', 'Budweisser', 'Brahma', 'Andes', 'Coca Cola', 'Fanta', 'Sprite', 'Schweppes', 'powerade', 'Cepita', 'Pepsi', 'Seven U', 'Tropicana', 'Quaker', 'Lays', 'Doritos', 'Cheetos', 'Gatorade', 'Paso de los toros', 'Mirinda', 'H2OH!', 'Estado de Inmueble', 'Cantidad de heladeras', 'Cantidad de Exhibidores de primeras marcas (Lays/Gaseosas/Cervezas)(Almacen)', 'Tiene surtido de vinos(Almacen)', 'Tiene Heladera de lácteos(Almacen)', 'Oreo.1', 'Cadbury.1', 'Milka.1', 'Toblerone.1', 'Halls.1', 'Tang.1', 'Club Social.1', 'Royal.1', 'Clight.1', 'Terrabusi.1', 'Variedad.1', 'Beldent.1', 'Bubaloo.1', 'Criollitas.1', 'Diversion.1', 'Flics.1', 'Formis.1', 'Cofler.1', 'Hogareñas.1', 'Kesitas.1', 'La campagnola.1', 'Macucas.1', 'Maná.1', 'Mellizas.1', 'Menthoplus.1', 'Merengadas.1', 'Mogul.1', 'Mister Pops.1', 'Natural Break.1', 'Nereida.1', 'Opera.1', 'Poncho Negro.1', 'Porteñitas.1', 'Seven.1', 'Topline.1', 'Topline.2', 'Flynpaff.1', 'Nucream.1', 'Full mani.1', 'Sin azucares.1', 'Bazooka.1', 'Palitos de la selva.1', 'Flow cereal.1', 'Flynnies yogur.1', 'Mantecol.1', 'Philipp Morris.1', 'Malboro.1', 'Lucky Strike.1', 'Chesterfields.1', 'Red Point.1', 'Melbour.1', 'Stella Artois.1', 'Quilmes.1', 'Patagonia.1', 'Corona.1', 'Budweisser.1', 'Brahma.1', 'Andes.1', 'Coca Cola.1', 'Fanta.1', 'Sprite.1', 'Schweppes.1', 'powerade.1', 'Cepita.1', 'Pepsi.1', 'Seven U.1', 'Tropicana.1', 'Quaker.1', 'Lays.1', 'Doritos.1', 'Cheetos.1', 'Gatorade.1', 'Paso de los toros.1', 'Mirinda.1', 'H2OH!.1', 'Estado de Inmueble.1', 'Cantidad de Heladeras', 'Estado del inmueble', 'Tiene gondola(Maxi Kiosco)', 'En caso de que si tenga gondola, cuan llena esta?(Maxi Kiosco)', 'Tiene exhibidor de chicles/caramelos(Maxi Kiosco)', 'En caso de tener exhibidor de chicles/caramelos, cuan lleno esta?(Maxi Kiosco)', 'Oreo.2', 'Cadbury.2', 'Milka.2', 'Toblerone.2', 'Halls.2', 'Tang.2', 'Club Social.2', 'Royal.2', 'Clight.2', 'Terrabusi.2', 'Variedad.2', 'Beldent.2', 'Bubaloo.2', 'Criollitas.2', 'Diversion.2', 'Flics.2', 'Formis.2', 'Cofler.2', 'Hogareñas.2', 'Kesitas.2', 'La campagnola.2', 'Macucas.2', 'Maná.2', 'Mellizas.2', 'Menthoplus.2', 'Merengadas.2', 'Mogul.2', 'Mister Pops.2', 'Natural Break.2', 'Nereida.2', 'Opera.2', 'Poncho Negro.2', 'Porteñitas.2', 'Seven.2', 'Topline.3', 'Toddy.1', 'Flynpaff.2', 'Nucream.2', 'Full mani.2', 'Sin azucares.2', 'Bazooka.2', 'Palitos de la selva.2', 'Flow cereal.2', 'Flynnies yogur.2', 'Mantecol.2', 'Philipp Morris.2', 'Malboro.2', 'Lucky Strike.2', 'Chesterfields.2', 'Red Point.2', 'Melbour.2', 'Stella Artois.2', 'Quilmes.2', 'Patagonia.2', 'Corona.2', 'Budweisser.2', 'Brahma.2', 'Andes.2', 'Coca Cola.2', 'Fanta.2', 'Sprite.2', 'Schweppes.2', 'powerade.2', 'Cepita.2', 'Pepsi.2', 'Seven U.2', 'Tropicana.2', 'Quaker.2', 'Lays.2', 'Doritos.2', 'Cheetos.2', 'Gatorade.2', 'Paso de los toros.2', 'Mirinda.2', 'H2OH!.2', 'No tiene servicios adicionales(Maxi Kiosco)', 'Fotocopias(Maxi Kiosco)', 'RapiPago(Maxi Kiosco)', 'Tramites(Maxi Kiosco)', 'SUBE(Maxi Kiosco)', 'Cantidad de Heladeras visibles', 'Cuan llena estan las estanterias(Kiosco Ventana)', 'Oreo.3', 'Cadbury.3', 'Milka.3', 'Toblerone.3', 'Halls.3', 'Tang.3', 'Club Social.3', 'Royal.3', 'Clight.3', 'Terrabusi.3', 'Variedad.3', 'Beldent.3', 'Beldent.4', 'Criollitas.3', 'Diversion.3', 'Flics.3', 'Formis.3', 'Cofler.3', 'Hogareñas.3', 'Kesitas.3', 'La campagnola.3', 'Macucas.3', 'Maná.3', 'Mellizas.3', 'Menthoplus.3', 'Merengadas.3', 'Mogul.3', 'Mister Pops.3', 'Natural Break.3', 'Nereida.3', 'Opera.3', 'Poncho Negro.3', 'Porteñitas.3', 'Seven.3', 'Topline.4', 'Toddy.2', 'Flynpaff.3', 'Nucream.3', 'Full mani.3', 'Sin azucares.3', 'Bazooka.3', 'Palitos de la selva.3', 'Flow cereal.3', 'Flynnies yogur.3', 'Mantecol.3', 'Philipp Morris.3', 'Malboro.3', 'Lucky Strike.3', 'Chesterfields.3', 'Red Point.3', 'Melbour.3', 'Stella Artois.3', 'Quilmes.3', 'Patagonia.3', 'Corona.3', 'Budweisser.3', 'Brahma.3', 'Andes.3', 'Coca Cola.3', 'Fanta.3', 'Sprite.3', 'Schweppes.3', 'powerade.3', 'Cepita.3', 'Pepsi.3', 'Seven U.3', 'Tropicana.3', 'Quaker.3', 'Lays.3', 'Doritos.3', 'Cheetos.3', 'Gatorade.3', 'Paso de los toros.3', 'Mirinda.3', 'H2OH!.3', 'Estado de inmueble', 'Comercializa chocolates(Vinoteca)', 'Comercializa productos de kiosco(farmacia)', 'Modalidad de Venta(Goloteca/Golsineria)', 'Tabletas(Goloteca/Golsineria)', 'Bombones(Goloteca/Golsineria)', 'Alfajores(Goloteca/Golsineria)', 'Chicles(Goloteca/Golsineria)', 'Caramelos(Goloteca/Golsineria)', 'Galletas(Goloteca/Golsineria)', 'Oreo.4', 'Cadbury.4', 'Milka.4', 'Toblerone.4', 'Halls.4', 'Tang.4', 'Club Social.4', 'Royal.4', 'Clight.4', 'Terrabusi.4', 'Variedad.4', 'Beldent.5', 'Bubaloo.3', 'Criollitas.4', 'Diversion.4', 'Flics.4', 'Formis.4', 'Cofler.4', 'Hogareñas.4', 'Kesitas.4', 'La campagnola.4', 'Macucas.4', 'Maná.4', 'Mellizas.4', 'Menthoplus.4', 'Merengadas.4', 'Mogul.4', 'Mister Pops.4', 'Natural Break.4', 'Nereida.4', 'Opera.4', 'Poncho Negro.4', 'Porteñitas.4', 'Seven.4', 'Topline.5', 'Toddy.3', 'Flynpaff.4', 'Nucream.4', 'Full mani.4', 'Sin azucares.4', 'Bazooka.4', 'Palitos de la selva.4', 'Flow cereal.4', 'Flynnies yogur.4', 'Mantecol.4', 'Estado del inmueble.1', 'Cantidad de góndolas/estanterías(Dietetica)', 'Clight.5', 'Tang.5', 'BC(Dietetica)', 'Aguila(Dietetica)', 'CerealMix(Dietetica)', 'Turrón Arcor(Dietetica)', 'Chocolate sin Azúcar Georgalos(Dietetica)', 'Llenado de estanterías(Dietetica)', 'Cantidad de heladeras.1', 'Estado de Inmueble.2', 'Arcor', 'Georgalos(Dietetica)', 'Cigarros(Dietetica)', 'Quilmes.4', 'Coca Cola.4', 'Pepsi.4', 'Mondelez', 'Trabaja con?', 'Distribuidor', 'Frecuencia de Visita', 'Frecuencia de entrega', 'Se acerca un repositor de Mondelez?', 'Se acerca un repositor de la competencia?', 'En caso de que sea otro, indicar con quien', 'Aplicaciones B2B', 'Mondelez.1', 'Arcor.1', 'BEES', 'Serenisima', 'Massalin', 'Observaciones']\n"
          ]
        }
      ],
      "source": [
        "columnas = df.columns .tolist()\n",
        "print(columnas)"
      ]
    },
    {
      "cell_type": "markdown",
      "metadata": {
        "id": "eFNerrkleq7f"
      },
      "source": [
        "## **Reporte de Censo**\n",
        "En esta fase, procederemos a la creación de un DataFrame al que asignaremos el nombre \"reporte\". El propósito principal de este DataFrame radica en la habilitación de un seguimiento detallado del proceso de censo, con el fin de proporcionar una visión exhaustiva de todas las actividades vinculadas a esta acción. Es importante destacar que la funcionalidad de este DataFrame se encuentra restringida exclusivamente a la tarea de censo y no se concibe para la extracción de información adicional. Las columnas que componen este DataFrame han sido cuidadosamente diseñadas con el objetivo de ofrecer una comprensión completa de la operación de censar, convirtiéndolo en una herramienta de análisis integral."
      ]
    },
    {
      "cell_type": "code",
      "execution_count": null,
      "metadata": {
        "id": "rwAn4DrIeq7g"
      },
      "outputs": [],
      "source": [
        "reporte = [\"Fecha de inicio\", 'Hora inicio', \"Nombre de persona de interés\",\n",
        "           \"Identificador del punto de interés\", \"Provincia\", \"Departamentos\",\n",
        "           \"Localidad\", \"Canal\",'Coordenadas inicio','Coordenadas fin',\n",
        "           'Hora completado','Dirección del punto de interés','Tipo de Punto de Venta',\n",
        "           'ID_censista']\n",
        "\n",
        "# Crear un nuevo DataFrame con las columnas seleccionadas\n",
        "reporte = df[reporte]"
      ]
    },
    {
      "cell_type": "code",
      "execution_count": null,
      "metadata": {
        "id": "7N0IUDjFeq7g",
        "outputId": "2bfb992e-218d-466d-f55a-f8b298038e4d"
      },
      "outputs": [
        {
          "data": {
            "text/html": [
              "<div>\n",
              "<style scoped>\n",
              "    .dataframe tbody tr th:only-of-type {\n",
              "        vertical-align: middle;\n",
              "    }\n",
              "\n",
              "    .dataframe tbody tr th {\n",
              "        vertical-align: top;\n",
              "    }\n",
              "\n",
              "    .dataframe thead th {\n",
              "        text-align: right;\n",
              "    }\n",
              "</style>\n",
              "<table border=\"1\" class=\"dataframe\">\n",
              "  <thead>\n",
              "    <tr style=\"text-align: right;\">\n",
              "      <th></th>\n",
              "      <th>Fecha de inicio</th>\n",
              "      <th>Hora inicio</th>\n",
              "      <th>Nombre de persona de interés</th>\n",
              "      <th>Identificador del punto de interés</th>\n",
              "      <th>Provincia</th>\n",
              "      <th>Departamentos</th>\n",
              "      <th>Localidad</th>\n",
              "      <th>Canal</th>\n",
              "      <th>Coordenadas inicio</th>\n",
              "      <th>Coordenadas fin</th>\n",
              "      <th>Hora completado</th>\n",
              "      <th>Dirección del punto de interés</th>\n",
              "      <th>Tipo de Punto de Venta</th>\n",
              "      <th>ID_censista</th>\n",
              "    </tr>\n",
              "  </thead>\n",
              "  <tbody>\n",
              "    <tr>\n",
              "      <th>1</th>\n",
              "      <td>2023-08-23 12:14:36.970</td>\n",
              "      <td>2023-08-23 12:14:36.970</td>\n",
              "      <td>Gonzalo Mansilla</td>\n",
              "      <td>QUA-519185</td>\n",
              "      <td>San Juan</td>\n",
              "      <td>Capital</td>\n",
              "      <td>san juan</td>\n",
              "      <td>Maxi Kiosco</td>\n",
              "      <td>-31.53842441976101800000,-68.52539509534836000000</td>\n",
              "      <td>-31.53802950000000000000,-68.52517270000000000000</td>\n",
              "      <td>2023-08-23 12:31:58.250</td>\n",
              "      <td>Mendoza 336 sur</td>\n",
              "      <td>Maxi Kiosco</td>\n",
              "      <td>33911439</td>\n",
              "    </tr>\n",
              "    <tr>\n",
              "      <th>2</th>\n",
              "      <td>2023-08-23 12:39:30.917</td>\n",
              "      <td>2023-08-23 12:39:30.917</td>\n",
              "      <td>Gaspar Martinez</td>\n",
              "      <td>ELE-862265</td>\n",
              "      <td>San Juan</td>\n",
              "      <td>Capital</td>\n",
              "      <td>san juan</td>\n",
              "      <td>Maxi Kiosco</td>\n",
              "      <td>-31.53565286662523000000,-68.52582156658173000000</td>\n",
              "      <td>-31.53553330000000000000,-68.52591220000000000000</td>\n",
              "      <td>2023-08-23 13:04:46.507</td>\n",
              "      <td>114 mendoza sur</td>\n",
              "      <td>Maxi Kiosco</td>\n",
              "      <td>38459497</td>\n",
              "    </tr>\n",
              "    <tr>\n",
              "      <th>3</th>\n",
              "      <td>2023-08-23 12:57:58.747</td>\n",
              "      <td>2023-08-23 12:57:58.747</td>\n",
              "      <td>Gonzalo Mansilla</td>\n",
              "      <td>SIR-039148</td>\n",
              "      <td>San Juan</td>\n",
              "      <td>Capital</td>\n",
              "      <td>san juan</td>\n",
              "      <td>Kiosco Ventana</td>\n",
              "      <td>-31.53894791658994000000,-68.52557547390461000000</td>\n",
              "      <td>-31.53894150000000000000,-68.52555750000000000000</td>\n",
              "      <td>2023-08-23 13:11:49.293</td>\n",
              "      <td>Mendoza 383</td>\n",
              "      <td>Kiosco Ventana</td>\n",
              "      <td>33911439</td>\n",
              "    </tr>\n",
              "    <tr>\n",
              "      <th>4</th>\n",
              "      <td>2023-08-23 13:22:49.937</td>\n",
              "      <td>2023-08-23 13:22:49.937</td>\n",
              "      <td>Gaspar Martinez</td>\n",
              "      <td>AGA-754296</td>\n",
              "      <td>San Juan</td>\n",
              "      <td>Capital</td>\n",
              "      <td>san juan</td>\n",
              "      <td>Maxi Kiosco</td>\n",
              "      <td>-31.53529109271574000000,-68.52585710585117000000</td>\n",
              "      <td>-31.53528320000000000000,-68.52594200000000000000</td>\n",
              "      <td>2023-08-23 13:31:31.100</td>\n",
              "      <td>Mendoza 83 sur</td>\n",
              "      <td>Maxi Kiosco</td>\n",
              "      <td>38459497</td>\n",
              "    </tr>\n",
              "    <tr>\n",
              "      <th>5</th>\n",
              "      <td>2023-08-23 13:41:52.930</td>\n",
              "      <td>2023-08-23 13:41:52.930</td>\n",
              "      <td>Gaspar Martinez</td>\n",
              "      <td>DRE-618907</td>\n",
              "      <td>San Juan</td>\n",
              "      <td>Capital</td>\n",
              "      <td>san juan</td>\n",
              "      <td>Maxi Kiosco</td>\n",
              "      <td>-31.53521822339376000000,-68.52588593959808000000</td>\n",
              "      <td>-31.53516400000000000000,-68.52591310000000000000</td>\n",
              "      <td>2023-08-23 13:49:20.257</td>\n",
              "      <td>Mendoza 83 sur</td>\n",
              "      <td>Maxi Kiosco</td>\n",
              "      <td>38459497</td>\n",
              "    </tr>\n",
              "    <tr>\n",
              "      <th>...</th>\n",
              "      <td>...</td>\n",
              "      <td>...</td>\n",
              "      <td>...</td>\n",
              "      <td>...</td>\n",
              "      <td>...</td>\n",
              "      <td>...</td>\n",
              "      <td>...</td>\n",
              "      <td>...</td>\n",
              "      <td>...</td>\n",
              "      <td>...</td>\n",
              "      <td>...</td>\n",
              "      <td>...</td>\n",
              "      <td>...</td>\n",
              "      <td>...</td>\n",
              "    </tr>\n",
              "    <tr>\n",
              "      <th>15298</th>\n",
              "      <td>2023-10-25 21:36:10.373</td>\n",
              "      <td>2023-10-25 21:36:10.373</td>\n",
              "      <td>Gonzalo Mansilla</td>\n",
              "      <td>CEO-324408</td>\n",
              "      <td>San Juan</td>\n",
              "      <td>Rawson</td>\n",
              "      <td>rawson</td>\n",
              "      <td>Club</td>\n",
              "      <td>-31.56930970831899000000,-68.51958911865950000000</td>\n",
              "      <td>-31.56922310000000000000,-68.51965070000000000000</td>\n",
              "      <td>2023-10-25 21:36:23.873</td>\n",
              "      <td>General mariano acha 2664 sur</td>\n",
              "      <td>Club</td>\n",
              "      <td>33911439</td>\n",
              "    </tr>\n",
              "    <tr>\n",
              "      <th>15299</th>\n",
              "      <td>2023-10-25 21:40:33.170</td>\n",
              "      <td>2023-10-25 21:40:33.170</td>\n",
              "      <td>Gonzalo Mansilla</td>\n",
              "      <td>FIA-630318</td>\n",
              "      <td>San Juan</td>\n",
              "      <td>Rawson</td>\n",
              "      <td>rawson</td>\n",
              "      <td>Fiambrería</td>\n",
              "      <td>-31.56713525602811600000,-68.52044541388750000000</td>\n",
              "      <td>-31.56722110000000000000,-68.52040100000000000000</td>\n",
              "      <td>2023-10-25 21:40:45.653</td>\n",
              "      <td>General mariano acha 2512 sur</td>\n",
              "      <td>Fiambrería</td>\n",
              "      <td>33911439</td>\n",
              "    </tr>\n",
              "    <tr>\n",
              "      <th>15300</th>\n",
              "      <td>2023-10-25 22:14:58.000</td>\n",
              "      <td>2023-10-25 22:14:58.000</td>\n",
              "      <td>Gonzalo Mansilla</td>\n",
              "      <td>PA -822105</td>\n",
              "      <td>San Juan</td>\n",
              "      <td>Rawson</td>\n",
              "      <td>rawson</td>\n",
              "      <td>Panadería</td>\n",
              "      <td>-31.55934457596005400000,-68.52222505956888000000</td>\n",
              "      <td>-31.55956870000000000000,-68.52193260000000000000</td>\n",
              "      <td>2023-10-25 22:15:14.047</td>\n",
              "      <td>General mariano acha esquina larrain</td>\n",
              "      <td>Panadería</td>\n",
              "      <td>33911439</td>\n",
              "    </tr>\n",
              "    <tr>\n",
              "      <th>15301</th>\n",
              "      <td>2023-10-25 22:17:04.557</td>\n",
              "      <td>2023-10-25 22:17:04.557</td>\n",
              "      <td>Gonzalo Mansilla</td>\n",
              "      <td>AVS-887882</td>\n",
              "      <td>San Juan</td>\n",
              "      <td>Rawson</td>\n",
              "      <td>rawson</td>\n",
              "      <td>Pollería</td>\n",
              "      <td>-31.55936885946180600000,-68.52200143039227000000</td>\n",
              "      <td>-31.55962060000000000000,-68.52197050000000000000</td>\n",
              "      <td>2023-10-25 22:17:16.830</td>\n",
              "      <td>General mariano acha esquina larrain este</td>\n",
              "      <td>Pollería</td>\n",
              "      <td>33911439</td>\n",
              "    </tr>\n",
              "    <tr>\n",
              "      <th>15302</th>\n",
              "      <td>2023-10-25 22:19:52.433</td>\n",
              "      <td>2023-10-25 22:19:52.433</td>\n",
              "      <td>Gonzalo Mansilla</td>\n",
              "      <td>ESE-514737</td>\n",
              "      <td>San Juan</td>\n",
              "      <td>Rawson</td>\n",
              "      <td>rawson</td>\n",
              "      <td>Escuelas</td>\n",
              "      <td>-31.55875205655828700000,-68.52200813591480000000</td>\n",
              "      <td>-31.55866210000000000000,-68.52204290000000000000</td>\n",
              "      <td>2023-10-25 22:20:06.960</td>\n",
              "      <td>Geberal mariano acha 1896 sur</td>\n",
              "      <td>Escuelas</td>\n",
              "      <td>33911439</td>\n",
              "    </tr>\n",
              "  </tbody>\n",
              "</table>\n",
              "<p>15290 rows × 14 columns</p>\n",
              "</div>"
            ],
            "text/plain": [
              "              Fecha de inicio             Hora inicio  \\\n",
              "1     2023-08-23 12:14:36.970 2023-08-23 12:14:36.970   \n",
              "2     2023-08-23 12:39:30.917 2023-08-23 12:39:30.917   \n",
              "3     2023-08-23 12:57:58.747 2023-08-23 12:57:58.747   \n",
              "4     2023-08-23 13:22:49.937 2023-08-23 13:22:49.937   \n",
              "5     2023-08-23 13:41:52.930 2023-08-23 13:41:52.930   \n",
              "...                       ...                     ...   \n",
              "15298 2023-10-25 21:36:10.373 2023-10-25 21:36:10.373   \n",
              "15299 2023-10-25 21:40:33.170 2023-10-25 21:40:33.170   \n",
              "15300 2023-10-25 22:14:58.000 2023-10-25 22:14:58.000   \n",
              "15301 2023-10-25 22:17:04.557 2023-10-25 22:17:04.557   \n",
              "15302 2023-10-25 22:19:52.433 2023-10-25 22:19:52.433   \n",
              "\n",
              "      Nombre de persona de interés Identificador del punto de interés  \\\n",
              "1                 Gonzalo Mansilla                         QUA-519185   \n",
              "2                  Gaspar Martinez                         ELE-862265   \n",
              "3                 Gonzalo Mansilla                         SIR-039148   \n",
              "4                  Gaspar Martinez                         AGA-754296   \n",
              "5                  Gaspar Martinez                         DRE-618907   \n",
              "...                            ...                                ...   \n",
              "15298             Gonzalo Mansilla                         CEO-324408   \n",
              "15299             Gonzalo Mansilla                         FIA-630318   \n",
              "15300             Gonzalo Mansilla                         PA -822105   \n",
              "15301             Gonzalo Mansilla                         AVS-887882   \n",
              "15302             Gonzalo Mansilla                         ESE-514737   \n",
              "\n",
              "      Provincia Departamentos Localidad           Canal  \\\n",
              "1      San Juan       Capital  san juan     Maxi Kiosco   \n",
              "2      San Juan       Capital  san juan     Maxi Kiosco   \n",
              "3      San Juan       Capital  san juan  Kiosco Ventana   \n",
              "4      San Juan       Capital  san juan     Maxi Kiosco   \n",
              "5      San Juan       Capital  san juan     Maxi Kiosco   \n",
              "...         ...           ...       ...             ...   \n",
              "15298  San Juan        Rawson    rawson            Club   \n",
              "15299  San Juan        Rawson    rawson      Fiambrería   \n",
              "15300  San Juan        Rawson    rawson       Panadería   \n",
              "15301  San Juan        Rawson    rawson        Pollería   \n",
              "15302  San Juan        Rawson    rawson        Escuelas   \n",
              "\n",
              "                                      Coordenadas inicio  \\\n",
              "1      -31.53842441976101800000,-68.52539509534836000000   \n",
              "2      -31.53565286662523000000,-68.52582156658173000000   \n",
              "3      -31.53894791658994000000,-68.52557547390461000000   \n",
              "4      -31.53529109271574000000,-68.52585710585117000000   \n",
              "5      -31.53521822339376000000,-68.52588593959808000000   \n",
              "...                                                  ...   \n",
              "15298  -31.56930970831899000000,-68.51958911865950000000   \n",
              "15299  -31.56713525602811600000,-68.52044541388750000000   \n",
              "15300  -31.55934457596005400000,-68.52222505956888000000   \n",
              "15301  -31.55936885946180600000,-68.52200143039227000000   \n",
              "15302  -31.55875205655828700000,-68.52200813591480000000   \n",
              "\n",
              "                                         Coordenadas fin  \\\n",
              "1      -31.53802950000000000000,-68.52517270000000000000   \n",
              "2      -31.53553330000000000000,-68.52591220000000000000   \n",
              "3      -31.53894150000000000000,-68.52555750000000000000   \n",
              "4      -31.53528320000000000000,-68.52594200000000000000   \n",
              "5      -31.53516400000000000000,-68.52591310000000000000   \n",
              "...                                                  ...   \n",
              "15298  -31.56922310000000000000,-68.51965070000000000000   \n",
              "15299  -31.56722110000000000000,-68.52040100000000000000   \n",
              "15300  -31.55956870000000000000,-68.52193260000000000000   \n",
              "15301  -31.55962060000000000000,-68.52197050000000000000   \n",
              "15302  -31.55866210000000000000,-68.52204290000000000000   \n",
              "\n",
              "              Hora completado             Dirección del punto de interés  \\\n",
              "1     2023-08-23 12:31:58.250                            Mendoza 336 sur   \n",
              "2     2023-08-23 13:04:46.507                            114 mendoza sur   \n",
              "3     2023-08-23 13:11:49.293                                Mendoza 383   \n",
              "4     2023-08-23 13:31:31.100                             Mendoza 83 sur   \n",
              "5     2023-08-23 13:49:20.257                             Mendoza 83 sur   \n",
              "...                       ...                                        ...   \n",
              "15298 2023-10-25 21:36:23.873              General mariano acha 2664 sur   \n",
              "15299 2023-10-25 21:40:45.653              General mariano acha 2512 sur   \n",
              "15300 2023-10-25 22:15:14.047       General mariano acha esquina larrain   \n",
              "15301 2023-10-25 22:17:16.830  General mariano acha esquina larrain este   \n",
              "15302 2023-10-25 22:20:06.960              Geberal mariano acha 1896 sur   \n",
              "\n",
              "      Tipo de Punto de Venta ID_censista  \n",
              "1                Maxi Kiosco    33911439  \n",
              "2                Maxi Kiosco    38459497  \n",
              "3             Kiosco Ventana    33911439  \n",
              "4                Maxi Kiosco    38459497  \n",
              "5                Maxi Kiosco    38459497  \n",
              "...                      ...         ...  \n",
              "15298                   Club    33911439  \n",
              "15299             Fiambrería    33911439  \n",
              "15300              Panadería    33911439  \n",
              "15301               Pollería    33911439  \n",
              "15302               Escuelas    33911439  \n",
              "\n",
              "[15290 rows x 14 columns]"
            ]
          },
          "execution_count": 9,
          "metadata": {},
          "output_type": "execute_result"
        }
      ],
      "source": [
        "reporte"
      ]
    },
    {
      "cell_type": "markdown",
      "metadata": {
        "id": "LxExUNiNeq7g"
      },
      "source": [
        "Veamos los NA de nuestro df \"reporte\""
      ]
    },
    {
      "cell_type": "code",
      "execution_count": null,
      "metadata": {
        "id": "IeKHkktSeq7g",
        "outputId": "527b60c6-30a6-4d9c-d6b0-5217812d7933"
      },
      "outputs": [
        {
          "data": {
            "text/plain": [
              "<Axes: >"
            ]
          },
          "execution_count": 10,
          "metadata": {},
          "output_type": "execute_result"
        },
        {
          "data": {
            "image/png": "[encoded data removed]",
            "text/plain": [
              "<Figure size 2500x1000 with 3 Axes>"
            ]
          },
          "metadata": {},
          "output_type": "display_data"
        }
      ],
      "source": [
        "msno.bar(reporte)"
      ]
    },
    {
      "cell_type": "code",
      "execution_count": null,
      "metadata": {
        "id": "QzHkLCXEeq7g"
      },
      "outputs": [],
      "source": [
        "#eliminamos los NA\n",
        "reporte = reporte.dropna()\n"
      ]
    },
    {
      "cell_type": "code",
      "execution_count": null,
      "metadata": {
        "id": "-LM9uw5Seq7h",
        "outputId": "7bf39c1b-7d6e-4e8a-a05b-5cbd042511c7"
      },
      "outputs": [
        {
          "name": "stdout",
          "output_type": "stream",
          "text": [
            "['San Juan' 'Santiago del Estero' 'Catamarca' 'La Rioja' 'Buenos Aires'\n",
            " 'Entre Ríos' 'Santa Fe' 'Río Negro' 'Neuquén' 'Corrientes' 'Misiones'\n",
            " 'Córdoba']\n"
          ]
        }
      ],
      "source": [
        "valores_unicos_Provincia = df['Provincia'].unique()\n",
        "print(valores_unicos_Provincia)"
      ]
    },
    {
      "cell_type": "markdown",
      "metadata": {
        "id": "TCoi55G2eq7h"
      },
      "source": [
        "Una vez que hayamos generado el DataFrame dedicado al seguimiento del censo, iniciaremos las etapas de limpieza y transformación de datos. Estas fases revisten una importancia fundamental, ya que permiten facilitar la extracción de información adicional y más detallada a partir de los datos contenidos en el DataFrame. La limpieza y transformación de datos constituyen procesos esenciales que posibilitan un análisis más profundo y la obtención de perspicacias adicionales acerca de los datos en cuestión."
      ]
    },
    {
      "cell_type": "code",
      "execution_count": null,
      "metadata": {
        "id": "fdpaHmdPeq7h"
      },
      "outputs": [],
      "source": []
    },
    {
      "cell_type": "code",
      "execution_count": null,
      "metadata": {
        "id": "3qfmRicLeq7h"
      },
      "outputs": [],
      "source": []
    },
    {
      "cell_type": "code",
      "execution_count": null,
      "metadata": {
        "id": "1_C2kNjmeq7h"
      },
      "outputs": [],
      "source": []
    },
    {
      "cell_type": "markdown",
      "metadata": {
        "id": "uKdzzlZ0eq7h"
      },
      "source": [
        "## **UNIFICACION DE COLUMNAS**\n",
        "\n",
        "El proceso de consolidación de valores relevantes se basa en la necesidad de unificar la representación de datos equivalentes. En el contexto particular de este análisis, nos encontramos con varias columnas diseñadas para registrar la disponibilidad del producto 'Oreo' en distintos puntos de venta. En estas columnas, como 'Oreo1', 'Oreo2' y 'Oreo3', los valores binarios reflejan si el producto está disponible ('1') o no lo está ('0') en el punto de venta correspondiente.\n",
        "\n",
        "Para ilustrar este proceso, consideremos un ejemplo: 'Oreo3' se asocia a los establecimientos de tipo 'Maxi kiosco', mientras que 'Oreo2' se relaciona con los 'almacenes'. Dado que la información se organiza en filas, cuando una fila que corresponde a un 'Maxi kiosco' se cruza con la columna 'Oreo2' (originalmente asociada a 'almacén'), se genera un valor 'NA'. Esto indica que la información se superpone y, por tanto, requiere un proceso de unificación para garantizar que los valores originales se mantengan sin alteraciones.\n",
        "\n",
        "Además, es importante resaltar que este proceso de consolidación no solo mejora la interpretación de los datos, sino que también contribuye a reducir la dimensión\n",
        "\n",
        "\n",
        "|  Tipo de Punto de Venta  |  oreo3  |  oreo2  |\n",
        "|---------------------------|---------|---------|\n",
        "|      Maxi kiosco         |    0    |    NA   |\n",
        "|      Almacén             |    NA   |    1    |\n",
        "|      Maxi kiosco         |    1    |    NA   |\n",
        "|      Almacén             |    NA   |    0    |\n",
        "|      Maxi kiosco         |    1    |    NA   |\n",
        "|      Almacén             |    NA   |    1    |\n",
        "\n",
        "\n",
        "\n",
        "\n",
        "despues de la unificacion\n",
        "\n",
        "\n",
        "\n",
        "|  Tipo de Punto de Venta  |  Oreo  |\n",
        "|---------------------------|--------|\n",
        "|      Maxi kiosco         |   0    |\n",
        "|      Almacén             |   1    |\n",
        "|      Maxi kiosco         |   1    |\n",
        "|      Almacén             |   0    |\n",
        "|      Maxi kiosco         |   1    |\n",
        "|      Almacén             |   1    |\n",
        "\n",
        "\n",
        "En nuestro conjunto de datos, disponemos de un conjunto compuesto por un total de 75 marcas distintas, las cuales se repiten de manera sistemática en un factor de 5. En términos prácticos, al momento de descargar la base de datos, nos encontramos con la presencia de 375 columnas, cada una de ellas designada para representar las diversas marcas, y cada marca se repite en 5 columnas distintas.\n",
        "\n",
        "Como resultado de este proceso de consolidación de datos, se logra reducir la complejidad y la redundancia de la información. Esto se traduce en una disminución drástica en la cantidad de columnas utilizadas, reduciéndose finalmente de 375 a solamente 75 columnas destinadas a representar las marcas, lo que facilita el análisis y la interpretación de la base de datos."
      ]
    },
    {
      "cell_type": "code",
      "execution_count": null,
      "metadata": {
        "id": "sBNTD8Zheq7h"
      },
      "outputs": [],
      "source": [
        "# Lista de columnas a unificar\n",
        "columnas_unificar = ['Oreo', 'Oreo.1', 'Oreo.2', 'Oreo.3', 'Oreo.4']\n",
        "\n",
        "df[columnas_unificar] = df[columnas_unificar].replace('N/A', 0)\n",
        "\n",
        "# Reemplazar los valores NaN por 0 en las columnas\n",
        "df[columnas_unificar] = df[columnas_unificar].fillna(0)\n",
        "\n",
        "# Convertir todas las celdas en las columnas a tipo entero\n",
        "df[columnas_unificar] = df[columnas_unificar].astype(int)\n",
        "\n",
        "# Sumar los valores de las columnas y crear la columna 'Oreo_Unificada'\n",
        "df['Oreo_1'] = df[columnas_unificar].sum(axis=1)\n",
        "\n",
        "# Eliminar las columnas originales\n",
        "df = df.drop(columnas_unificar, axis=1)\n"
      ]
    },
    {
      "cell_type": "code",
      "execution_count": null,
      "metadata": {
        "id": "-tViDrgSeq7i"
      },
      "outputs": [],
      "source": [
        "columnas_unificar=['Cadbury','Cadbury.1','Cadbury.2','Cadbury.3','Cadbury.4']\n",
        "df[columnas_unificar] = df[columnas_unificar].replace('N/A', 0)\n",
        "df[columnas_unificar] = df[columnas_unificar].fillna(0)\n",
        "df[columnas_unificar] = df[columnas_unificar].astype(int)\n",
        "df['Cadbury_1'] = df[columnas_unificar].sum(axis=1)\n",
        "df = df.drop(columnas_unificar, axis=1)"
      ]
    },
    {
      "cell_type": "code",
      "execution_count": null,
      "metadata": {
        "id": "-JlCEnDHeq7i"
      },
      "outputs": [],
      "source": [
        "columnas_unificar=['Milka','Milka.1','Milka.2','Milka.3','Milka.4']\n",
        "df[columnas_unificar] = df[columnas_unificar].replace('N/A', 0)\n",
        "df[columnas_unificar] = df[columnas_unificar].fillna(0)\n",
        "df[columnas_unificar] = df[columnas_unificar].astype(int)\n",
        "df['Milka_1'] = df[columnas_unificar].sum(axis=1)\n",
        "df = df.drop(columnas_unificar, axis=1)\n"
      ]
    },
    {
      "cell_type": "code",
      "execution_count": null,
      "metadata": {
        "id": "ASs1s5I4eq7i"
      },
      "outputs": [],
      "source": [
        "columnas_unificar=['Toblerone','Toblerone.1','Toblerone.2','Toblerone.3','Toblerone.4']\n",
        "df[columnas_unificar] = df[columnas_unificar].replace('N/A', 0)\n",
        "df[columnas_unificar] = df[columnas_unificar].fillna(0)\n",
        "df[columnas_unificar] = df[columnas_unificar].astype(int)\n",
        "df['Toblerone_1'] = df[columnas_unificar].sum(axis=1)\n",
        "df = df.drop(columnas_unificar, axis=1)\n"
      ]
    },
    {
      "cell_type": "code",
      "execution_count": null,
      "metadata": {
        "id": "bo5yopEheq7i"
      },
      "outputs": [],
      "source": [
        "columnas_unificar=['Halls','Halls.1','Halls.2','Halls.3','Halls.4']\n",
        "df[columnas_unificar] = df[columnas_unificar].replace('N/A',0)\n",
        "df[columnas_unificar] = df[columnas_unificar].fillna(0)\n",
        "df[columnas_unificar] = df[columnas_unificar].astype(int)\n",
        "df['Halls_1'] = df[columnas_unificar].sum(axis=1)\n",
        "df=df.drop(columnas_unificar,axis=1)"
      ]
    },
    {
      "cell_type": "code",
      "execution_count": null,
      "metadata": {
        "id": "HwKHBg4jeq7i"
      },
      "outputs": [],
      "source": [
        "columnas_unificar=['Tang','Tang.1','Tang.2','Tang.3','Tang.4','Tang.5']\n",
        "df[columnas_unificar] = df[columnas_unificar].replace('N/A',0)\n",
        "df[columnas_unificar] = df[columnas_unificar].fillna(0)\n",
        "df[columnas_unificar] = df[columnas_unificar].astype(int)\n",
        "df['Tang_1'] = df[columnas_unificar].sum(axis=1)\n",
        "df=df.drop(columnas_unificar,axis=1)\n"
      ]
    },
    {
      "cell_type": "code",
      "execution_count": null,
      "metadata": {
        "id": "qAk39XpUeq7j"
      },
      "outputs": [],
      "source": [
        "columnas_unificar=['Club Social','Club Social.1','Club Social.2','Club Social.3','Club Social.4']\n",
        "df[columnas_unificar] = df[columnas_unificar].replace('N/A',0)\n",
        "df[columnas_unificar] = df[columnas_unificar].fillna(0)\n",
        "df[columnas_unificar] = df[columnas_unificar].astype(int)\n",
        "df['Club_Social_1'] = df[columnas_unificar].sum(axis=1)\n",
        "df=df.drop(columnas_unificar,axis=1)"
      ]
    },
    {
      "cell_type": "code",
      "execution_count": null,
      "metadata": {
        "id": "_i0Pmg4Eeq7j"
      },
      "outputs": [],
      "source": [
        "columnas_unificar=['Royal','Royal.1','Royal.2','Royal.3','Royal.4']\n",
        "df[columnas_unificar] = df[columnas_unificar].replace('N/A',0)\n",
        "df[columnas_unificar] = df[columnas_unificar].fillna(0)\n",
        "df[columnas_unificar] = df[columnas_unificar].astype(int)\n",
        "df['Royal_1'] = df[columnas_unificar].sum(axis=1)\n",
        "df=df.drop(columnas_unificar,axis=1)"
      ]
    },
    {
      "cell_type": "code",
      "execution_count": null,
      "metadata": {
        "id": "R-gR7c6Teq7j"
      },
      "outputs": [],
      "source": [
        "columnas_unificar = ['Clight', 'Clight.1', 'Clight.2', 'Clight.3', 'Clight.4', 'Clight.5']\n",
        "df[columnas_unificar] = df[columnas_unificar].replace('N/A', 0)\n",
        "df[columnas_unificar] = df[columnas_unificar].fillna(0)\n",
        "df[columnas_unificar] = df[columnas_unificar].astype(int)\n",
        "df['Clight_1'] = df[columnas_unificar].sum(axis=1)\n",
        "df=df.drop(columnas_unificar,axis=1)"
      ]
    },
    {
      "cell_type": "code",
      "execution_count": null,
      "metadata": {
        "id": "8B9T456Ueq7j"
      },
      "outputs": [],
      "source": [
        "columnas_unificar=['Terrabusi','Terrabusi.1','Terrabusi.2','Terrabusi.3','Terrabusi.4']\n",
        "df[columnas_unificar] = df[columnas_unificar].replace('N/A',0)\n",
        "df[columnas_unificar] = df[columnas_unificar].fillna(0)\n",
        "df[columnas_unificar] = df[columnas_unificar].astype(int)\n",
        "df['Terrabusi_1'] = df[columnas_unificar].sum(axis=1)\n",
        "df=df.drop(columnas_unificar,axis=1)"
      ]
    },
    {
      "cell_type": "code",
      "execution_count": null,
      "metadata": {
        "id": "_t91uMAeeq7q"
      },
      "outputs": [],
      "source": [
        "columnas_unificar=['Variedad','Variedad.1','Variedad.2','Variedad.3','Variedad.4']\n",
        "df[columnas_unificar] = df[columnas_unificar].replace('N/A',0)\n",
        "df[columnas_unificar] = df[columnas_unificar].fillna(0)\n",
        "df[columnas_unificar] = df[columnas_unificar].astype(int)\n",
        "df['Variedad_1'] = df[columnas_unificar].sum(axis=1)\n",
        "df=df.drop(columnas_unificar,axis=1)\n"
      ]
    },
    {
      "cell_type": "code",
      "execution_count": null,
      "metadata": {
        "id": "6NFmwB-keq7q"
      },
      "outputs": [],
      "source": [
        "columnas_unificar =['Beldent','Beldent.1','Beldent.2','Beldent.3','Beldent.4','Beldent.5']\n",
        "df[columnas_unificar] = df[columnas_unificar].replace('N/A',0)\n",
        "df[columnas_unificar] = df[columnas_unificar].fillna(0)\n",
        "df[columnas_unificar] = df[columnas_unificar].astype(int)\n",
        "df['Beldent_1'] = df[columnas_unificar].sum(axis=1)\n",
        "df=df.drop(columnas_unificar,axis=1)"
      ]
    },
    {
      "cell_type": "code",
      "execution_count": null,
      "metadata": {
        "id": "e-xUo8Jreq7q"
      },
      "outputs": [],
      "source": [
        "columnas_unificar=['Bubaloo','Bubaloo.1','Bubaloo.2','Bubaloo.3']\n",
        "df[columnas_unificar] = df[columnas_unificar].replace('N/A',0)\n",
        "df[columnas_unificar] = df[columnas_unificar].fillna(0)\n",
        "df[columnas_unificar] = df[columnas_unificar].astype(int)\n",
        "df['Bubaloo_1'] = df[columnas_unificar].sum(axis=1)\n",
        "df=df.drop(columnas_unificar,axis=1)"
      ]
    },
    {
      "cell_type": "code",
      "execution_count": null,
      "metadata": {
        "id": "rthwJ5B_eq7q"
      },
      "outputs": [],
      "source": [
        "columnas_unificar=['Criollitas','Criollitas.1','Criollitas.2','Criollitas.3','Criollitas.4']\n",
        "df[columnas_unificar] = df[columnas_unificar].replace('N/A',0)\n",
        "df[columnas_unificar] = df[columnas_unificar].fillna(0)\n",
        "df[columnas_unificar] = df[columnas_unificar].astype(int)\n",
        "df['Criollitas_1'] = df[columnas_unificar].sum(axis=1)\n",
        "df=df.drop(columnas_unificar,axis=1)"
      ]
    },
    {
      "cell_type": "code",
      "execution_count": null,
      "metadata": {
        "id": "MhhzNKi5eq7q"
      },
      "outputs": [],
      "source": [
        "columnas_unificar=['Diversion','Diversion.1','Diversion.2','Diversion.3','Diversion.4']\n",
        "df[columnas_unificar] = df[columnas_unificar].replace('N/A',0)\n",
        "df[columnas_unificar] = df[columnas_unificar].fillna(0)\n",
        "df[columnas_unificar] = df[columnas_unificar].astype(int)\n",
        "df['Diversion_1'] = df[columnas_unificar].sum(axis=1)\n",
        "df=df.drop(columnas_unificar,axis=1)"
      ]
    },
    {
      "cell_type": "code",
      "execution_count": null,
      "metadata": {
        "id": "Mp0E1hf1eq7q"
      },
      "outputs": [],
      "source": [
        "columnas_unificar=['Flics','Flics.1','Flics.2','Flics.3','Flics.4']\n",
        "df[columnas_unificar] = df[columnas_unificar].replace('N/A',0)\n",
        "df[columnas_unificar] = df[columnas_unificar].fillna(0)\n",
        "df[columnas_unificar] = df[columnas_unificar].astype(int)\n",
        "df['Flics_1'] = df[columnas_unificar].sum(axis=1)\n",
        "df=df.drop(columnas_unificar,axis=1)"
      ]
    },
    {
      "cell_type": "code",
      "execution_count": null,
      "metadata": {
        "id": "gVWryAZveq7r"
      },
      "outputs": [],
      "source": [
        "columnas_unificar=['Formis','Formis.1','Formis.2','Formis.3','Formis.4',]\n",
        "df[columnas_unificar] = df[columnas_unificar].replace('N/A',0)\n",
        "df[columnas_unificar] = df[columnas_unificar].fillna(0)\n",
        "df[columnas_unificar] = df[columnas_unificar].astype(int)\n",
        "df['Formis_1'] = df[columnas_unificar].sum(axis=1)\n",
        "df=df.drop(columnas_unificar,axis=1)"
      ]
    },
    {
      "cell_type": "code",
      "execution_count": null,
      "metadata": {
        "id": "vgOb5IYleq7r"
      },
      "outputs": [],
      "source": [
        "columnas_unificar=['Cofler','Cofler.1','Cofler.2','Cofler.3','Cofler.4']\n",
        "df[columnas_unificar] = df[columnas_unificar].replace('N/A',0)\n",
        "df[columnas_unificar] = df[columnas_unificar].fillna(0)\n",
        "df[columnas_unificar] = df[columnas_unificar].astype(int)\n",
        "df['Cofler_1'] = df[columnas_unificar].sum(axis=1)\n",
        "df=df.drop(columnas_unificar,axis=1)"
      ]
    },
    {
      "cell_type": "code",
      "execution_count": null,
      "metadata": {
        "id": "r--d8qgReq7r"
      },
      "outputs": [],
      "source": [
        "columnas_unificar=['Hogareñas','Hogareñas.1','Hogareñas.2','Hogareñas.3','Hogareñas.4']\n",
        "df[columnas_unificar] = df[columnas_unificar].replace('N/A',0)\n",
        "df[columnas_unificar] = df[columnas_unificar].fillna(0)\n",
        "df[columnas_unificar] = df[columnas_unificar].astype(int)\n",
        "df['Hogareñas_1'] = df[columnas_unificar].sum(axis=1)\n",
        "df=df.drop(columnas_unificar,axis=1)"
      ]
    },
    {
      "cell_type": "code",
      "execution_count": null,
      "metadata": {
        "id": "bS-nbt5xeq7r"
      },
      "outputs": [],
      "source": [
        "columnas_unificar=['Kesitas','Kesitas.1','Kesitas.2','Kesitas.3','Kesitas.4']\n",
        "df[columnas_unificar] = df[columnas_unificar].replace('N/A',0)\n",
        "df[columnas_unificar] = df[columnas_unificar].fillna(0)\n",
        "df[columnas_unificar] = df[columnas_unificar].astype(int)\n",
        "df['Kesitas_1'] = df[columnas_unificar].sum(axis=1)\n",
        "df=df.drop(columnas_unificar,axis=1)"
      ]
    },
    {
      "cell_type": "code",
      "execution_count": null,
      "metadata": {
        "id": "IQxVG9lAeq7r"
      },
      "outputs": [],
      "source": [
        "columnas_unificar=['La campagnola','La campagnola.1','La campagnola.2','La campagnola.3','La campagnola.4']\n",
        "df[columnas_unificar] = df[columnas_unificar].replace('N/A',0)\n",
        "df[columnas_unificar] = df[columnas_unificar].fillna(0)\n",
        "df[columnas_unificar] = df[columnas_unificar].astype(int)\n",
        "df['La_campagnola_1'] = df[columnas_unificar].sum(axis=1)\n",
        "df=df.drop(columnas_unificar,axis=1)"
      ]
    },
    {
      "cell_type": "code",
      "execution_count": null,
      "metadata": {
        "id": "XUV88VAWeq7r"
      },
      "outputs": [],
      "source": [
        "columnas_unificar=['Macucas','Macucas.1','Macucas.2','Macucas.3','Macucas.4']\n",
        "df[columnas_unificar] = df[columnas_unificar].replace('N/A',0)\n",
        "df[columnas_unificar] = df[columnas_unificar].fillna(0)\n",
        "df[columnas_unificar] = df[columnas_unificar].astype(int)\n",
        "df['Macucas_1'] = df[columnas_unificar].sum(axis=1)\n",
        "df=df.drop(columnas_unificar,axis=1)"
      ]
    },
    {
      "cell_type": "code",
      "execution_count": null,
      "metadata": {
        "id": "n0emSYFKeq7r"
      },
      "outputs": [],
      "source": [
        "columnas_unificar=['Maná','Maná.1','Maná.2','Maná.3','Maná.4']\n",
        "df[columnas_unificar] = df[columnas_unificar].replace('N/A',0)\n",
        "df[columnas_unificar] = df[columnas_unificar].fillna(0)\n",
        "df[columnas_unificar] = df[columnas_unificar].astype(int)\n",
        "df['Maná_1'] = df[columnas_unificar].sum(axis=1)\n",
        "df=df.drop(columnas_unificar,axis=1)"
      ]
    },
    {
      "cell_type": "code",
      "execution_count": null,
      "metadata": {
        "id": "Rr95CYh4eq7s"
      },
      "outputs": [],
      "source": [
        "columnas_unificar=['Mellizas','Mellizas.1','Mellizas.2','Mellizas.3','Mellizas.4']\n",
        "df[columnas_unificar] = df[columnas_unificar].replace('N/A',0)\n",
        "df[columnas_unificar] = df[columnas_unificar].fillna(0)\n",
        "df[columnas_unificar] = df[columnas_unificar].astype(int)\n",
        "df['Mellizas_1'] = df[columnas_unificar].sum(axis=1)\n",
        "df=df.drop(columnas_unificar,axis=1)"
      ]
    },
    {
      "cell_type": "code",
      "execution_count": null,
      "metadata": {
        "id": "kACjmQdKeq7s"
      },
      "outputs": [],
      "source": [
        "columnas_unificar=['Menthoplus','Menthoplus.1','Menthoplus.2','Menthoplus.3','Menthoplus.4']\n",
        "df[columnas_unificar] = df[columnas_unificar].replace('N/A',0)\n",
        "df[columnas_unificar] = df[columnas_unificar].fillna(0)\n",
        "df[columnas_unificar] = df[columnas_unificar].astype(int)\n",
        "df['Menthoplus_1'] = df[columnas_unificar].sum(axis=1)\n",
        "df=df.drop(columnas_unificar,axis=1)"
      ]
    },
    {
      "cell_type": "code",
      "execution_count": null,
      "metadata": {
        "id": "lHUNGuCaeq7s"
      },
      "outputs": [],
      "source": [
        "columnas_unificar=['Merengadas','Merengadas.1','Merengadas.2','Merengadas.3','Merengadas.4']\n",
        "df[columnas_unificar] = df[columnas_unificar].replace('N/A',0)\n",
        "df[columnas_unificar] = df[columnas_unificar].fillna(0)\n",
        "df[columnas_unificar] = df[columnas_unificar].astype(int)\n",
        "df['Merengadas_1'] = df[columnas_unificar].sum(axis=1)\n",
        "df=df.drop(columnas_unificar,axis=1)"
      ]
    },
    {
      "cell_type": "code",
      "execution_count": null,
      "metadata": {
        "id": "2uBuX21Peq7s"
      },
      "outputs": [],
      "source": [
        "columnas_unificar=['Mogul','Mogul.1','Mogul.2','Mogul.3','Mogul.4']\n",
        "df[columnas_unificar] = df[columnas_unificar].replace('N/A',0)\n",
        "df[columnas_unificar] = df[columnas_unificar].fillna(0)\n",
        "df[columnas_unificar] = df[columnas_unificar].astype(int)\n",
        "df['Mogul_1'] = df[columnas_unificar].sum(axis=1)\n",
        "df=df.drop(columnas_unificar,axis=1)"
      ]
    },
    {
      "cell_type": "code",
      "execution_count": null,
      "metadata": {
        "id": "tRyG2TLFeq7s"
      },
      "outputs": [],
      "source": [
        "columnas_unificar=['Mister Pops','Mister Pops.1','Mister Pops.2','Mister Pops.3','Mister Pops.4']\n",
        "df[columnas_unificar] = df[columnas_unificar].replace('N/A',0)\n",
        "df[columnas_unificar] = df[columnas_unificar].fillna(0)\n",
        "df[columnas_unificar] = df[columnas_unificar].astype(int)\n",
        "df['Mister_Pops_1'] = df[columnas_unificar].sum(axis=1)\n",
        "df=df.drop(columnas_unificar,axis=1)"
      ]
    },
    {
      "cell_type": "code",
      "execution_count": null,
      "metadata": {
        "id": "bPZNi1n3eq7t"
      },
      "outputs": [],
      "source": [
        "columnas_unificar=['Natural Break','Natural Break.1','Natural Break.2','Natural Break.3','Natural Break.4']\n",
        "df[columnas_unificar] = df[columnas_unificar].replace('N/A',0)\n",
        "df[columnas_unificar] = df[columnas_unificar].fillna(0)\n",
        "df[columnas_unificar] = df[columnas_unificar].astype(int)\n",
        "df['Natural_Break_1'] = df[columnas_unificar].sum(axis=1)\n",
        "df=df.drop(columnas_unificar,axis=1)"
      ]
    },
    {
      "cell_type": "code",
      "execution_count": null,
      "metadata": {
        "id": "EsAO0Iq7eq7t"
      },
      "outputs": [],
      "source": [
        "columnas_unificar=['Nereida','Nereida.1','Nereida.2','Nereida.3','Nereida.4']\n",
        "df[columnas_unificar] = df[columnas_unificar].replace('N/A',0)\n",
        "df[columnas_unificar] = df[columnas_unificar].fillna(0)\n",
        "df[columnas_unificar] = df[columnas_unificar].astype(int)\n",
        "df['Nereida_1'] = df[columnas_unificar].sum(axis=1)\n",
        "df=df.drop(columnas_unificar,axis=1)"
      ]
    },
    {
      "cell_type": "code",
      "execution_count": null,
      "metadata": {
        "id": "odjeFndieq7t"
      },
      "outputs": [],
      "source": [
        "columnas_unificar=['Opera','Opera.1','Opera.2','Opera.3','Opera.4']\n",
        "df[columnas_unificar] = df[columnas_unificar].replace('N/A',0)\n",
        "df[columnas_unificar] = df[columnas_unificar].fillna(0)\n",
        "df[columnas_unificar] = df[columnas_unificar].astype(int)\n",
        "df['Opera_1'] = df[columnas_unificar].sum(axis=1)\n",
        "df=df.drop(columnas_unificar,axis=1)"
      ]
    },
    {
      "cell_type": "code",
      "execution_count": null,
      "metadata": {
        "id": "0czsjywdeq7t"
      },
      "outputs": [],
      "source": [
        "columnas_unificar=['Poncho Negro','Poncho Negro.1','Poncho Negro.2','Poncho Negro.3','Poncho Negro.4']\n",
        "df[columnas_unificar] = df[columnas_unificar].replace('N/A',0)\n",
        "df[columnas_unificar] = df[columnas_unificar].fillna(0)\n",
        "df[columnas_unificar] = df[columnas_unificar].astype(int)\n",
        "df['Poncho_Negro_1'] = df[columnas_unificar].sum(axis=1)\n",
        "df=df.drop(columnas_unificar,axis=1)"
      ]
    },
    {
      "cell_type": "code",
      "execution_count": null,
      "metadata": {
        "id": "aKk7NfMqeq7t"
      },
      "outputs": [],
      "source": [
        "columnas_unificar=['Porteñitas','Porteñitas.1','Porteñitas.2','Porteñitas.3','Porteñitas.4']\n",
        "df[columnas_unificar] = df[columnas_unificar].replace('N/A',0)\n",
        "df[columnas_unificar] = df[columnas_unificar].fillna(0)\n",
        "df[columnas_unificar] = df[columnas_unificar].astype(int)\n",
        "df['Porteñitas_1'] = df[columnas_unificar].sum(axis=1)\n",
        "df=df.drop(columnas_unificar,axis=1)"
      ]
    },
    {
      "cell_type": "code",
      "execution_count": null,
      "metadata": {
        "id": "MrTalDjZeq7t"
      },
      "outputs": [],
      "source": [
        "columnas_unificar=['Seven','Seven.1','Seven.2','Seven.3','Seven.4']\n",
        "df[columnas_unificar] = df[columnas_unificar].replace('N/A',0)\n",
        "df[columnas_unificar] = df[columnas_unificar].fillna(0)\n",
        "df[columnas_unificar] = df[columnas_unificar].astype(int)\n",
        "df['Seven_1'] = df[columnas_unificar].sum(axis=1)\n",
        "df=df.drop(columnas_unificar,axis=1)"
      ]
    },
    {
      "cell_type": "code",
      "execution_count": null,
      "metadata": {
        "id": "nUE6Hb6peq7t"
      },
      "outputs": [],
      "source": [
        "columnas_unificar=['Topline','Topline.1','Topline.2','Topline.3','Topline.4']\n",
        "df[columnas_unificar] = df[columnas_unificar].replace('N/A',0)\n",
        "df[columnas_unificar] = df[columnas_unificar].fillna(0)\n",
        "df[columnas_unificar] = df[columnas_unificar].astype(int)\n",
        "df['Topline_1'] = df[columnas_unificar].sum(axis=1)\n",
        "df=df.drop(columnas_unificar,axis=1)"
      ]
    },
    {
      "cell_type": "code",
      "execution_count": null,
      "metadata": {
        "id": "xmmKY_6Keq7t"
      },
      "outputs": [],
      "source": [
        "columnas_unificar=['Toddy','Toddy.1','Toddy.2','Toddy.3']\n",
        "df[columnas_unificar] = df[columnas_unificar].replace('N/A',0)\n",
        "df[columnas_unificar] = df[columnas_unificar].fillna(0)\n",
        "df[columnas_unificar] = df[columnas_unificar].astype(int)\n",
        "df['Toddy_1'] = df[columnas_unificar].sum(axis=1)\n",
        "df=df.drop(columnas_unificar,axis=1)"
      ]
    },
    {
      "cell_type": "code",
      "execution_count": null,
      "metadata": {
        "id": "MGc3ZS-zeq7u"
      },
      "outputs": [],
      "source": [
        "columnas_unificar=['Flynpaff','Flynpaff.1','Flynpaff.2','Flynpaff.3','Flynpaff.4']\n",
        "df[columnas_unificar] = df[columnas_unificar].replace('N/A',0)\n",
        "df[columnas_unificar] = df[columnas_unificar].fillna(0)\n",
        "df[columnas_unificar] = df[columnas_unificar].astype(int)\n",
        "df['Flynpaff_1'] = df[columnas_unificar].sum(axis=1)\n",
        "df=df.drop(columnas_unificar,axis=1)"
      ]
    },
    {
      "cell_type": "code",
      "execution_count": null,
      "metadata": {
        "id": "IJB7TTZdeq7u"
      },
      "outputs": [],
      "source": [
        "columnas_unificar=['Nucream','Nucream.1','Nucream.2','Nucream.3','Nucream.4']\n",
        "df[columnas_unificar] = df[columnas_unificar].replace('N/A',0)\n",
        "df[columnas_unificar] = df[columnas_unificar].fillna(0)\n",
        "df[columnas_unificar] = df[columnas_unificar].astype(int)\n",
        "df['Nucream_1'] = df[columnas_unificar].sum(axis=1)\n",
        "df=df.drop(columnas_unificar,axis=1)"
      ]
    },
    {
      "cell_type": "code",
      "execution_count": null,
      "metadata": {
        "id": "3y_WGWqGeq7u"
      },
      "outputs": [],
      "source": [
        "columnas_unificar=['Full mani','Full mani.1','Full mani.2', 'Full mani.3','Full mani.4']\n",
        "df[columnas_unificar] = df[columnas_unificar].replace('N/A',0)\n",
        "df[columnas_unificar] = df[columnas_unificar].fillna(0)\n",
        "df[columnas_unificar] = df[columnas_unificar].astype(int)\n",
        "df['Full_mani_1'] = df[columnas_unificar].sum(axis=1)\n",
        "df=df.drop(columnas_unificar,axis=1)"
      ]
    },
    {
      "cell_type": "code",
      "execution_count": null,
      "metadata": {
        "id": "EPvLaDwveq7u"
      },
      "outputs": [],
      "source": [
        "columnas_unificar=['Sin azucares','Sin azucares.1','Sin azucares.2','Sin azucares.3','Sin azucares.4']\n",
        "df[columnas_unificar] = df[columnas_unificar].replace('N/A',0)\n",
        "df[columnas_unificar] = df[columnas_unificar].fillna(0)\n",
        "df[columnas_unificar] = df[columnas_unificar].astype(int)\n",
        "df['Sin_azucares_1'] = df[columnas_unificar].sum(axis=1)\n",
        "df=df.drop(columnas_unificar,axis=1)"
      ]
    },
    {
      "cell_type": "code",
      "execution_count": null,
      "metadata": {
        "id": "uBm8ATSdeq7u"
      },
      "outputs": [],
      "source": [
        "columnas_unificar=['Bazooka','Bazooka.1','Bazooka.2','Bazooka.3','Bazooka.4']\n",
        "df[columnas_unificar] = df[columnas_unificar].replace('N/A',0)\n",
        "df[columnas_unificar] = df[columnas_unificar].fillna(0)\n",
        "df[columnas_unificar] = df[columnas_unificar].astype(int)\n",
        "df['Bazooka_1'] = df[columnas_unificar].sum(axis=1)\n",
        "df=df.drop(columnas_unificar,axis=1)"
      ]
    },
    {
      "cell_type": "code",
      "execution_count": null,
      "metadata": {
        "id": "nfFvCECkeq7u"
      },
      "outputs": [],
      "source": [
        "columnas_unificar=['Palitos de la selva','Palitos de la selva.1','Palitos de la selva.2','Palitos de la selva.3','Palitos de la selva.4']\n",
        "df[columnas_unificar] = df[columnas_unificar].replace('N/A',0)\n",
        "df[columnas_unificar] = df[columnas_unificar].fillna(0)\n",
        "df[columnas_unificar] = df[columnas_unificar].astype(int)\n",
        "df['Palitos_de_la_selva_1'] = df[columnas_unificar].sum(axis=1)\n",
        "df=df.drop(columnas_unificar,axis=1)"
      ]
    },
    {
      "cell_type": "code",
      "execution_count": null,
      "metadata": {
        "id": "3I35LubJeq7v"
      },
      "outputs": [],
      "source": [
        "columnas_unificar=['Flow cereal','Flow cereal.1','Flow cereal.2','Flow cereal.3','Flow cereal.4']\n",
        "df[columnas_unificar] = df[columnas_unificar].replace('N/A',0)\n",
        "df[columnas_unificar] = df[columnas_unificar].fillna(0)\n",
        "df[columnas_unificar] = df[columnas_unificar].astype(int)\n",
        "df['Flow_cereal_1'] = df[columnas_unificar].sum(axis=1)\n",
        "df=df.drop(columnas_unificar,axis=1)"
      ]
    },
    {
      "cell_type": "code",
      "execution_count": null,
      "metadata": {
        "id": "k-Foreh-eq7v"
      },
      "outputs": [],
      "source": [
        "columnas_unificar=['Flynnies yogur','Flynnies yogur.1','Flynnies yogur.2','Flynnies yogur.3','Flynnies yogur.4']\n",
        "df[columnas_unificar] = df[columnas_unificar].replace('N/A',0)\n",
        "df[columnas_unificar] = df[columnas_unificar].fillna(0)\n",
        "df[columnas_unificar] = df[columnas_unificar].astype(int)\n",
        "df['Flynnies_yogur_1'] = df[columnas_unificar].sum(axis=1)\n",
        "df=df.drop(columnas_unificar,axis=1)"
      ]
    },
    {
      "cell_type": "code",
      "execution_count": null,
      "metadata": {
        "id": "Cei3fcp9eq7v"
      },
      "outputs": [],
      "source": [
        "columnas_unificar=['Mantecol','Mantecol.1','Mantecol.2','Mantecol.3','Mantecol.4']\n",
        "df[columnas_unificar] = df[columnas_unificar].replace('N/A',0)\n",
        "df[columnas_unificar] = df[columnas_unificar].fillna(0)\n",
        "df[columnas_unificar] = df[columnas_unificar].astype(int)\n",
        "df['Mantecol_1'] = df[columnas_unificar].sum(axis=1)\n",
        "df=df.drop(columnas_unificar,axis=1)"
      ]
    },
    {
      "cell_type": "code",
      "execution_count": null,
      "metadata": {
        "id": "gSh1DqFReq7v"
      },
      "outputs": [],
      "source": [
        "columnas_unificar=['Philipp Morris','Philipp Morris.1','Philipp Morris.2','Philipp Morris.3']\n",
        "df[columnas_unificar] = df[columnas_unificar].replace('N/A',0)\n",
        "df[columnas_unificar] = df[columnas_unificar].fillna(0)\n",
        "df[columnas_unificar] = df[columnas_unificar].astype(int)\n",
        "df['Philipp_Morris_1'] = df[columnas_unificar].sum(axis=1)\n",
        "df=df.drop(columnas_unificar,axis=1)"
      ]
    },
    {
      "cell_type": "code",
      "execution_count": null,
      "metadata": {
        "id": "NPPEZ_XUeq7w"
      },
      "outputs": [],
      "source": [
        "columnas_unificar=['Malboro','Malboro.1','Malboro.2','Malboro.3']\n",
        "df[columnas_unificar] = df[columnas_unificar].replace('N/A',0)\n",
        "df[columnas_unificar] = df[columnas_unificar].fillna(0)\n",
        "df[columnas_unificar] = df[columnas_unificar].astype(int)\n",
        "df['Malboro_1'] = df[columnas_unificar].sum(axis=1)\n",
        "df=df.drop(columnas_unificar,axis=1)"
      ]
    },
    {
      "cell_type": "code",
      "execution_count": null,
      "metadata": {
        "id": "kRLMFzbHeq7w"
      },
      "outputs": [],
      "source": [
        "columnas_unificar=['Lucky Strike','Lucky Strike.1','Lucky Strike.2','Lucky Strike.3']\n",
        "df[columnas_unificar] = df[columnas_unificar].replace('N/A',0)\n",
        "df[columnas_unificar] = df[columnas_unificar].fillna(0)\n",
        "df[columnas_unificar] = df[columnas_unificar].astype(int)\n",
        "df['Lucky_Strike_1'] = df[columnas_unificar].sum(axis=1)\n",
        "df=df.drop(columnas_unificar,axis=1)\n"
      ]
    },
    {
      "cell_type": "code",
      "execution_count": null,
      "metadata": {
        "id": "OAQ4691Oeq7w"
      },
      "outputs": [],
      "source": [
        "columnas_unificar=['Chesterfields','Chesterfields.1','Chesterfields.2','Chesterfields.3']\n",
        "df[columnas_unificar] = df[columnas_unificar].replace('N/A',0)\n",
        "df[columnas_unificar] = df[columnas_unificar].fillna(0)\n",
        "df[columnas_unificar] = df[columnas_unificar].astype(int)\n",
        "df['Chesterfields_1'] = df[columnas_unificar].sum(axis=1)\n",
        "df=df.drop(columnas_unificar,axis=1)\n"
      ]
    },
    {
      "cell_type": "code",
      "execution_count": null,
      "metadata": {
        "id": "yBStpnw8eq7w"
      },
      "outputs": [],
      "source": [
        "columnas_unificar=['Red Point','Red Point.1','Red Point.2','Red Point.3']\n",
        "df[columnas_unificar] = df[columnas_unificar].replace('N/A',0)\n",
        "df[columnas_unificar] = df[columnas_unificar].fillna(0)\n",
        "df[columnas_unificar] = df[columnas_unificar].astype(int)\n",
        "df['Red_Point_1'] = df[columnas_unificar].sum(axis=1)\n",
        "df=df.drop(columnas_unificar,axis=1)"
      ]
    },
    {
      "cell_type": "code",
      "execution_count": null,
      "metadata": {
        "id": "suvGk94xeq7w"
      },
      "outputs": [],
      "source": [
        "columnas_unificar=['Melbour','Melbour.1','Melbour.2','Melbour.3']\n",
        "df[columnas_unificar] = df[columnas_unificar].replace('N/A',0)\n",
        "df[columnas_unificar] = df[columnas_unificar].fillna(0)\n",
        "df[columnas_unificar] = df[columnas_unificar].astype(int)\n",
        "df['Melbour_1'] = df[columnas_unificar].sum(axis=1)\n",
        "df=df.drop(columnas_unificar,axis=1)"
      ]
    },
    {
      "cell_type": "code",
      "execution_count": null,
      "metadata": {
        "id": "RrK1xE4aeq7x"
      },
      "outputs": [],
      "source": [
        "columnas_unificar=['Stella Artois','Stella Artois.1','Stella Artois.2','Stella Artois.3']\n",
        "df[columnas_unificar] = df[columnas_unificar].replace('N/A',0)\n",
        "df[columnas_unificar] = df[columnas_unificar].fillna(0)\n",
        "df[columnas_unificar] = df[columnas_unificar].astype(int)\n",
        "df['Stella_Artois_1'] = df[columnas_unificar].sum(axis=1)\n",
        "df=df.drop(columnas_unificar,axis=1)"
      ]
    },
    {
      "cell_type": "code",
      "execution_count": null,
      "metadata": {
        "id": "nLyxVR_seq7x"
      },
      "outputs": [],
      "source": [
        "columnas_unificar=['Quilmes','Quilmes.1','Quilmes.2','Quilmes.3','Quilmes.4']\n",
        "df[columnas_unificar] = df[columnas_unificar].replace('N/A',0)\n",
        "df[columnas_unificar] = df[columnas_unificar].fillna(0)\n",
        "df[columnas_unificar] = df[columnas_unificar].astype(int)\n",
        "df['Quilmes_1'] = df[columnas_unificar].sum(axis=1)\n",
        "df=df.drop(columnas_unificar,axis=1)"
      ]
    },
    {
      "cell_type": "code",
      "execution_count": null,
      "metadata": {
        "id": "7GCuDF7Neq7x"
      },
      "outputs": [],
      "source": [
        "columnas_unificar=['Patagonia','Patagonia.1','Patagonia.2','Patagonia.3']\n",
        "df[columnas_unificar] = df[columnas_unificar].replace('N/A',0)\n",
        "df[columnas_unificar] = df[columnas_unificar].fillna(0)\n",
        "df[columnas_unificar] = df[columnas_unificar].astype(int)\n",
        "df['Patagonia_1'] = df[columnas_unificar].sum(axis=1)\n",
        "df=df.drop(columnas_unificar,axis=1)\n"
      ]
    },
    {
      "cell_type": "code",
      "execution_count": null,
      "metadata": {
        "id": "r8jJd9d1eq7x"
      },
      "outputs": [],
      "source": [
        "columnas_unificar=['Corona','Corona.1','Corona.2','Corona.3']\n",
        "df[columnas_unificar] = df[columnas_unificar].replace('N/A',0)\n",
        "df[columnas_unificar] = df[columnas_unificar].fillna(0)\n",
        "df[columnas_unificar] = df[columnas_unificar].astype(int)\n",
        "df['Corona_1'] = df[columnas_unificar].sum(axis=1)\n",
        "df=df.drop(columnas_unificar,axis=1)\n"
      ]
    },
    {
      "cell_type": "code",
      "execution_count": null,
      "metadata": {
        "id": "N1hDUyAJeq7x"
      },
      "outputs": [],
      "source": [
        "columnas_unificar=['Budweisser','Budweisser.1','Budweisser.2','Budweisser.3']\n",
        "df[columnas_unificar] = df[columnas_unificar].replace('N/A',0)\n",
        "df[columnas_unificar] = df[columnas_unificar].fillna(0)\n",
        "df[columnas_unificar] = df[columnas_unificar].astype(int)\n",
        "df['Budweisser_1'] = df[columnas_unificar].sum(axis=1)\n",
        "df=df.drop(columnas_unificar,axis=1)"
      ]
    },
    {
      "cell_type": "code",
      "execution_count": null,
      "metadata": {
        "id": "kPPBvonBeq7y"
      },
      "outputs": [],
      "source": [
        "columnas_unificar=['Brahma','Brahma.1','Brahma.2','Brahma.3']\n",
        "df[columnas_unificar] = df[columnas_unificar].replace('N/A',0)\n",
        "df[columnas_unificar] = df[columnas_unificar].fillna(0)\n",
        "df[columnas_unificar] = df[columnas_unificar].astype(int)\n",
        "df['Brahma_1'] = df[columnas_unificar].sum(axis=1)\n",
        "df=df.drop(columnas_unificar,axis=1)"
      ]
    },
    {
      "cell_type": "code",
      "execution_count": null,
      "metadata": {
        "id": "diT8-zQ1eq7y"
      },
      "outputs": [],
      "source": [
        "columnas_unificar=['Andes','Andes.1','Andes.2','Andes.3']\n",
        "df[columnas_unificar] = df[columnas_unificar].replace('N/A',0)\n",
        "df[columnas_unificar] = df[columnas_unificar].fillna(0)\n",
        "df[columnas_unificar] = df[columnas_unificar].astype(int)\n",
        "df['Andes_1'] = df[columnas_unificar].sum(axis=1)\n",
        "df=df.drop(columnas_unificar,axis=1)"
      ]
    },
    {
      "cell_type": "code",
      "execution_count": null,
      "metadata": {
        "id": "_lU9Llfneq7y"
      },
      "outputs": [],
      "source": [
        "columnas_unificar=['Coca Cola','Coca Cola.1','Coca Cola.2','Coca Cola.3','Coca Cola.4']\n",
        "df[columnas_unificar] = df[columnas_unificar].replace('N/A',0)\n",
        "df[columnas_unificar] = df[columnas_unificar].fillna(0)\n",
        "df[columnas_unificar] = df[columnas_unificar].astype(int)\n",
        "df['Coca_Cola_1'] = df[columnas_unificar].sum(axis=1)\n",
        "df=df.drop(columnas_unificar,axis=1)"
      ]
    },
    {
      "cell_type": "code",
      "execution_count": null,
      "metadata": {
        "id": "_DJVDU8Beq7y"
      },
      "outputs": [],
      "source": [
        "columnas_unificar=['Fanta','Fanta.1','Fanta.2','Fanta.3']\n",
        "df[columnas_unificar] = df[columnas_unificar].replace('N/A',0)\n",
        "df[columnas_unificar] = df[columnas_unificar].fillna(0)\n",
        "df[columnas_unificar] = df[columnas_unificar].astype(int)\n",
        "df['Fanta_1'] = df[columnas_unificar].sum(axis=1)\n",
        "df=df.drop(columnas_unificar,axis=1)\n"
      ]
    },
    {
      "cell_type": "code",
      "execution_count": null,
      "metadata": {
        "id": "gL63_uqneq7y"
      },
      "outputs": [],
      "source": [
        "columnas_unificar=['Sprite','Sprite.1','Sprite.2','Sprite.3']\n",
        "df[columnas_unificar] = df[columnas_unificar].replace('N/A',0)\n",
        "df[columnas_unificar] = df[columnas_unificar].fillna(0)\n",
        "df[columnas_unificar] = df[columnas_unificar].astype(int)\n",
        "df['Sprite_1'] = df[columnas_unificar].sum(axis=1)\n",
        "df=df.drop(columnas_unificar,axis=1)\n"
      ]
    },
    {
      "cell_type": "code",
      "execution_count": null,
      "metadata": {
        "id": "nJGmbMgKeq7y"
      },
      "outputs": [],
      "source": [
        "columnas_unificar=['Schweppes','Schweppes.1','Schweppes.2','Schweppes.3']\n",
        "df[columnas_unificar] = df[columnas_unificar].replace('N/A',0)\n",
        "df[columnas_unificar] = df[columnas_unificar].fillna(0)\n",
        "df[columnas_unificar] = df[columnas_unificar].astype(int)\n",
        "df['Schweppes_1'] = df[columnas_unificar].sum(axis=1)\n",
        "df=df.drop(columnas_unificar,axis=1)"
      ]
    },
    {
      "cell_type": "code",
      "execution_count": null,
      "metadata": {
        "id": "vxHvWKm8eq7y"
      },
      "outputs": [],
      "source": [
        "columnas_unificar=['powerade','powerade.1','powerade.2','powerade.3']\n",
        "df[columnas_unificar] = df[columnas_unificar].replace('N/A',0)\n",
        "df[columnas_unificar] = df[columnas_unificar].fillna(0)\n",
        "df[columnas_unificar] = df[columnas_unificar].astype(int)\n",
        "df['powerade_1'] = df[columnas_unificar].sum(axis=1)\n",
        "df=df.drop(columnas_unificar,axis=1)"
      ]
    },
    {
      "cell_type": "code",
      "execution_count": null,
      "metadata": {
        "id": "jfIUM39Deq7z"
      },
      "outputs": [],
      "source": [
        "columnas_unificar=['Cepita','Cepita.1','Cepita.2','Cepita.3']\n",
        "df[columnas_unificar] = df[columnas_unificar].replace('N/A',0)\n",
        "df[columnas_unificar] = df[columnas_unificar].fillna(0)\n",
        "df[columnas_unificar] = df[columnas_unificar].astype(int)\n",
        "df['Cepita_1'] = df[columnas_unificar].sum(axis=1)\n",
        "df=df.drop(columnas_unificar,axis=1)"
      ]
    },
    {
      "cell_type": "code",
      "execution_count": null,
      "metadata": {
        "id": "8IaJUfeLeq7z"
      },
      "outputs": [],
      "source": [
        "columnas_unificar=['Pepsi','Pepsi.1','Pepsi.2','Pepsi.3','Pepsi.4']\n",
        "df[columnas_unificar] = df[columnas_unificar].replace('N/A',0)\n",
        "df[columnas_unificar] = df[columnas_unificar].fillna(0)\n",
        "df[columnas_unificar] = df[columnas_unificar].astype(int)\n",
        "df['Pepsi_1'] = df[columnas_unificar].sum(axis=1)\n",
        "df=df.drop(columnas_unificar,axis=1)"
      ]
    },
    {
      "cell_type": "code",
      "execution_count": null,
      "metadata": {
        "id": "QhNKR9Bjeq7z"
      },
      "outputs": [],
      "source": [
        "columnas_unificar=['Seven U','Seven U.1','Seven U.2','Seven U.3']\n",
        "df[columnas_unificar] = df[columnas_unificar].replace('N/A',0)\n",
        "df[columnas_unificar] = df[columnas_unificar].fillna(0)\n",
        "df[columnas_unificar] = df[columnas_unificar].astype(int)\n",
        "df['Seven_U_1'] = df[columnas_unificar].sum(axis=1)\n",
        "df=df.drop(columnas_unificar,axis=1)"
      ]
    },
    {
      "cell_type": "code",
      "execution_count": null,
      "metadata": {
        "id": "AgwiZg_veq7z"
      },
      "outputs": [],
      "source": [
        "columnas_unificar=['Tropicana','Tropicana.1','Tropicana.2','Tropicana.3']\n",
        "df[columnas_unificar] = df[columnas_unificar].replace('N/A',0)\n",
        "df[columnas_unificar] = df[columnas_unificar].fillna(0)\n",
        "df[columnas_unificar] = df[columnas_unificar].astype(int)\n",
        "df['Tropicana_1'] = df[columnas_unificar].sum(axis=1)\n",
        "df=df.drop(columnas_unificar,axis=1)"
      ]
    },
    {
      "cell_type": "code",
      "execution_count": null,
      "metadata": {
        "id": "LlMsDEWOeq7z"
      },
      "outputs": [],
      "source": [
        "columnas_unificar=['Quaker','Quaker.1','Quaker.2','Quaker.3']\n",
        "df[columnas_unificar] = df[columnas_unificar].replace('N/A',0)\n",
        "df[columnas_unificar] = df[columnas_unificar].fillna(0)\n",
        "df[columnas_unificar] = df[columnas_unificar].astype(int)\n",
        "df['Quaker_1'] = df[columnas_unificar].sum(axis=1)\n",
        "df=df.drop(columnas_unificar,axis=1)"
      ]
    },
    {
      "cell_type": "code",
      "execution_count": null,
      "metadata": {
        "id": "VxiSSdD5eq7z"
      },
      "outputs": [],
      "source": [
        "columnas_unificar=['Lays','Lays.1','Lays.2','Lays.3']\n",
        "df[columnas_unificar] = df[columnas_unificar].replace('N/A',0)\n",
        "df[columnas_unificar] = df[columnas_unificar].fillna(0)\n",
        "df[columnas_unificar] = df[columnas_unificar].astype(int)\n",
        "df['Lays_1'] = df[columnas_unificar].sum(axis=1)\n",
        "df=df.drop(columnas_unificar,axis=1)"
      ]
    },
    {
      "cell_type": "code",
      "execution_count": null,
      "metadata": {
        "id": "M6uU58Lheq70"
      },
      "outputs": [],
      "source": [
        "columnas_unificar=['Doritos','Doritos.1','Doritos.2','Doritos.3']\n",
        "df[columnas_unificar] = df[columnas_unificar].replace('N/A',0)\n",
        "df[columnas_unificar] = df[columnas_unificar].fillna(0)\n",
        "df[columnas_unificar] = df[columnas_unificar].astype(int)\n",
        "df['Doritos_1'] = df[columnas_unificar].sum(axis=1)\n",
        "df=df.drop(columnas_unificar,axis=1)"
      ]
    },
    {
      "cell_type": "code",
      "execution_count": null,
      "metadata": {
        "id": "sq4S0VVyeq70"
      },
      "outputs": [],
      "source": [
        "columnas_unificar=['Cheetos','Cheetos.1','Cheetos.2','Cheetos.3']\n",
        "df[columnas_unificar] = df[columnas_unificar].replace('N/A',0)\n",
        "df[columnas_unificar] = df[columnas_unificar].fillna(0)\n",
        "df[columnas_unificar] = df[columnas_unificar].astype(int)\n",
        "df['Cheetos_1'] = df[columnas_unificar].sum(axis=1)\n",
        "df=df.drop(columnas_unificar,axis=1)"
      ]
    },
    {
      "cell_type": "code",
      "execution_count": null,
      "metadata": {
        "id": "7f6bi5fheq70"
      },
      "outputs": [],
      "source": [
        "columnas_unificar=['Gatorade','Gatorade.1','Gatorade.2','Gatorade.3']\n",
        "df[columnas_unificar] = df[columnas_unificar].replace('N/A',0)\n",
        "df[columnas_unificar] = df[columnas_unificar].fillna(0)\n",
        "df[columnas_unificar] = df[columnas_unificar].astype(int)\n",
        "df['Gatorade_1'] = df[columnas_unificar].sum(axis=1)\n",
        "df=df.drop(columnas_unificar,axis=1)"
      ]
    },
    {
      "cell_type": "code",
      "execution_count": null,
      "metadata": {
        "id": "jTRGNwmYeq70"
      },
      "outputs": [],
      "source": [
        "columnas_unificar=['Paso de los toros','Paso de los toros.1','Paso de los toros.2','Paso de los toros.3']\n",
        "df[columnas_unificar] = df[columnas_unificar].replace('N/A',0)\n",
        "df[columnas_unificar] = df[columnas_unificar].fillna(0)\n",
        "df[columnas_unificar] = df[columnas_unificar].astype(int)\n",
        "df['Paso_de_los_toros_1'] = df[columnas_unificar].sum(axis=1)\n",
        "df=df.drop(columnas_unificar,axis=1)"
      ]
    },
    {
      "cell_type": "code",
      "execution_count": null,
      "metadata": {
        "id": "zPlSL9pFeq70"
      },
      "outputs": [],
      "source": [
        "columnas_unificar=['Mirinda','Mirinda.1','Mirinda.2','Mirinda.3']\n",
        "df[columnas_unificar] = df[columnas_unificar].replace('N/A',0)\n",
        "df[columnas_unificar] = df[columnas_unificar].fillna(0)\n",
        "df[columnas_unificar] = df[columnas_unificar].astype(int)\n",
        "df['Mirinda_1'] = df[columnas_unificar].sum(axis=1)\n",
        "df=df.drop(columnas_unificar,axis=1)"
      ]
    },
    {
      "cell_type": "code",
      "execution_count": null,
      "metadata": {
        "id": "w3bltD4Ieq70"
      },
      "outputs": [],
      "source": [
        "columnas_unificar=['H2OH!','H2OH!.1','H2OH!.2','H2OH!.3']\n",
        "df[columnas_unificar] = df[columnas_unificar].replace('N/A',0)\n",
        "df[columnas_unificar] = df[columnas_unificar].fillna(0)\n",
        "df[columnas_unificar] = df[columnas_unificar].astype(int)\n",
        "df['H2OH!_1'] = df[columnas_unificar].sum(axis=1)\n",
        "df=df.drop(columnas_unificar,axis=1)"
      ]
    },
    {
      "cell_type": "markdown",
      "metadata": {
        "id": "4RPlzDS7eq71"
      },
      "source": [
        "----------------------\n"
      ]
    },
    {
      "cell_type": "code",
      "execution_count": null,
      "metadata": {
        "id": "ekDieOQMeq71"
      },
      "outputs": [],
      "source": [
        "columnas_unificar=['Mondelez','Mondelez.1']\n",
        "df[columnas_unificar] = df[columnas_unificar].replace('N/A',0)\n",
        "df[columnas_unificar] = df[columnas_unificar].fillna(0)\n",
        "df[columnas_unificar] = df[columnas_unificar].astype(int)\n",
        "df['MDLZ_1'] = df[columnas_unificar].sum(axis=1)\n",
        "df=df.drop(columnas_unificar,axis=1)"
      ]
    },
    {
      "cell_type": "code",
      "execution_count": null,
      "metadata": {
        "id": "-2u3xFceeq71"
      },
      "outputs": [],
      "source": [
        "columnas_unificar=['Arcor.1','Arcor']\n",
        "df[columnas_unificar] = df[columnas_unificar].replace('N/A',0)\n",
        "df[columnas_unificar] = df[columnas_unificar].fillna(0)\n",
        "df[columnas_unificar] = df[columnas_unificar].astype(int)\n",
        "df['Arcor_1'] = df[columnas_unificar].sum(axis=1)\n",
        "df=df.drop(columnas_unificar,axis=1)"
      ]
    },
    {
      "cell_type": "code",
      "execution_count": null,
      "metadata": {
        "id": "LAF-1BQLeq71"
      },
      "outputs": [],
      "source": []
    },
    {
      "cell_type": "code",
      "execution_count": null,
      "metadata": {
        "id": "Sr6QvOT2eq71"
      },
      "outputs": [],
      "source": [
        "\n",
        "columnas_unificar = ['Cantidad de Heladeras', 'Cantidad de heladeras.1', 'Cantidad de Heladeras visibles']\n",
        "df[columnas_unificar] = df[columnas_unificar].replace('N/A', 0)\n",
        "# Reemplazar '3 o más' por 3\n",
        "df[columnas_unificar] = df[columnas_unificar].replace('3 o más', 3)\n",
        "df[columnas_unificar] = df[columnas_unificar].fillna(0)\n",
        "df[columnas_unificar] = df[columnas_unificar].astype(int)\n",
        "df['Cantidad_de_heladeras_1'] = df[columnas_unificar].sum(axis=1)\n",
        "df = df.drop(columnas_unificar, axis=1)\n"
      ]
    },
    {
      "cell_type": "code",
      "execution_count": null,
      "metadata": {
        "id": "4OfwB8sleq71"
      },
      "outputs": [],
      "source": [
        "columnas_unificar=['Estado del inmueble.1','Estado del inmueble','Estado de Inmueble.2','Estado de Inmueble.1','Estado de Inmueble']\n",
        "df[columnas_unificar] = df[columnas_unificar].replace('N/A',\" \")\n",
        "df[columnas_unificar] = df[columnas_unificar].fillna(\" \")\n",
        "df['Estado_de_Inmueble_1'] = df[columnas_unificar].sum(axis=1)\n",
        "df=df.drop(columnas_unificar,axis=1)"
      ]
    },
    {
      "cell_type": "code",
      "execution_count": null,
      "metadata": {
        "id": "tgw9pu-Seq71",
        "outputId": "3add71d1-e32a-409f-a4ce-fe8eb10011ea"
      },
      "outputs": [
        {
          "data": {
            "text/plain": [
              "array([' Ordenado y Limpio   ', '     ', ' En condiciones aceptables   ',\n",
              "       '   Ordenado y Limpio ', '   En condiciones aceptables ',\n",
              "       '    Ordenado y limpio', '  Ordenado y Limpio  ',\n",
              "       'Ordenado y Limpio    ', '  En condiciones aceptables  ',\n",
              "       '    En condiciones aceptables', ' Precario   ', '   Precario ',\n",
              "       '    Precario', 'En condiciones aceptables    ', 'Precario    ',\n",
              "       '  Precario  '], dtype=object)"
            ]
          },
          "execution_count": 15,
          "metadata": {},
          "output_type": "execute_result"
        }
      ],
      "source": [
        "df['Estado_de_Inmueble_1'].unique()"
      ]
    },
    {
      "cell_type": "code",
      "execution_count": null,
      "metadata": {
        "id": "G7LRAlsDeq72",
        "outputId": "23cbd652-ab44-4c41-d108-eaf35a1bdf5b"
      },
      "outputs": [
        {
          "name": "stdout",
          "output_type": "stream",
          "text": [
            "['Ordenado y Limpio' '     ' 'En condiciones aceptables' 'Precario']\n"
          ]
        }
      ],
      "source": [
        "remplazos={'   Ordenado y Limpio ':'Ordenado y Limpio',\n",
        "    ' Ordenado y Limpio   ':'Ordenado y Limpio',\n",
        "    'Ordenado y limpio    ':'Ordenado y Limpio',\n",
        "    '  Ordenado y Limpio  ':'Ordenado y Limpio',\n",
        "    '    Ordenado y Limpio':'Ordenado y Limpio',\n",
        "    '   En condiciones aceptables ':'En condiciones aceptables',\n",
        "    ' En condiciones aceptables   ':'En condiciones aceptables',\n",
        "    '  En condiciones aceptables  ':'En condiciones aceptables',\n",
        "    'En condiciones aceptables    ':'En condiciones aceptables',\n",
        "    '    En condiciones aceptables':'En condiciones aceptables',\n",
        "    '   En condiciones aceptables ':'En condiciones aceptables',\n",
        "    '   En condiciones aceptables ':'En condiciones aceptables',\n",
        "    '   Precario ':'Precario',\n",
        "    ' Precario   ':'Precario',\n",
        "    'Precario    ':'Precario',\n",
        "    '    Precario':'Precario',\n",
        "    '  Precario  ':'Precario',\n",
        "    'Ordenado y Limpio    ':'Ordenado y Limpio',\n",
        "    '    Ordenado y limpio':'Ordenado y limpio',\n",
        "    'Ordenado y limpio':'Ordenado y Limpio'\n",
        "}\n",
        "\n",
        "    # Aplicar el mapeo a la columna 'Localidad'\n",
        "df['Estado_de_Inmueble_1'] = df['Estado_de_Inmueble_1'].replace(remplazos)\n",
        "\n",
        "# Verificar los valores únicos después del mapeo\n",
        "valores_unicos = df['Estado_de_Inmueble_1'].unique()\n",
        "print(valores_unicos)"
      ]
    },
    {
      "cell_type": "markdown",
      "metadata": {
        "id": "8qTvyXc0eq72"
      },
      "source": [
        "## **COLUMNA \"OBSERVACIONES**\n",
        "\n",
        "La columna \"Observaciones\" se presenta como una columna de texto libre que contiene una gran cantidad de información. Con el objetivo de extraer información valiosa de esta columna, llevaremos a cabo un proceso de iteración en busca de patrones de texto. El propósito de esta iteración es identificar palabras clave que puedan indicar oportunidades corporativas. En caso de que el algoritmo detecte cualquiera de estas palabras clave en las observaciones, se asignará un valor de 1 en una columna adicional denominada \"Oportunidades\". Por otro lado, si no se encuentra ningún patrón relacionado con las palabras clave, la columna \"Oportunidades\" se completará con el valor de 0.\n",
        "\n",
        "Este enfoque permitirá automatizar la identificación de oportunidades corporativas en el texto libre de las observaciones, lo que facilitará un análisis más eficiente y efectivo de los datos.las palabras que se buscaran son las siguientes:\n",
        "\n",
        "+ 'visita'\n",
        "+ 'preventista'\n",
        "+ 'mondelez'\n",
        "+ 'vendedor'\n",
        "+ 'delez'\n",
        "+ 'interesa'\n",
        "+ 'quiere'\n",
        "+ 'solicita'\n",
        "+ 'compra'\n",
        "+ 'pedido'\n",
        "+ 'desea'\n",
        "+ 'dejo'\n",
        "+ 'distribuid'\n",
        "+ 'mkm'\n",
        "+ 'delez'\n",
        "+ 'global'\n",
        "+ 'dulce'\n",
        "+ 'andretich'\n",
        "+ 'hard'\n",
        "+ 'pianez'\n",
        "+ 'ifnk'\n",
        "+ 'perels'\n",
        "+ 'terrabusi'\n",
        "\n",
        "Estas palabras clave se utilizarán en el proceso de iteración para buscar patrones de texto en la columna de observaciones y determinar si alguna de ellas está presente en el texto, lo que indicará la existencia de oportunidades corporativas."
      ]
    },
    {
      "cell_type": "code",
      "execution_count": null,
      "metadata": {
        "id": "3ZkNkd63eq72"
      },
      "outputs": [],
      "source": [
        "import re\n",
        "\n",
        "#  lista de palabras clave\n",
        "palabras_clave = [ 'visita', 'preventista', 'mondelez', 'vendedor', 'delez', 'interesa',\"quiere\", \"solicita\", \"compra\", \"pedido\", \"desea\", \"dejo\", \"distribuid\",\n",
        " \"mkm\", \"delez\", \"global\", \"dulce\", \"andretich\", \"hard\", \"pianez\", \"ifnk\", \"perels\",\"terrabusi\"]\n",
        "\n",
        "# Función para buscar patrones en una observación\n",
        "def buscar_patrones(observacion):\n",
        "    if isinstance(observacion, str):\n",
        "        observacion = observacion.lower()  # Convertir la observación a minúsculas\n",
        "        for palabra in palabras_clave:\n",
        "            patron = r'\\b' + palabra + r'\\w*'  # Usamos \\w* para permitir cualquier carácter después de la palabra clave\n",
        "            if re.search(patron, observacion):\n",
        "                return 1\n",
        "    return 0\n",
        "\n",
        "# Aplicar la función a la columna \"Observaciones\" y crear la columna \"Oportunidades\"\n",
        "df['Oportunidades'] = df['Observaciones'].apply(buscar_patrones)\n"
      ]
    },
    {
      "cell_type": "markdown",
      "metadata": {
        "id": "kwBDXK3Beq72"
      },
      "source": [
        "## **MAS LIMPIEZA**\n",
        "\n",
        "Cabe destacar que en nuestras columnas relacionadas con las marcas, se han registrado valores que no se limitan a 0 o 1. Esta variabilidad de valores indica que los censistas han respondido a la misma pregunta en dos columnas distintas; por ejemplo, han marcado \"1\" tanto en la columna 'coca' como en 'cocola2', lo que resulta en una suma de 2. Desde nuestra perspectiva, esta suma de valores 2 denota, en esencia, una sola afirmación: que el establecimiento en cuestión vende el producto \"coca cola\".\n",
        "\n",
        "Con el propósito de abordar esta situación, hemos implementado un bucle que recorre las columnas que contienen valores distintos a 0 o 1. Cuando el bucle identifica un valor superior a 1 en una de estas columnas, lo transforma en 1. Este proceso permite consolidar la información de manera uniforme, asegurando que la presencia de una marca en el local se refleje de manera coherente en el conjunto de datos."
      ]
    },
    {
      "cell_type": "code",
      "execution_count": null,
      "metadata": {
        "id": "nCRm7tL7eq72",
        "outputId": "8e4c54a7-43ff-468d-bb45-ae108fbb2524"
      },
      "outputs": [
        {
          "data": {
            "text/plain": [
              "1        2\n",
              "2        2\n",
              "3        2\n",
              "4        2\n",
              "5        2\n",
              "        ..\n",
              "15298    0\n",
              "15299    0\n",
              "15300    0\n",
              "15301    0\n",
              "15302    0\n",
              "Name: Coca_Cola_1, Length: 15290, dtype: int64"
            ]
          },
          "execution_count": 630,
          "metadata": {},
          "output_type": "execute_result"
        }
      ],
      "source": [
        "df['Coca_Cola_1']"
      ]
    },
    {
      "cell_type": "code",
      "execution_count": null,
      "metadata": {
        "id": "DiF1AJvjeq73"
      },
      "outputs": [],
      "source": [
        "columnas_a_modificar = [ 'Oreo_1', 'Cadbury_1', 'Milka_1', 'Toblerone_1', 'Halls_1',\n",
        "                        'Tang_1', 'Club_Social_1', 'Royal_1', 'Clight_1', 'Terrabusi_1',\n",
        "                        'Variedad_1', 'Beldent_1', 'Bubaloo_1', 'Criollitas_1', 'Diversion_1',\n",
        "                        'Flics_1', 'Formis_1', 'Cofler_1', 'Hogareñas_1', 'Kesitas_1', 'La_campagnola_1',\n",
        "                        'Macucas_1', 'Maná_1', 'Mellizas_1', 'Menthoplus_1', 'Merengadas_1', 'Mogul_1',\n",
        "                        'Mister_Pops_1', 'Natural_Break_1', 'Nereida_1', 'Opera_1', 'Poncho_Negro_1',\n",
        "                        'Porteñitas_1', 'Seven_1', 'Topline_1', 'Toddy_1', 'Flynpaff_1', 'Nucream_1',\n",
        "                        'Full_mani_1', 'Sin_azucares_1', 'Bazooka_1', 'Palitos_de_la_selva_1', 'Flow_cereal_1',\n",
        "                        'Flynnies_yogur_1', 'Mantecol_1', 'Philipp_Morris_1', 'Malboro_1', 'Lucky_Strike_1',\n",
        "                        'Chesterfields_1', 'Red_Point_1', 'Melbour_1', 'Stella_Artois_1', 'Quilmes_1',\n",
        "                        'Patagonia_1', 'Corona_1', 'Budweisser_1', 'Brahma_1', 'Andes_1', 'Coca_Cola_1',\n",
        "                        'Fanta_1', 'Sprite_1', 'Schweppes_1', 'powerade_1', 'Cepita_1', 'Pepsi_1', 'Seven_U_1',\n",
        "                        'Tropicana_1', 'Quaker_1', 'Lays_1', 'Doritos_1', 'Cheetos_1', 'Gatorade_1', 'Paso_de_los_toros_1',\n",
        "                        'Mirinda_1', 'H2OH!_1', 'MDLZ_1', 'Arcor_1', 'Cantidad_de_heladeras_1']\n",
        "\n",
        "for columna in columnas_a_modificar:\n",
        "    df[columna] = df[columna].apply(lambda x: 1 if x > 1 else x)\n",
        "\n"
      ]
    },
    {
      "cell_type": "markdown",
      "metadata": {
        "id": "y38NZ9zOeq73"
      },
      "source": [
        "## **OBTENIENDO LOS DATOS:**\n",
        "\n",
        "\n",
        "El objetivo principal de este proceso de limpieza de datos es la obtención de una base de datos funcional y libre de información superflua. Para lograr este propósito, hemos optado por la individualización de cada punto de venta, basándonos en la consideración de que las preguntas relacionadas con otros tipos de datos solo contribuyen a aumentar la dimensionalidad de nuestros datos sin agregar un valor sustancial.\n",
        "\n",
        "En esta etapa inicial, nos centraremos en la obtención de datos de las vinotecas y las farmacias, ya que a estos puntos de venta no se les realizan preguntas específicas acerca de marcas. Esto simplifica considerablemente la creación de DataFrames específicos para cada categoría, permitiéndonos enfocarnos en la información relevante. En cuanto a los puntos de venta a los que se les plantean preguntas sobre marcas, abordaremos este caso con mayor complejidad en etapas posteriores del proceso.\n",
        "\n",
        "\n",
        "\n"
      ]
    },
    {
      "cell_type": "code",
      "execution_count": null,
      "metadata": {
        "id": "DJUGm83-eq73"
      },
      "outputs": [],
      "source": [
        "columnas_seleccionadas = ['Fecha de inicio', 'Hora inicio', 'Coordenadas inicio', 'Fecha completado',\n",
        "                          'Hora completado', 'Coordenadas fin',\n",
        "                          'Nombre de persona de interés', 'Identificador del punto de interés',\n",
        "                          'Nombre del punto de interés', 'Departamento del punto de interés',\n",
        "                          'Dirección del punto de interés', 'Provincia', 'Departamentos', 'Localidad',\n",
        "                          'Tipo de Punto de Venta', 'Razón Social', 'CUIT', 'Papeles?', 'Canal',\n",
        "                          'Comercializa chocolates(Vinoteca)', 'Se acerca un repositor de Mondelez?',\n",
        "                          'Se acerca un repositor de la competencia?', 'En caso de que sea otro, indicar con quien',\n",
        "                          'Estado_de_Inmueble_1','Observaciones','Oportunidades','ID_censista']\n",
        "\n",
        "# Filtra el DataFrame original para obtener solo las filas donde 'Canal' es igual a 'Vinoteca'.\n",
        "vinoteca = df[df['Canal'] == 'Vinoteca'][columnas_seleccionadas].copy()\n"
      ]
    },
    {
      "cell_type": "code",
      "execution_count": null,
      "metadata": {
        "id": "aIxDEJDSeq73"
      },
      "outputs": [],
      "source": [
        "columnas_seleccionadas= ['Fecha de inicio', 'Hora inicio', 'Coordenadas inicio',\n",
        " 'Fecha completado', 'Hora completado', 'Coordenadas fin',\n",
        " 'ID_censista', 'Nombre de persona de interés',\n",
        " 'Identificador del punto de interés', 'Nombre del punto de interés',\n",
        " 'Departamento del punto de interés', 'Dirección del punto de interés',\n",
        " 'Provincia', 'Departamentos', 'Localidad', 'Tipo de Punto de Venta',\n",
        " 'Razón Social', 'CUIT', 'Papeles?', 'Canal', 'Comercializa productos de kiosco(farmacia)',\n",
        " 'Se acerca un repositor de Mondelez?', 'Se acerca un repositor de la competencia?',\n",
        " 'En caso de que sea otro, indicar con quien','Estado_de_Inmueble_1', 'Observaciones','Oportunidades']\n",
        "\n",
        "\n",
        "Farmacia_Perfumería = df[df['Canal']=='Farmacia / Perfumería'][columnas_seleccionadas].copy()"
      ]
    },
    {
      "cell_type": "markdown",
      "metadata": {
        "id": "MVHN-9VLeq73"
      },
      "source": [
        "## **CONSIGUIENDO LA INFORMACION RELEVANTE**"
      ]
    },
    {
      "cell_type": "markdown",
      "metadata": {
        "id": "OIaJWPrdeq73"
      },
      "source": [
        "A continuación, procederemos a la declaración de dos listas. La primera de ellas contendrá las columnas que representarán los valores de las marcas, mientras que la segunda lista estará compuesta por las columnas que permanecerán constantes y no experimentarán cambios. Esta distinción es esencial para organizar y estructurar de manera eficiente el DataFrame en el proceso subsiguiente. La primera lista alberga aquellas columnas que desempeñarán un papel clave en la representación de las marcas, mientras que la segunda lista preserva las columnas inalteradas, garantizando su integridad y consistencia en todo momento."
      ]
    },
    {
      "cell_type": "markdown",
      "metadata": {
        "id": "AymOkR5Ieq73"
      },
      "source": [
        "A continuación, procederemos a realizar una operación de pivoteo en las columnas de nuestro DataFrame. En una primera fase, pivotaremos exclusivamente las columnas que representan las marcas de productos. Este proceso permitirá que dichas columnas sean reorganizadas y presentadas en filas en lugar de columnas.\n",
        "\n",
        "Este es el resultado de la operación de pivoteo:\n",
        "\n",
        "| Tipo     | Marca1 | Marca2 | Marca3 |\n",
        "|----------|--------|--------|--------|\n",
        "| Negocio1 | Sí     | No     | Sí     |\n",
        "| Negocio2 | No     | Sí     | No     |\n",
        "| Negocio3 | Sí     | Sí     | Sí     |\n",
        "\n",
        "\n",
        "Después del pivoteo:\n",
        "\n",
        "| Tipo     | Marca  | Tiene |\n",
        "|----------|--------|-------|\n",
        "| Negocio1 | Marca1 | Sí    |\n",
        "| Negocio1 | Marca2 | No    |\n",
        "| Negocio1 | Marca3 | Sí    |\n",
        "| Negocio2 | Marca1 | No    |\n",
        "| Negocio2 | Marca2 | Sí    |\n",
        "| Negocio2 | Marca3 | No    |\n",
        "| Negocio3 | Marca1 | Sí    |\n",
        "| Negocio3 | Marca2 | Sí    |\n",
        "| Negocio3 | Marca3 | Sí    |"
      ]
    },
    {
      "cell_type": "markdown",
      "metadata": {
        "id": "aTlqlCYbeq73"
      },
      "source": [
        "Previo a llevar a cabo la operación de pivoteo en las columnas que representan las marcas de productos, es crucial realizar una validación de los valores contenidos en dichas columnas. Nuestro objetivo es identificar si existen valores diferentes de \"0\" y \"1\" en estas columnas. Esta comprobación es fundamental para asegurar la integridad y consistencia de los datos.\n",
        "\n",
        "La finalidad de esta verificación es garantizar que las columnas de marcas solo contengan valores binarios (es decir, \"0\" o \"1\"), lo que facilitará el proceso de pivoteo y la representación de las marcas como filas. Cualquier valor diferente a estos dos podría causar incongruencias en la operación de pivoteo y, por lo tanto, se considera un paso crítico en el proceso de preparación de datos."
      ]
    },
    {
      "cell_type": "markdown",
      "metadata": {
        "id": "jFjleYoveq74"
      },
      "source": [
        "Procedemos a la operación de pivoteo en las columnas de interés. Este proceso es esencial para reorganizar y reestructurar los datos de manera que sean más adecuados para análisis posteriores. El pivoteo de las columnas seleccionadas permitirá una representación más efectiva de los datos y facilitará su interpretación y análisis."
      ]
    },
    {
      "cell_type": "code",
      "execution_count": null,
      "metadata": {
        "id": "CBXI5j7yeq74",
        "outputId": "e1cbc060-b36a-43ee-b450-75995b44963f"
      },
      "outputs": [
        {
          "name": "stdout",
          "output_type": "stream",
          "text": [
            "['Fecha de inicio', 'Hora inicio', 'Coordenadas inicio', 'Fecha completado', 'Hora completado', 'Coordenadas fin', 'Identificador de persona de interés', 'Nombre de persona de interés', 'Identificador del punto de interés', 'Nombre del punto de interés', 'Departamento del punto de interés', 'Dirección del punto de interés', 'Provincia', 'Departamentos', 'Localidad', 'Tipo de Punto de Venta', 'Razón Social', 'CUIT', 'Papeles?', 'Canal', 'Cantidad de Cajas(Autoservicio)', 'Cantidad de Góndolas(Autoservicio)', 'Tiene Verdulería(Autoservicio)', 'Tiene Fiambrería(Autoservicio)', 'Heladeras con lacteos(Autoservicio)', 'Heladeras con bebidas(Autoservicio)', 'Cantidad de heladeras', 'Cantidad de Exhibidores de primeras marcas (Lays/Gaseosas/Cervezas)(Almacen)', 'Tiene surtido de vinos(Almacen)', 'Tiene Heladera de lácteos(Almacen)', 'Tiene gondola(Maxi Kiosco)', 'En caso de que si tenga gondola, cuan llena esta?(Maxi Kiosco)', 'Tiene exhibidor de chicles/caramelos(Maxi Kiosco)', 'En caso de tener exhibidor de chicles/caramelos, cuan lleno esta?(Maxi Kiosco)', 'No tiene servicios adicionales(Maxi Kiosco)', 'Fotocopias(Maxi Kiosco)', 'RapiPago(Maxi Kiosco)', 'Tramites(Maxi Kiosco)', 'SUBE(Maxi Kiosco)', 'Cuan llena estan las estanterias(Kiosco Ventana)', 'Estado de inmueble', 'Comercializa chocolates(Vinoteca)', 'Comercializa productos de kiosco(farmacia)', 'Modalidad de Venta(Goloteca/Golsineria)', 'Tabletas(Goloteca/Golsineria)', 'Bombones(Goloteca/Golsineria)', 'Alfajores(Goloteca/Golsineria)', 'Chicles(Goloteca/Golsineria)', 'Caramelos(Goloteca/Golsineria)', 'Galletas(Goloteca/Golsineria)', 'Topline.5', 'Cantidad de góndolas/estanterías(Dietetica)', 'BC(Dietetica)', 'Aguila(Dietetica)', 'CerealMix(Dietetica)', 'Turrón Arcor(Dietetica)', 'Chocolate sin Azúcar Georgalos(Dietetica)', 'Llenado de estanterías(Dietetica)', 'Georgalos(Dietetica)', 'Cigarros(Dietetica)', 'Trabaja con?', 'Distribuidor', 'Frecuencia de Visita', 'Frecuencia de entrega', 'Se acerca un repositor de Mondelez?', 'Se acerca un repositor de la competencia?', 'En caso de que sea otro, indicar con quien', 'Aplicaciones B2B', 'BEES', 'Serenisima', 'Massalin', 'Observaciones', 'Oreo_1', 'Cadbury_1', 'Milka_1', 'Toblerone_1', 'Halls_1', 'Tang_1', 'Club_Social_1', 'Royal_1', 'Clight_1', 'Terrabusi_1', 'Variedad_1', 'Beldent_1', 'Bubaloo_1', 'Criollitas_1', 'Diversion_1', 'Flics_1', 'Formis_1', 'Cofler_1', 'Hogareñas_1', 'Kesitas_1', 'La_campagnola_1', 'Macucas_1', 'Maná_1', 'Mellizas_1', 'Menthoplus_1', 'Merengadas_1', 'Mogul_1', 'Mister_Pops_1', 'Natural_Break_1', 'Nereida_1', 'Opera_1', 'Poncho_Negro_1', 'Porteñitas_1', 'Seven_1', 'Topline_1', 'Toddy_1', 'Nucream_1', 'Full_mani_1', 'Sin_azucares_1', 'Bazooka_1', 'Palitos_de_la_selva_1', 'Flow_cereal_1', 'Flynnies_yogur_1', 'Mantecol_1', 'Philipp_Morris_1', 'Malboro_1', 'Lucky_Strike_1', 'Chesterfields_1', 'Red_Point_1', 'Melbour_1', 'Stella_Artois_1', 'Quilmes_1', 'Patagonia_1', 'Corona_1', 'Budweisser_1', 'Brahma_1', 'Andes_1', 'Coca_Cola_1', 'Fanta_1', 'Sprite_1', 'Schweppes_1', 'powerade_1', 'Cepita_1', 'Pepsi_1', 'Seven_U_1', 'Tropicana_1', 'Quaker_1', 'Lays_1', 'Doritos_1', 'Cheetos_1', 'Gatorade_1', 'Paso_de_los_toros_1', 'Mirinda_1', 'H2OH!_1', 'MDLZ_1', 'Arcor_1', 'Cantidad_de_heladeras_1', 'Estado_de_Inmueble_1', 'Oportunidades', 'Flynpaff_1']\n"
          ]
        }
      ],
      "source": [
        "nombre_de_columnas = df.columns.tolist()\n",
        "print(nombre_de_columnas)"
      ]
    },
    {
      "cell_type": "code",
      "execution_count": null,
      "metadata": {
        "id": "gBC6koWdeq74"
      },
      "outputs": [],
      "source": [
        "# Hacemos una lista con las columnas que queremos pivotear.\n",
        "Marcas = ['Oreo_1', 'Cadbury_1', 'Milka_1', 'Toblerone_1', 'Halls_1', 'Tang_1', 'Club_Social_1', 'Royal_1', 'Clight_1', 'Terrabusi_1', 'Variedad_1', 'Beldent_1', 'Bubaloo_1', 'Criollitas_1', 'Diversion_1', 'Flics_1', 'Formis_1', 'Cofler_1', 'Hogareñas_1', 'Kesitas_1', 'La_campagnola_1', 'Macucas_1', 'Maná_1', 'Mellizas_1', 'Menthoplus_1', 'Merengadas_1', 'Mogul_1', 'Mister_Pops_1', 'Natural_Break_1', 'Nereida_1', 'Opera_1', 'Poncho_Negro_1', 'Porteñitas_1', 'Seven_1', 'Topline_1', 'Toddy_1', 'Flynpaff_1', 'Nucream_1', 'Full_mani_1', 'Sin_azucares_1', 'Bazooka_1', 'Palitos_de_la_selva_1', 'Flow_cereal_1', 'Flynnies_yogur_1', 'Mantecol_1', 'Philipp_Morris_1', 'Malboro_1', 'Lucky_Strike_1', 'Chesterfields_1', 'Red_Point_1', 'Melbour_1', 'Stella_Artois_1', 'Quilmes_1', 'Patagonia_1', 'Corona_1', 'Budweisser_1', 'Brahma_1', 'Andes_1', 'Coca_Cola_1', 'Fanta_1', 'Sprite_1', 'Schweppes_1', 'powerade_1', 'Cepita_1', 'Pepsi_1', 'Seven_U_1', 'Tropicana_1', 'Quaker_1', 'Lays_1', 'Doritos_1', 'Cheetos_1', 'Gatorade_1', 'Paso_de_los_toros_1', 'Mirinda_1', 'H2OH!_1']"
      ]
    },
    {
      "cell_type": "code",
      "execution_count": null,
      "metadata": {
        "id": "CLR1K7BDeq74",
        "outputId": "8171b6a2-3b15-4d7f-a3fc-28c700fcadc9"
      },
      "outputs": [
        {
          "name": "stdout",
          "output_type": "stream",
          "text": [
            "['Fecha de inicio', 'Hora inicio', 'Coordenadas inicio', 'Fecha completado', 'Hora completado', 'Coordenadas fin', 'Identificador de persona de interés', 'Nombre de persona de interés', 'Identificador del punto de interés', 'Nombre del punto de interés', 'Departamento del punto de interés', 'Dirección del punto de interés', 'Provincia', 'Departamentos', 'Localidad', 'Tipo de Punto de Venta', 'Razón Social', 'CUIT', 'Papeles?', 'Canal', 'Cantidad de Cajas(Autoservicio)', 'Cantidad de Góndolas(Autoservicio)', 'Tiene Verdulería(Autoservicio)', 'Tiene Fiambrería(Autoservicio)', 'Heladeras con lacteos(Autoservicio)', 'Heladeras con bebidas(Autoservicio)', 'Cantidad de heladeras', 'Cantidad de Exhibidores de primeras marcas (Lays/Gaseosas/Cervezas)(Almacen)', 'Tiene surtido de vinos(Almacen)', 'Tiene Heladera de lácteos(Almacen)', 'Tiene gondola(Maxi Kiosco)', 'En caso de que si tenga gondola, cuan llena esta?(Maxi Kiosco)', 'Tiene exhibidor de chicles/caramelos(Maxi Kiosco)', 'En caso de tener exhibidor de chicles/caramelos, cuan lleno esta?(Maxi Kiosco)', 'No tiene servicios adicionales(Maxi Kiosco)', 'Fotocopias(Maxi Kiosco)', 'RapiPago(Maxi Kiosco)', 'Tramites(Maxi Kiosco)', 'SUBE(Maxi Kiosco)', 'Cuan llena estan las estanterias(Kiosco Ventana)', 'Estado de inmueble', 'Comercializa chocolates(Vinoteca)', 'Comercializa productos de kiosco(farmacia)', 'Modalidad de Venta(Goloteca/Golsineria)', 'Tabletas(Goloteca/Golsineria)', 'Bombones(Goloteca/Golsineria)', 'Alfajores(Goloteca/Golsineria)', 'Chicles(Goloteca/Golsineria)', 'Caramelos(Goloteca/Golsineria)', 'Galletas(Goloteca/Golsineria)', 'Topline.5', 'Cantidad de góndolas/estanterías(Dietetica)', 'BC(Dietetica)', 'Aguila(Dietetica)', 'CerealMix(Dietetica)', 'Turrón Arcor(Dietetica)', 'Chocolate sin Azúcar Georgalos(Dietetica)', 'Llenado de estanterías(Dietetica)', 'Georgalos(Dietetica)', 'Cigarros(Dietetica)', 'Trabaja con?', 'Distribuidor', 'Frecuencia de Visita', 'Frecuencia de entrega', 'Se acerca un repositor de Mondelez?', 'Se acerca un repositor de la competencia?', 'En caso de que sea otro, indicar con quien', 'Aplicaciones B2B', 'BEES', 'Serenisima', 'Massalin', 'Observaciones', 'MDLZ_1', 'Arcor_1', 'Cantidad_de_heladeras_1', 'Estado_de_Inmueble_1', 'Oportunidades']\n"
          ]
        }
      ],
      "source": [
        "#hacemos una lista de las columnas que no queremos pivotear.\n",
        "columas_que_no_cambiaran= [columna for columna in df.columns if columna not in Marcas]\n",
        "print(columas_que_no_cambiaran)"
      ]
    },
    {
      "cell_type": "code",
      "execution_count": null,
      "metadata": {
        "id": "19xf5xUeeq74"
      },
      "outputs": [],
      "source": [
        "#Se realiza la pivotacion de las columnas de interes relacionadas a las marcas.\n",
        "df_bi = pd.melt(df, id_vars=columas_que_no_cambiaran, value_vars=Marcas, var_name='Marcas', value_name='Tiene')"
      ]
    },
    {
      "cell_type": "markdown",
      "metadata": {
        "id": "Vmv3q3oweq75"
      },
      "source": [
        "## **RESUMEN GENERAL DE LOS PASOS QUE HEMOS COMPLETADO HASTA EL MOMENTO:**\n",
        "\n",
        "1) Realizamos la limpieza de datos inicial para asegurarnos de que la base de datos esté en un estado funcional y libre de información innecesaria o irrelevante.\n",
        "\n",
        "2) Generamos un DataFrame denominado \"reporte\" con el propósito de habilitar un seguimiento detallado del proceso de censo y proporcionar una visión exhaustiva de las actividades relacionadas con esta acción.\n",
        "\n",
        "3) Unificamos los valores de las columnas relacionadas con las marcas para garantizar la coherencia y la uniformidad de la información.\n",
        "\n",
        "4) Creamos DataFrames específicos para los puntos de venta de \"vinoteca\" y \"farmacia\", ya que a estos puntos de venta no se les realizan preguntas específicas acerca de marcas.\n",
        "\n",
        "5) Realizamos una pivotación de las columnas relacionadas con las marcas para crear un DataFrame llamado \"df_bi\", que nos permite analizar la presencia de marcas en los diferentes puntos de venta de manera más eficiente.\n",
        "\n",
        "\n",
        "Entendido, lo siguiente en el proceso es crear DataFrames para los puntos de venta a los que se les realizan preguntas acerca de las marcas. Para lograr esto, utilizaremos el DataFrame denominado \"df_bi\" como punto de partida, ya que este contiene las columnas de marcas unificadas en una sola, lo que facilitará la generación de DataFrames específicos para cada uno de estos puntos de venta. Este enfoque permitirá un manejo más eficiente de los datos y una mayor coherencia en el análisis de las marcas en los diferentes tipos de establecimientos."
      ]
    },
    {
      "cell_type": "code",
      "execution_count": null,
      "metadata": {
        "id": "BZjbVOmYeq75"
      },
      "outputs": [],
      "source": [
        "columnas_seleccionadas = ['Fecha de inicio', 'Hora inicio', 'Coordenadas inicio', 'Fecha completado',\n",
        " 'Hora completado', 'Coordenadas fin', 'Identificador de persona de interés',\n",
        " 'Nombre de persona de interés', 'Identificador del punto de interés',\n",
        " 'Nombre del punto de interés', 'Departamento del punto de interés',\n",
        " 'Dirección del punto de interés', 'Provincia', 'Departamentos', 'Localidad',\n",
        " 'Tipo de Punto de Venta', 'Razón Social', 'CUIT', 'Papeles?', 'Canal',\n",
        " 'Cantidad de Cajas(Autoservicio)', 'Cantidad de Góndolas(Autoservicio)',\n",
        " 'Tiene Verdulería(Autoservicio)', 'Tiene Fiambrería(Autoservicio)',\n",
        " 'Heladeras con lacteos(Autoservicio)', 'Heladeras con bebidas(Autoservicio)',\n",
        " 'Trabaja con?', 'Distribuidor', 'Frecuencia de Visita', 'Frecuencia de entrega',\n",
        " 'Se acerca un repositor de Mondelez?', 'Se acerca un repositor de la competencia?',\n",
        " 'En caso de que sea otro, indicar con quien', 'Aplicaciones B2B', 'BEES', 'Serenisima',\n",
        " 'MDLZ_1', 'Arcor_1','Marcas','Tiene', 'Cantidad_de_heladeras_1', 'Estado_de_Inmueble_1','Observaciones','Oportunidades']\n",
        "\n",
        "Autoservicio_chino = df_bi[df_bi['Canal']=='Autoservicio / Chino'][columnas_seleccionadas].copy()\n"
      ]
    },
    {
      "cell_type": "code",
      "execution_count": null,
      "metadata": {
        "id": "DFP8TKpLeq75"
      },
      "outputs": [],
      "source": [
        "columnas_seleccionadas = ['Fecha de inicio', 'Hora inicio','Coordenadas inicio', 'Fecha completado',\n",
        "           'Hora completado', 'Coordenadas fin', 'ID_censista',\n",
        "           'Nombre de persona de interés', 'Identificador del punto de interés',\n",
        "           'Nombre del punto de interés', 'Departamento del punto de interés',\n",
        "           'Dirección del punto de interés', 'Provincia', 'Departamentos', 'Localidad',\n",
        "           'Tipo de Punto de Venta', 'Razón Social', 'CUIT', 'Papeles?', 'Canal',\n",
        "           'Cantidad de Exhibidores de primeras marcas (Lays/Gaseosas/Cervezas)(Almacen)',\n",
        "           'Tiene surtido de vinos(Almacen)', 'Tiene Heladera de lácteos(Almacen)','Trabaja con?',\n",
        "           'Distribuidor', 'Frecuencia de Visita', 'Frecuencia de entrega', 'Se acerca un repositor de Mondelez?',\n",
        "           'Se acerca un repositor de la competencia?', 'En caso de que sea otro, indicar con quien',\n",
        "           'Aplicaciones B2B', 'BEES', 'Serenisima', 'Massalin', 'Observaciones', 'MDLZ_1',\n",
        "           'Arcor_1', 'Cantidad_de_heladeras_1', 'Estado_de_Inmueble_1','Oportunidades']\n",
        "\n",
        "\n",
        "\n",
        "almacén = df_bi[df_bi['Canal']=='Almacén'][columnas_seleccionadas].copy()\n"
      ]
    },
    {
      "cell_type": "code",
      "execution_count": null,
      "metadata": {
        "id": "jJptn9rHeq75"
      },
      "outputs": [],
      "source": [
        "columnas_seleccionadas = ['Fecha de inicio', 'Hora inicio', 'Coordenadas inicio', 'Fecha completado',\n",
        " 'Hora completado', 'Coordenadas fin', 'ID_censista',\n",
        " 'Nombre de persona de interés', 'Identificador del punto de interés', 'Nombre del punto de interés',\n",
        " 'Departamento del punto de interés', 'Dirección del punto de interés', 'Provincia', 'Departamentos',\n",
        " 'Localidad', 'Tipo de Punto de Venta', 'Razón Social', 'CUIT', 'Papeles?', 'Canal',\n",
        " 'Tiene gondola(Maxi Kiosco)', 'En caso de que si tenga gondola, cuan llena esta?(Maxi Kiosco)',\n",
        " 'Tiene exhibidor de chicles/caramelos(Maxi Kiosco)',\n",
        " 'En caso de tener exhibidor de chicles/caramelos, cuan lleno esta?(Maxi Kiosco)',\n",
        " 'No tiene servicios adicionales(Maxi Kiosco)', 'Fotocopias(Maxi Kiosco)', 'RapiPago(Maxi Kiosco)',\n",
        " 'Tramites(Maxi Kiosco)', 'SUBE(Maxi Kiosco)','Trabaja con?', 'Distribuidor', 'Frecuencia de Visita',\n",
        " 'Frecuencia de entrega', 'Se acerca un repositor de Mondelez?', 'Se acerca un repositor de la competencia?',\n",
        " 'En caso de que sea otro, indicar con quien', 'Aplicaciones B2B', 'BEES', 'Serenisima', 'Massalin',\n",
        " 'Observaciones','Oportunidades', 'MDLZ_1', 'Arcor_1', 'Cantidad_de_heladeras_1', 'Estado_de_Inmueble_1']\n",
        "\n",
        "Maxi_Kiosco = df_bi[df_bi['Canal']=='Maxi Kiosco'][columnas_seleccionadas].copy()"
      ]
    },
    {
      "cell_type": "code",
      "execution_count": null,
      "metadata": {
        "id": "hYyFF9Dyeq75"
      },
      "outputs": [],
      "source": [
        "columnas_seleccionadas = ['Fecha de inicio', 'Hora inicio', 'Coordenadas inicio', 'Fecha completado',\n",
        " 'Hora completado', 'Coordenadas fin', 'ID_censista',\n",
        " 'Nombre de persona de interés', 'Identificador del punto de interés',\n",
        " 'Nombre del punto de interés', 'Departamento del punto de interés',\n",
        " 'Dirección del punto de interés', 'Provincia', 'Departamentos', 'Localidad',\n",
        " 'Tipo de Punto de Venta', 'Razón Social', 'CUIT', 'Papeles?', 'Canal',\n",
        " 'Cuan llena estan las estanterias(Kiosco Ventana)','Trabaja con?', 'Distribuidor',\n",
        " 'Frecuencia de Visita', 'Frecuencia de entrega', 'Se acerca un repositor de Mondelez?',\n",
        " 'Se acerca un repositor de la competencia?', 'En caso de que sea otro, indicar con quien',\n",
        " 'Aplicaciones B2B', 'BEES', 'Serenisima', 'Massalin', 'Observaciones', 'MDLZ_1', 'Arcor_1',\n",
        " 'Cantidad_de_heladeras_1', 'Estado_de_Inmueble_1','Oportunidades','Marcas', 'Tiene']\n",
        "\n",
        "Kiosco_ventana = df_bi[df_bi['Canal']=='Kiosco Ventana'][columnas_seleccionadas].copy()"
      ]
    },
    {
      "cell_type": "code",
      "execution_count": null,
      "metadata": {
        "id": "oNh_sJCBeq76",
        "outputId": "2085b62d-f3de-4f94-88ec-959577780d87"
      },
      "outputs": [
        {
          "data": {
            "text/plain": [
              "array(['Maxi Kiosco', 'Kiosco Ventana', 'Almacén', 'Confitería',\n",
              "       'Farmacia / Perfumería', 'Vinoteca', 'Verdulería', 'Retaurant',\n",
              "       'Escuelas', 'Bar', 'Centro educativo', 'Panadería',\n",
              "       'Centro de salud', 'Pollería', 'Heladerías', 'Rotisería', 'Bingo',\n",
              "       'Autoservicio / Chino', 'Hotel', 'Salon de eventos', 'Pescadería',\n",
              "       'Carnicería', 'Dietetíca', 'Clubes', 'Pádel', 'Futbol 5',\n",
              "       'Pelotero', 'Goloteca', 'Fiambrería', 'Universidades', 'Club',\n",
              "       'Hospitales', 'Golsinería', 'Cine', 'Country'], dtype=object)"
            ]
          },
          "execution_count": 646,
          "metadata": {},
          "output_type": "execute_result"
        }
      ],
      "source": [
        "df['Canal'].unique()"
      ]
    },
    {
      "cell_type": "code",
      "execution_count": null,
      "metadata": {
        "id": "a0b3c6lyeq76"
      },
      "outputs": [],
      "source": [
        "columnas_seleccionadas= ['Fecha de inicio', 'Hora inicio', 'Coordenadas inicio', 'Fecha completado',\n",
        " 'Hora completado', 'Coordenadas fin', 'ID_censista',\n",
        " 'Nombre de persona de interés', 'Identificador del punto de interés',\n",
        " 'Nombre del punto de interés', 'Departamento del punto de interés',\n",
        " 'Dirección del punto de interés', 'Provincia', 'Departamentos', 'Localidad',\n",
        " 'Tipo de Punto de Venta', 'Razón Social', 'CUIT', 'Papeles?', 'Canal',\n",
        " 'Modalidad de Venta(Goloteca/Golsineria)', 'Tabletas(Goloteca/Golsineria)',\n",
        " 'Bombones(Goloteca/Golsineria)', 'Alfajores(Goloteca/Golsineria)',\n",
        " 'Chicles(Goloteca/Golsineria)', 'Caramelos(Goloteca/Golsineria)', 'Galletas(Goloteca/Golsineria)', 'Distribuidor',\n",
        " 'Frecuencia de Visita', 'Frecuencia de entrega', 'Se acerca un repositor de Mondelez?',\n",
        " 'Se acerca un repositor de la competencia?', 'En caso de que sea otro, indicar con quien',\n",
        " 'Aplicaciones B2B', 'BEES', 'Serenisima', 'Massalin', 'Observaciones', 'MDLZ_1', 'Arcor_1', 'Cantidad_de_heladeras_1',\n",
        " 'Estado_de_Inmueble_1','Oportunidades','Marcas', 'Tiene']\n",
        "\n",
        "\n",
        "\n",
        "Goloteca_Golsineria = df_bi[(df_bi['Canal'] == 'Goloteca') | (df_bi['Canal'] == 'Golsinería')][columnas_seleccionadas].copy()\n",
        "\n"
      ]
    },
    {
      "cell_type": "code",
      "execution_count": null,
      "metadata": {
        "id": "QrLzrm4Keq76"
      },
      "outputs": [],
      "source": [
        "columnas_seleccionadas =['Fecha de inicio', 'Hora inicio', 'Coordenadas inicio', 'Fecha completado',\n",
        " 'Hora completado', 'Coordenadas fin', 'ID_censista',\n",
        " 'Nombre de persona de interés', 'Identificador del punto de interés',\n",
        " 'Nombre del punto de interés', 'Departamento del punto de interés',\n",
        " 'Dirección del punto de interés', 'Provincia', 'Departamentos', 'Localidad',\n",
        " 'Tipo de Punto de Venta', 'Razón Social', 'CUIT', 'Papeles?', 'Canal',\n",
        " 'Cantidad de góndolas/estanterías(Dietetica)', 'BC(Dietetica)', 'Aguila(Dietetica)',\n",
        " 'CerealMix(Dietetica)', 'Turrón Arcor(Dietetica)', 'Chocolate sin Azúcar Georgalos(Dietetica)',\n",
        " 'Llenado de estanterías(Dietetica)', 'Georgalos(Dietetica)', 'Cigarros(Dietetica)', 'Trabaja con?',\n",
        " 'Distribuidor', 'Frecuencia de Visita', 'Frecuencia de entrega', 'Se acerca un repositor de Mondelez?',\n",
        " 'Se acerca un repositor de la competencia?', 'En caso de que sea otro, indicar con quien',\n",
        " 'Aplicaciones B2B', 'BEES', 'Serenisima', 'Massalin', 'Observaciones','Oportunidades']\n",
        "\n",
        "Dietética = df_bi[df_bi['Canal']=='Dietetíca'][columnas_seleccionadas].copy()"
      ]
    },
    {
      "cell_type": "markdown",
      "metadata": {
        "id": "8t-isox3eq76"
      },
      "source": []
    },
    {
      "cell_type": "markdown",
      "metadata": {
        "id": "jSXiplf9eq76"
      },
      "source": [
        "Entiendo que una vez que hayamos creado un DataFrame individual para cada tipo de punto de venta, la información relativa a estos puntos de venta ya no será necesaria en el DataFrame original. Al eliminar estos puntos de venta y las columnas relacionadas con las preguntas específicas para ellos, obtendremos un DataFrame que se centrará en los locales que no son puntos de venta. Este enfoque nos permitirá analizar las diversas oportunidades y el desempeño de los demás locales, que pueden ser o no potenciales clientes, de manera más clara y efectiva."
      ]
    },
    {
      "cell_type": "code",
      "execution_count": null,
      "metadata": {
        "id": "f7MsDV_3eq77"
      },
      "outputs": [],
      "source": [
        "#Eliminamos las columnas\n",
        "columnas_a_eliminar = [\n",
        "'Cantidad de Cajas(Autoservicio)', 'Cantidad de Góndolas(Autoservicio)', 'Tiene Verdulería(Autoservicio)',\n",
        "'Tiene Fiambrería(Autoservicio)', 'Heladeras con lacteos(Autoservicio)', 'Heladeras con bebidas(Autoservicio)',\n",
        "'Cantidad de Exhibidores de primeras marcas (Lays/Gaseosas/Cervezas)(Almacen)', 'Tiene surtido de vinos(Almacen)',\n",
        "'Tiene Heladera de lácteos(Almacen)', 'Tiene gondola(Maxi Kiosco)', 'En caso de que si tenga gondola, cuan llena esta?(Maxi Kiosco)',\n",
        "'Tiene exhibidor de chicles/caramelos(Maxi Kiosco)', 'En caso de tener exhibidor de chicles/caramelos, cuan lleno esta?(Maxi Kiosco)',\n",
        "'No tiene servicios adicionales(Maxi Kiosco)', 'Fotocopias(Maxi Kiosco)', 'RapiPago(Maxi Kiosco)', 'Tramites(Maxi Kiosco)',\n",
        "'SUBE(Maxi Kiosco)', 'Cuan llena estan las estanterias(Kiosco Ventana)', 'Comercializa chocolates(Vinoteca)',\n",
        "'Comercializa productos de kiosco(farmacia)', 'Modalidad de Venta(Goloteca/Golsineria)', 'Tabletas(Goloteca/Golsineria)',\n",
        "'Bombones(Goloteca/Golsineria)', 'Alfajores(Goloteca/Golsineria)', 'Chicles(Goloteca/Golsineria)',\n",
        "'Caramelos(Goloteca/Golsineria)', 'Galletas(Goloteca/Golsineria)', 'Cantidad de góndolas/estanterías(Dietetica)', 'BC(Dietetica)',\n",
        "'Aguila(Dietetica)', 'CerealMix(Dietetica)', 'Turrón Arcor(Dietetica)', 'Chocolate sin Azúcar Georgalos(Dietetica)',\n",
        "'Llenado de estanterías(Dietetica)', 'Georgalos(Dietetica)', 'Cigarros(Dietetica)',\n",
        "'Oreo_1', 'Cadbury_1', 'Milka_1', 'Toblerone_1', 'Halls_1', 'Tang_1', 'Club_Social_1', 'Royal_1', 'Clight_1', 'Terrabusi_1', 'Variedad_1',\n",
        "'Beldent_1', 'Bubaloo_1', 'Criollitas_1', 'Diversion_1', 'Flics_1', 'Formis_1', 'Cofler_1', 'Hogareñas_1', 'Kesitas_1',\n",
        "'La_campagnola_1', 'Macucas_1', 'Maná_1', 'Mellizas_1', 'Menthoplus_1', 'Merengadas_1', 'Mogul_1', 'Mister_Pops_1',\n",
        "'Natural_Break_1', 'Nereida_1', 'Opera_1', 'Poncho_Negro_1', 'Porteñitas_1', 'Seven_1', 'Topline_1', 'Toddy_1', 'Flynpaff_1',\n",
        "'Nucream_1', 'Full_mani_1', 'Sin_azucares_1', 'Bazooka_1', 'Palitos_de_la_selva_1', 'Flow_cereal_1',\n",
        "'Flynnies_yogur_1', 'Mantecol_1', 'Philipp_Morris_1', 'Malboro_1', 'Lucky_Strike_1', 'Chesterfields_1', 'Red_Point_1',\n",
        "'Melbour_1', 'Stella_Artois_1', 'Quilmes_1', 'Patagonia_1', 'Corona_1', 'Budweisser_1', 'Brahma_1', 'Andes_1',\n",
        "'Coca_Cola_1', 'Fanta_1', 'Sprite_1', 'Schweppes_1', 'powerade_1', 'Cepita_1', 'Pepsi_1', 'Seven_U_1',\n",
        "'Tropicana_1', 'Quaker_1', 'Lays_1', 'Doritos_1', 'Cheetos_1', 'Gatorade_1', 'Paso_de_los_toros_1', 'Mirinda_1', 'H2OH!_1', 'MDLZ_1', 'Arcor_1', 'Cantidad_de_heladeras_1'\n",
        "]\n",
        "\n",
        "# Filtrar el DataFrame df para eliminar las columnas con los valores especificados\n",
        "df = df.drop(columns=columnas_a_eliminar)\n"
      ]
    },
    {
      "cell_type": "code",
      "execution_count": null,
      "metadata": {
        "id": "zK2RaVODeq77"
      },
      "outputs": [],
      "source": [
        "#Eliminamos las filas\n",
        "valores_a_eliminar = ['Autoservicio / Chino', 'Almacén', 'Maxi Kiosco', 'Kiosco Ventana', 'Goloteca', 'Golsinería', 'Dietetíca', 'Farmacia / Perfumería', 'Vinoteca']\n",
        "\n",
        "# Filtrar el DataFrame df para eliminar las filas con los valores específicos en la columna 'Canal'\n",
        "df = df[~df['Canal'].isin(valores_a_eliminar)]\n"
      ]
    },
    {
      "cell_type": "code",
      "execution_count": null,
      "metadata": {
        "id": "GTMO4bFReq77",
        "outputId": "74039bbb-4e2a-4152-f7cb-e9a993a68a6d"
      },
      "outputs": [
        {
          "data": {
            "text/html": [
              "<div>\n",
              "<style scoped>\n",
              "    .dataframe tbody tr th:only-of-type {\n",
              "        vertical-align: middle;\n",
              "    }\n",
              "\n",
              "    .dataframe tbody tr th {\n",
              "        vertical-align: top;\n",
              "    }\n",
              "\n",
              "    .dataframe thead th {\n",
              "        text-align: right;\n",
              "    }\n",
              "</style>\n",
              "<table border=\"1\" class=\"dataframe\">\n",
              "  <thead>\n",
              "    <tr style=\"text-align: right;\">\n",
              "      <th></th>\n",
              "      <th>Fecha de inicio</th>\n",
              "      <th>Hora inicio</th>\n",
              "      <th>Coordenadas inicio</th>\n",
              "      <th>Fecha completado</th>\n",
              "      <th>Hora completado</th>\n",
              "      <th>Coordenadas fin</th>\n",
              "      <th>Identificador de persona de interés</th>\n",
              "      <th>Nombre de persona de interés</th>\n",
              "      <th>Identificador del punto de interés</th>\n",
              "      <th>Nombre del punto de interés</th>\n",
              "      <th>...</th>\n",
              "      <th>Se acerca un repositor de Mondelez?</th>\n",
              "      <th>Se acerca un repositor de la competencia?</th>\n",
              "      <th>En caso de que sea otro, indicar con quien</th>\n",
              "      <th>Aplicaciones B2B</th>\n",
              "      <th>BEES</th>\n",
              "      <th>Serenisima</th>\n",
              "      <th>Massalin</th>\n",
              "      <th>Observaciones</th>\n",
              "      <th>Estado_de_Inmueble_1</th>\n",
              "      <th>Oportunidades</th>\n",
              "    </tr>\n",
              "  </thead>\n",
              "  <tbody>\n",
              "    <tr>\n",
              "      <th>17</th>\n",
              "      <td>2023-08-24 10:29:01.137</td>\n",
              "      <td>2023-08-24 10:29:01.137</td>\n",
              "      <td>-31.53954799122159600000,-68.52954749017954000000</td>\n",
              "      <td>2023-08-24 10:33:42.847</td>\n",
              "      <td>2023-08-24 10:33:42.847</td>\n",
              "      <td>-31.53937520000000000000,-68.52986890000000000000</td>\n",
              "      <td>33911439</td>\n",
              "      <td>Gonzalo Mansilla</td>\n",
              "      <td>CR-852300</td>\n",
              "      <td>Cafe Edmyar</td>\n",
              "      <td>...</td>\n",
              "      <td>NaN</td>\n",
              "      <td>NaN</td>\n",
              "      <td>NaN</td>\n",
              "      <td>NaN</td>\n",
              "      <td>NaN</td>\n",
              "      <td>NaN</td>\n",
              "      <td>NaN</td>\n",
              "      <td>NaN</td>\n",
              "      <td></td>\n",
              "      <td>0</td>\n",
              "    </tr>\n",
              "    <tr>\n",
              "      <th>24</th>\n",
              "      <td>2023-08-24 12:06:28.163</td>\n",
              "      <td>2023-08-24 12:06:28.163</td>\n",
              "      <td>-31.54190796160695000000,-68.52950423955917000000</td>\n",
              "      <td>2023-08-24 12:07:21.110</td>\n",
              "      <td>2023-08-24 12:07:21.110</td>\n",
              "      <td>-31.54181460000000000000,-68.52973960000000000000</td>\n",
              "      <td>33911439</td>\n",
              "      <td>Gonzalo Mansilla</td>\n",
              "      <td>SAA-523369</td>\n",
              "      <td>Sagrada familia</td>\n",
              "      <td>...</td>\n",
              "      <td>NaN</td>\n",
              "      <td>NaN</td>\n",
              "      <td>NaN</td>\n",
              "      <td>NaN</td>\n",
              "      <td>NaN</td>\n",
              "      <td>NaN</td>\n",
              "      <td>NaN</td>\n",
              "      <td>NaN</td>\n",
              "      <td></td>\n",
              "      <td>0</td>\n",
              "    </tr>\n",
              "    <tr>\n",
              "      <th>25</th>\n",
              "      <td>2023-08-24 12:18:19.573</td>\n",
              "      <td>2023-08-24 12:18:19.573</td>\n",
              "      <td>-31.53434378709400000000,-68.53032264858484000000</td>\n",
              "      <td>2023-08-24 12:19:17.050</td>\n",
              "      <td>2023-08-24 12:19:17.050</td>\n",
              "      <td>-31.53467800000000000000,-68.53055160000000000000</td>\n",
              "      <td>38459497</td>\n",
              "      <td>Gaspar Martinez</td>\n",
              "      <td>FIA-233909</td>\n",
              "      <td>Fiebre di pizza</td>\n",
              "      <td>...</td>\n",
              "      <td>NaN</td>\n",
              "      <td>NaN</td>\n",
              "      <td>NaN</td>\n",
              "      <td>NaN</td>\n",
              "      <td>NaN</td>\n",
              "      <td>NaN</td>\n",
              "      <td>NaN</td>\n",
              "      <td>NaN</td>\n",
              "      <td></td>\n",
              "      <td>0</td>\n",
              "    </tr>\n",
              "    <tr>\n",
              "      <th>26</th>\n",
              "      <td>2023-08-24 12:20:57.237</td>\n",
              "      <td>2023-08-24 12:20:57.237</td>\n",
              "      <td>-31.54160564641757000000,-68.53117793798447000000</td>\n",
              "      <td>2023-08-24 12:22:48.907</td>\n",
              "      <td>2023-08-24 12:22:48.907</td>\n",
              "      <td>-31.54152000000000000000,-68.53124000000000000000</td>\n",
              "      <td>33911439</td>\n",
              "      <td>Gonzalo Mansilla</td>\n",
              "      <td>COA-536674</td>\n",
              "      <td>Colegio la inmaculada</td>\n",
              "      <td>...</td>\n",
              "      <td>NaN</td>\n",
              "      <td>NaN</td>\n",
              "      <td>NaN</td>\n",
              "      <td>NaN</td>\n",
              "      <td>NaN</td>\n",
              "      <td>NaN</td>\n",
              "      <td>NaN</td>\n",
              "      <td>NaN</td>\n",
              "      <td></td>\n",
              "      <td>0</td>\n",
              "    </tr>\n",
              "    <tr>\n",
              "      <th>27</th>\n",
              "      <td>2023-08-24 12:28:25.753</td>\n",
              "      <td>2023-08-24 12:28:25.753</td>\n",
              "      <td>-31.53354278482648000000,-68.53211402893066000000</td>\n",
              "      <td>2023-08-24 12:29:07.303</td>\n",
              "      <td>2023-08-24 12:29:07.303</td>\n",
              "      <td>-31.53364330000000000000,-68.53178000000000000000</td>\n",
              "      <td>38459497</td>\n",
              "      <td>Gaspar Martinez</td>\n",
              "      <td>SIN-324513</td>\n",
              "      <td>Simon</td>\n",
              "      <td>...</td>\n",
              "      <td>NaN</td>\n",
              "      <td>NaN</td>\n",
              "      <td>NaN</td>\n",
              "      <td>NaN</td>\n",
              "      <td>NaN</td>\n",
              "      <td>NaN</td>\n",
              "      <td>NaN</td>\n",
              "      <td>NaN</td>\n",
              "      <td></td>\n",
              "      <td>0</td>\n",
              "    </tr>\n",
              "    <tr>\n",
              "      <th>...</th>\n",
              "      <td>...</td>\n",
              "      <td>...</td>\n",
              "      <td>...</td>\n",
              "      <td>...</td>\n",
              "      <td>...</td>\n",
              "      <td>...</td>\n",
              "      <td>...</td>\n",
              "      <td>...</td>\n",
              "      <td>...</td>\n",
              "      <td>...</td>\n",
              "      <td>...</td>\n",
              "      <td>...</td>\n",
              "      <td>...</td>\n",
              "      <td>...</td>\n",
              "      <td>...</td>\n",
              "      <td>...</td>\n",
              "      <td>...</td>\n",
              "      <td>...</td>\n",
              "      <td>...</td>\n",
              "      <td>...</td>\n",
              "      <td>...</td>\n",
              "    </tr>\n",
              "    <tr>\n",
              "      <th>15298</th>\n",
              "      <td>2023-10-25 21:36:10.373</td>\n",
              "      <td>2023-10-25 21:36:10.373</td>\n",
              "      <td>-31.56930970831899000000,-68.51958911865950000000</td>\n",
              "      <td>2023-10-25 21:36:23.873</td>\n",
              "      <td>2023-10-25 21:36:23.873</td>\n",
              "      <td>-31.56922310000000000000,-68.51965070000000000000</td>\n",
              "      <td>33911439</td>\n",
              "      <td>Gonzalo Mansilla</td>\n",
              "      <td>CEO-324408</td>\n",
              "      <td>CENTRO VALENCIANO</td>\n",
              "      <td>...</td>\n",
              "      <td>NaN</td>\n",
              "      <td>NaN</td>\n",
              "      <td>NaN</td>\n",
              "      <td>NaN</td>\n",
              "      <td>NaN</td>\n",
              "      <td>NaN</td>\n",
              "      <td>NaN</td>\n",
              "      <td>NaN</td>\n",
              "      <td></td>\n",
              "      <td>0</td>\n",
              "    </tr>\n",
              "    <tr>\n",
              "      <th>15299</th>\n",
              "      <td>2023-10-25 21:40:33.170</td>\n",
              "      <td>2023-10-25 21:40:33.170</td>\n",
              "      <td>-31.56713525602811600000,-68.52044541388750000000</td>\n",
              "      <td>2023-10-25 21:40:45.653</td>\n",
              "      <td>2023-10-25 21:40:45.653</td>\n",
              "      <td>-31.56722110000000000000,-68.52040100000000000000</td>\n",
              "      <td>33911439</td>\n",
              "      <td>Gonzalo Mansilla</td>\n",
              "      <td>FIA-630318</td>\n",
              "      <td>FIAMBRERIA LA TABLITA</td>\n",
              "      <td>...</td>\n",
              "      <td>NaN</td>\n",
              "      <td>NaN</td>\n",
              "      <td>NaN</td>\n",
              "      <td>NaN</td>\n",
              "      <td>NaN</td>\n",
              "      <td>NaN</td>\n",
              "      <td>NaN</td>\n",
              "      <td>NaN</td>\n",
              "      <td></td>\n",
              "      <td>0</td>\n",
              "    </tr>\n",
              "    <tr>\n",
              "      <th>15300</th>\n",
              "      <td>2023-10-25 22:14:58.000</td>\n",
              "      <td>2023-10-25 22:14:58.000</td>\n",
              "      <td>-31.55934457596005400000,-68.52222505956888000000</td>\n",
              "      <td>2023-10-25 22:15:14.047</td>\n",
              "      <td>2023-10-25 22:15:14.047</td>\n",
              "      <td>-31.55956870000000000000,-68.52193260000000000000</td>\n",
              "      <td>33911439</td>\n",
              "      <td>Gonzalo Mansilla</td>\n",
              "      <td>PA -822105</td>\n",
              "      <td>PANADERIA LA COLONIAL</td>\n",
              "      <td>...</td>\n",
              "      <td>NaN</td>\n",
              "      <td>NaN</td>\n",
              "      <td>NaN</td>\n",
              "      <td>NaN</td>\n",
              "      <td>NaN</td>\n",
              "      <td>NaN</td>\n",
              "      <td>NaN</td>\n",
              "      <td>NaN</td>\n",
              "      <td></td>\n",
              "      <td>0</td>\n",
              "    </tr>\n",
              "    <tr>\n",
              "      <th>15301</th>\n",
              "      <td>2023-10-25 22:17:04.557</td>\n",
              "      <td>2023-10-25 22:17:04.557</td>\n",
              "      <td>-31.55936885946180600000,-68.52200143039227000000</td>\n",
              "      <td>2023-10-25 22:17:16.830</td>\n",
              "      <td>2023-10-25 22:17:16.830</td>\n",
              "      <td>-31.55962060000000000000,-68.52197050000000000000</td>\n",
              "      <td>33911439</td>\n",
              "      <td>Gonzalo Mansilla</td>\n",
              "      <td>AVS-887882</td>\n",
              "      <td>AVICOLA DON CARLOS</td>\n",
              "      <td>...</td>\n",
              "      <td>NaN</td>\n",
              "      <td>NaN</td>\n",
              "      <td>NaN</td>\n",
              "      <td>NaN</td>\n",
              "      <td>NaN</td>\n",
              "      <td>NaN</td>\n",
              "      <td>NaN</td>\n",
              "      <td>NaN</td>\n",
              "      <td></td>\n",
              "      <td>0</td>\n",
              "    </tr>\n",
              "    <tr>\n",
              "      <th>15302</th>\n",
              "      <td>2023-10-25 22:19:52.433</td>\n",
              "      <td>2023-10-25 22:19:52.433</td>\n",
              "      <td>-31.55875205655828700000,-68.52200813591480000000</td>\n",
              "      <td>2023-10-25 22:20:06.960</td>\n",
              "      <td>2023-10-25 22:20:06.960</td>\n",
              "      <td>-31.55866210000000000000,-68.52204290000000000000</td>\n",
              "      <td>33911439</td>\n",
              "      <td>Gonzalo Mansilla</td>\n",
              "      <td>ESE-514737</td>\n",
              "      <td>ESCUELA CENTRO POLIVALENTE DE ARTE</td>\n",
              "      <td>...</td>\n",
              "      <td>NaN</td>\n",
              "      <td>NaN</td>\n",
              "      <td>NaN</td>\n",
              "      <td>NaN</td>\n",
              "      <td>NaN</td>\n",
              "      <td>NaN</td>\n",
              "      <td>NaN</td>\n",
              "      <td>NaN</td>\n",
              "      <td></td>\n",
              "      <td>0</td>\n",
              "    </tr>\n",
              "  </tbody>\n",
              "</table>\n",
              "<p>8424 rows × 37 columns</p>\n",
              "</div>"
            ],
            "text/plain": [
              "              Fecha de inicio             Hora inicio  \\\n",
              "17    2023-08-24 10:29:01.137 2023-08-24 10:29:01.137   \n",
              "24    2023-08-24 12:06:28.163 2023-08-24 12:06:28.163   \n",
              "25    2023-08-24 12:18:19.573 2023-08-24 12:18:19.573   \n",
              "26    2023-08-24 12:20:57.237 2023-08-24 12:20:57.237   \n",
              "27    2023-08-24 12:28:25.753 2023-08-24 12:28:25.753   \n",
              "...                       ...                     ...   \n",
              "15298 2023-10-25 21:36:10.373 2023-10-25 21:36:10.373   \n",
              "15299 2023-10-25 21:40:33.170 2023-10-25 21:40:33.170   \n",
              "15300 2023-10-25 22:14:58.000 2023-10-25 22:14:58.000   \n",
              "15301 2023-10-25 22:17:04.557 2023-10-25 22:17:04.557   \n",
              "15302 2023-10-25 22:19:52.433 2023-10-25 22:19:52.433   \n",
              "\n",
              "                                      Coordenadas inicio  \\\n",
              "17     -31.53954799122159600000,-68.52954749017954000000   \n",
              "24     -31.54190796160695000000,-68.52950423955917000000   \n",
              "25     -31.53434378709400000000,-68.53032264858484000000   \n",
              "26     -31.54160564641757000000,-68.53117793798447000000   \n",
              "27     -31.53354278482648000000,-68.53211402893066000000   \n",
              "...                                                  ...   \n",
              "15298  -31.56930970831899000000,-68.51958911865950000000   \n",
              "15299  -31.56713525602811600000,-68.52044541388750000000   \n",
              "15300  -31.55934457596005400000,-68.52222505956888000000   \n",
              "15301  -31.55936885946180600000,-68.52200143039227000000   \n",
              "15302  -31.55875205655828700000,-68.52200813591480000000   \n",
              "\n",
              "             Fecha completado         Hora completado  \\\n",
              "17    2023-08-24 10:33:42.847 2023-08-24 10:33:42.847   \n",
              "24    2023-08-24 12:07:21.110 2023-08-24 12:07:21.110   \n",
              "25    2023-08-24 12:19:17.050 2023-08-24 12:19:17.050   \n",
              "26    2023-08-24 12:22:48.907 2023-08-24 12:22:48.907   \n",
              "27    2023-08-24 12:29:07.303 2023-08-24 12:29:07.303   \n",
              "...                       ...                     ...   \n",
              "15298 2023-10-25 21:36:23.873 2023-10-25 21:36:23.873   \n",
              "15299 2023-10-25 21:40:45.653 2023-10-25 21:40:45.653   \n",
              "15300 2023-10-25 22:15:14.047 2023-10-25 22:15:14.047   \n",
              "15301 2023-10-25 22:17:16.830 2023-10-25 22:17:16.830   \n",
              "15302 2023-10-25 22:20:06.960 2023-10-25 22:20:06.960   \n",
              "\n",
              "                                         Coordenadas fin  \\\n",
              "17     -31.53937520000000000000,-68.52986890000000000000   \n",
              "24     -31.54181460000000000000,-68.52973960000000000000   \n",
              "25     -31.53467800000000000000,-68.53055160000000000000   \n",
              "26     -31.54152000000000000000,-68.53124000000000000000   \n",
              "27     -31.53364330000000000000,-68.53178000000000000000   \n",
              "...                                                  ...   \n",
              "15298  -31.56922310000000000000,-68.51965070000000000000   \n",
              "15299  -31.56722110000000000000,-68.52040100000000000000   \n",
              "15300  -31.55956870000000000000,-68.52193260000000000000   \n",
              "15301  -31.55962060000000000000,-68.52197050000000000000   \n",
              "15302  -31.55866210000000000000,-68.52204290000000000000   \n",
              "\n",
              "      Identificador de persona de interés Nombre de persona de interés  \\\n",
              "17                               33911439             Gonzalo Mansilla   \n",
              "24                               33911439             Gonzalo Mansilla   \n",
              "25                               38459497              Gaspar Martinez   \n",
              "26                               33911439             Gonzalo Mansilla   \n",
              "27                               38459497              Gaspar Martinez   \n",
              "...                                   ...                          ...   \n",
              "15298                            33911439             Gonzalo Mansilla   \n",
              "15299                            33911439             Gonzalo Mansilla   \n",
              "15300                            33911439             Gonzalo Mansilla   \n",
              "15301                            33911439             Gonzalo Mansilla   \n",
              "15302                            33911439             Gonzalo Mansilla   \n",
              "\n",
              "      Identificador del punto de interés         Nombre del punto de interés  \\\n",
              "17                             CR-852300                         Cafe Edmyar   \n",
              "24                            SAA-523369                     Sagrada familia   \n",
              "25                            FIA-233909                     Fiebre di pizza   \n",
              "26                            COA-536674               Colegio la inmaculada   \n",
              "27                            SIN-324513                               Simon   \n",
              "...                                  ...                                 ...   \n",
              "15298                         CEO-324408                   CENTRO VALENCIANO   \n",
              "15299                         FIA-630318               FIAMBRERIA LA TABLITA   \n",
              "15300                         PA -822105              PANADERIA LA COLONIAL    \n",
              "15301                         AVS-887882                  AVICOLA DON CARLOS   \n",
              "15302                         ESE-514737  ESCUELA CENTRO POLIVALENTE DE ARTE   \n",
              "\n",
              "       ... Se acerca un repositor de Mondelez?  \\\n",
              "17     ...                                 NaN   \n",
              "24     ...                                 NaN   \n",
              "25     ...                                 NaN   \n",
              "26     ...                                 NaN   \n",
              "27     ...                                 NaN   \n",
              "...    ...                                 ...   \n",
              "15298  ...                                 NaN   \n",
              "15299  ...                                 NaN   \n",
              "15300  ...                                 NaN   \n",
              "15301  ...                                 NaN   \n",
              "15302  ...                                 NaN   \n",
              "\n",
              "      Se acerca un repositor de la competencia?  \\\n",
              "17                                          NaN   \n",
              "24                                          NaN   \n",
              "25                                          NaN   \n",
              "26                                          NaN   \n",
              "27                                          NaN   \n",
              "...                                         ...   \n",
              "15298                                       NaN   \n",
              "15299                                       NaN   \n",
              "15300                                       NaN   \n",
              "15301                                       NaN   \n",
              "15302                                       NaN   \n",
              "\n",
              "      En caso de que sea otro, indicar con quien Aplicaciones B2B BEES  \\\n",
              "17                                           NaN              NaN  NaN   \n",
              "24                                           NaN              NaN  NaN   \n",
              "25                                           NaN              NaN  NaN   \n",
              "26                                           NaN              NaN  NaN   \n",
              "27                                           NaN              NaN  NaN   \n",
              "...                                          ...              ...  ...   \n",
              "15298                                        NaN              NaN  NaN   \n",
              "15299                                        NaN              NaN  NaN   \n",
              "15300                                        NaN              NaN  NaN   \n",
              "15301                                        NaN              NaN  NaN   \n",
              "15302                                        NaN              NaN  NaN   \n",
              "\n",
              "      Serenisima Massalin Observaciones Estado_de_Inmueble_1 Oportunidades  \n",
              "17           NaN      NaN           NaN                                  0  \n",
              "24           NaN      NaN           NaN                                  0  \n",
              "25           NaN      NaN           NaN                                  0  \n",
              "26           NaN      NaN           NaN                                  0  \n",
              "27           NaN      NaN           NaN                                  0  \n",
              "...          ...      ...           ...                  ...           ...  \n",
              "15298        NaN      NaN           NaN                                  0  \n",
              "15299        NaN      NaN           NaN                                  0  \n",
              "15300        NaN      NaN           NaN                                  0  \n",
              "15301        NaN      NaN           NaN                                  0  \n",
              "15302        NaN      NaN           NaN                                  0  \n",
              "\n",
              "[8424 rows x 37 columns]"
            ]
          },
          "execution_count": 651,
          "metadata": {},
          "output_type": "execute_result"
        }
      ],
      "source": [
        "df"
      ]
    },
    {
      "cell_type": "markdown",
      "metadata": {
        "id": "I3kXI0PTeq77"
      },
      "source": [
        "## **HAGAMOS UN REPASO GENERAL**\n",
        "\n",
        "\n",
        "1) Cargamos el informe de actividades en un DataFrame llamado \"df.\"\n",
        "\n",
        "2) Identificamos y eliminamos las columnas que no eran útiles para nuestro análisis, lo que mejoró la eficiencia y claridad de los datos.\n",
        "\n",
        "3) Creamos un nuevo conjunto de datos llamado \"Reporte\" para realizar un seguimiento detallado del censo y mantener una separación estructurada entre los datos generales y los destinados al seguimiento del censo.\n",
        "\n",
        "4) Realizamos un proceso de pivoteo en las columnas relacionadas con las marcas de productos, lo que resultó en un DataFrame llamado \"df_bi\" para gestionar eficazmente los valores de estas columnas.\n",
        "\n",
        "5) Creamos un tercer DataFrame llamado \"df_bi2\" que contenía solo los valores de la columna \"Canal\" de los locales que se sometían a preguntas sobre las marcas.\n",
        "\n",
        "6) Eliminamos las filas correspondientes a los locales que no se sometían a preguntas sobre las marcas de \"df,\" lo que redujo significativamente la dimensión de los datos y mejoró la gestión de la información.\n",
        "\n",
        "Además, hemos estructurado nuestros datos en varios conjuntos distintos para diferentes tipos de locales, como \"vinoteca,\" \"Farmacia_Perfumería,\" \"Autoservicio_chino,\" \"almacén,\" \"Maxi_Kiosco,\" \"Kiosco_ventana,\" \"Goloteca_Golsineria,\" \"Dietética,\" y \"Cerrados.\" Esta segmentación nos permitirá realizar análisis específicos y enfocados en cada tipo de punto de venta.\n"
      ]
    },
    {
      "cell_type": "markdown",
      "metadata": {
        "id": "6eFd6yJJeq77"
      },
      "source": [
        "## **Antes de Terminar**\n",
        "\n",
        "La meta primordial de este proceso de limpieza y preparación de datos es la creación de paneles interactivos que alberguen información pertinente y que puedan actualizarse de manera continua. Esto proporcionará una comprensión más profunda de los datos y permitirá la detección temprana de posibles errores en la carga de información. No obstante, enfrentamos un desafío significativo, ya que en el período que abarca desde el 23 de agosto hasta el 23 de octubre, tendremos aproximadamente dos meses para llevar a cabo el censo de Mondelez. Durante este período, se anticipa una recopilación sustancial de datos, especialmente en aquellas provincias que cuentan con un mayor número de puntos de venta y una población significativa.\n",
        "\n",
        "Con el fin de anticiparnos a esta situación, hemos tomado la decisión de crear una base de datos en SQL Server. Dicha base de datos fungirá como un repositorio centralizado para el almacenamiento y gestión eficiente de los datos que resulten del proceso de censo. Esta medida nos permitirá estar preparados para gestionar volúmenes considerables de información de manera eficaz y evitar complicaciones futuras en relación con la capacidad de manejo de datos.\n",
        "\n",
        "Esta estrategia nos habilitará para mantener un flujo continuo de datos actualizados, además de facilitar la realización de análisis y la creación de informes interactivos en el futuro. La elección de establecer una base de datos en SQL Server representa un paso significativo en la garantía del éxito a largo plazo de nuestro proyecto de censo."
      ]
    },
    {
      "cell_type": "code",
      "execution_count": null,
      "metadata": {
        "id": "rEGmF1IZeq78"
      },
      "outputs": [],
      "source": []
    },
    {
      "cell_type": "code",
      "execution_count": null,
      "metadata": {
        "id": "BctOUx5jeq78"
      },
      "outputs": [],
      "source": []
    },
    {
      "cell_type": "code",
      "execution_count": null,
      "metadata": {
        "id": "32Qy3-aPeq78",
        "outputId": "f902bf7f-87f4-4a06-81bc-89381172e80d"
      },
      "outputs": [
        {
          "ename": "ProgrammingError",
          "evalue": "(pyodbc.ProgrammingError) ('42S02', \"[42S02] [Microsoft][ODBC Driver 17 for SQL Server][SQL Server]Invalid object name 'Cerrados'. (208) (SQLExecDirectW); [42S02] [Microsoft][ODBC Driver 17 for SQL Server][SQL Server]Statement(s) could not be prepared. (8180)\")\n[SQL: INSERT INTO [Cerrados] ([ID_Alta], [Censista], [Nombre_local], [Dirección], [Coordenadas], [Provincia_x], [Departamento], [Localidad_x], [Canal_x], [Fecha], [Hora], [Descripción], [Fecha de inicio], [Hora inicio], [Coordenadas inicio], [Fecha complet ... 6903 characters truncated ... , ?, ?, ?, ?, ?, ?, ?, ?, ?, ?, ?, ?, ?, ?, ?, ?, ?, ?, ?, ?, ?, ?, ?, ?, ?, ?, ?, ?, ?, ?, ?, ?, ?)]\n[parameters: ('AG -603259', 'Cristian manuel Toscano', 'Agencia', 'Mardoqueo molina 235', '-28.48737310000000000000,-65.78376960000000000000', 'Catamarca', 'Capital', 'San Fernando del Valle de Catamarca', 'Bingo', '25/09/2023 09:29', '09:30:39', 'Cerrado', datetime.datetime(2023, 10, 5, 15, 33, 7, 117000), datetime.datetime(2023, 10, 5, 15, 33, 7, 117000), '-28.47766084423989000000,-65.77949501574040000000', datetime.datetime(2023, 10, 5, 15, 33, 41, 3000), datetime.datetime(2023, 10, 5, 15, 33, 41, 3000), '-28.47767310000000000000,-65.77953090000000000000', 'CT-174616', 'Cristian manuel Toscano', 'QU -508149', 'Quiniela germán', 'Catamarca', 'La rioja y los regionales', 'Catamarca', 'San Fernando', 'capital', 'Bingo', None, None, 'No', 'Bingo', None, None, None, None, None, None, None, None, None, None, None, None, '      ', 0.0, 'AG -603259', 'Cristian manuel Toscano', 'Agencia', 'Mardoqueo molina 235' ... 1970 parameters truncated ... None, None, '      ', 0.0, 'AG2-021442', 'Cristian manuel Toscano', 'Agencia 282', 'Rio negro y victor mauvecin', '-28.48070170000000000000,-65.79243330000000000000', 'Catamarca', 'Capital', 'San Fernando del Valle de Catamarca', 'Bingo', '26/09/2023 08:48', '08:49:39', 'Cerrado', datetime.datetime(2023, 9, 14, 10, 8, 42, 20000), datetime.datetime(2023, 9, 14, 10, 8, 42, 20000), '-28.49383440066586500000,-65.78486915677786000000', datetime.datetime(2023, 9, 14, 10, 9, 3, 310000), datetime.datetime(2023, 9, 14, 10, 9, 3, 310000), '-28.49433840000000000000,-65.78518460000000000000', 'CT-174616', 'Cristian manuel Toscano', 'DEA-206873', 'Despensa y verduleria lorena', 'Catamarca', 'Manuel navarro y manuel pedraza', 'Catamarca', 'San Fernando', 'san fernando del valle de catamarca', 'Verdulería', 'Lorena', None, 'No', 'Verdulería', None, None, None, None, None, None, None, None, None, None, None, None, '      ', 0.0)]\n(Background on this error at: https://sqlalche.me/e/20/f405)",
          "output_type": "error",
          "traceback": [
            "\u001b[1;31m---------------------------------------------------------------------------\u001b[0m",
            "\u001b[1;31mProgrammingError\u001b[0m                          Traceback (most recent call last)",
            "File \u001b[1;32mc:\\Users\\sosaj\\AppData\\Local\\Programs\\Python\\Python311\\Lib\\site-packages\\sqlalchemy\\engine\\base.py:2108\u001b[0m, in \u001b[0;36mConnection._exec_insertmany_context\u001b[1;34m(self, dialect, context)\u001b[0m\n\u001b[0;32m   2107\u001b[0m     \u001b[39melse\u001b[39;00m:\n\u001b[1;32m-> 2108\u001b[0m         dialect\u001b[39m.\u001b[39;49mdo_execute(\n\u001b[0;32m   2109\u001b[0m             cursor,\n\u001b[0;32m   2110\u001b[0m             sub_stmt,\n\u001b[0;32m   2111\u001b[0m             sub_params,\n\u001b[0;32m   2112\u001b[0m             context,\n\u001b[0;32m   2113\u001b[0m         )\n\u001b[0;32m   2115\u001b[0m \u001b[39mexcept\u001b[39;00m \u001b[39mBaseException\u001b[39;00m \u001b[39mas\u001b[39;00m e:\n",
            "File \u001b[1;32mc:\\Users\\sosaj\\AppData\\Local\\Programs\\Python\\Python311\\Lib\\site-packages\\sqlalchemy\\engine\\default.py:921\u001b[0m, in \u001b[0;36mDefaultDialect.do_execute\u001b[1;34m(self, cursor, statement, parameters, context)\u001b[0m\n\u001b[0;32m    920\u001b[0m \u001b[39mdef\u001b[39;00m \u001b[39mdo_execute\u001b[39m(\u001b[39mself\u001b[39m, cursor, statement, parameters, context\u001b[39m=\u001b[39m\u001b[39mNone\u001b[39;00m):\n\u001b[1;32m--> 921\u001b[0m     cursor\u001b[39m.\u001b[39;49mexecute(statement, parameters)\n",
            "\u001b[1;31mProgrammingError\u001b[0m: ('42S02', \"[42S02] [Microsoft][ODBC Driver 17 for SQL Server][SQL Server]Invalid object name 'Cerrados'. (208) (SQLExecDirectW); [42S02] [Microsoft][ODBC Driver 17 for SQL Server][SQL Server]Statement(s) could not be prepared. (8180)\")",
            "\nThe above exception was the direct cause of the following exception:\n",
            "\u001b[1;31mProgrammingError\u001b[0m                          Traceback (most recent call last)",
            "\u001b[1;32mc:\\Users\\sosaj\\OneDrive\\Escritorio\\Reporte general completo\\datarius.ipynb Cell 146\u001b[0m line \u001b[0;36m3\n\u001b[0;32m     <a href='vscode-notebook-cell:/c%3A/Users/sosaj/OneDrive/Escritorio/Reporte%20general%20completo/datarius.ipynb#Y360sZmlsZQ%3D%3D?line=31'>32</a>\u001b[0m \u001b[39m# Itera a través del diccionario y exporta cada DataFrame a una tabla en la base de datos usando SQLAlchemy\u001b[39;00m\n\u001b[0;32m     <a href='vscode-notebook-cell:/c%3A/Users/sosaj/OneDrive/Escritorio/Reporte%20general%20completo/datarius.ipynb#Y360sZmlsZQ%3D%3D?line=32'>33</a>\u001b[0m \u001b[39mfor\u001b[39;00m table_name, dataframe \u001b[39min\u001b[39;00m dataframes\u001b[39m.\u001b[39mitems():\n\u001b[1;32m---> <a href='vscode-notebook-cell:/c%3A/Users/sosaj/OneDrive/Escritorio/Reporte%20general%20completo/datarius.ipynb#Y360sZmlsZQ%3D%3D?line=33'>34</a>\u001b[0m     dataframe\u001b[39m.\u001b[39;49mto_sql(table_name, con\u001b[39m=\u001b[39;49mengine, if_exists\u001b[39m=\u001b[39;49m\u001b[39m'\u001b[39;49m\u001b[39mreplace\u001b[39;49m\u001b[39m'\u001b[39;49m, index\u001b[39m=\u001b[39;49m\u001b[39mFalse\u001b[39;49;00m)\n\u001b[0;32m     <a href='vscode-notebook-cell:/c%3A/Users/sosaj/OneDrive/Escritorio/Reporte%20general%20completo/datarius.ipynb#Y360sZmlsZQ%3D%3D?line=35'>36</a>\u001b[0m \u001b[39m# Cierra la conexión a la base de datos con pyodbc\u001b[39;00m\n\u001b[0;32m     <a href='vscode-notebook-cell:/c%3A/Users/sosaj/OneDrive/Escritorio/Reporte%20general%20completo/datarius.ipynb#Y360sZmlsZQ%3D%3D?line=36'>37</a>\u001b[0m conn\u001b[39m.\u001b[39mclose()\n",
            "File \u001b[1;32mc:\\Users\\sosaj\\AppData\\Local\\Programs\\Python\\Python311\\Lib\\site-packages\\pandas\\core\\generic.py:2878\u001b[0m, in \u001b[0;36mNDFrame.to_sql\u001b[1;34m(self, name, con, schema, if_exists, index, index_label, chunksize, dtype, method)\u001b[0m\n\u001b[0;32m   2713\u001b[0m \u001b[39m\u001b[39m\u001b[39m\"\"\"\u001b[39;00m\n\u001b[0;32m   2714\u001b[0m \u001b[39mWrite records stored in a DataFrame to a SQL database.\u001b[39;00m\n\u001b[0;32m   2715\u001b[0m \n\u001b[1;32m   (...)\u001b[0m\n\u001b[0;32m   2874\u001b[0m \u001b[39m[(1,), (None,), (2,)]\u001b[39;00m\n\u001b[0;32m   2875\u001b[0m \u001b[39m\"\"\"\u001b[39;00m  \u001b[39m# noqa:E501\u001b[39;00m\n\u001b[0;32m   2876\u001b[0m \u001b[39mfrom\u001b[39;00m \u001b[39mpandas\u001b[39;00m\u001b[39m.\u001b[39;00m\u001b[39mio\u001b[39;00m \u001b[39mimport\u001b[39;00m sql\n\u001b[1;32m-> 2878\u001b[0m \u001b[39mreturn\u001b[39;00m sql\u001b[39m.\u001b[39;49mto_sql(\n\u001b[0;32m   2879\u001b[0m     \u001b[39mself\u001b[39;49m,\n\u001b[0;32m   2880\u001b[0m     name,\n\u001b[0;32m   2881\u001b[0m     con,\n\u001b[0;32m   2882\u001b[0m     schema\u001b[39m=\u001b[39;49mschema,\n\u001b[0;32m   2883\u001b[0m     if_exists\u001b[39m=\u001b[39;49mif_exists,\n\u001b[0;32m   2884\u001b[0m     index\u001b[39m=\u001b[39;49mindex,\n\u001b[0;32m   2885\u001b[0m     index_label\u001b[39m=\u001b[39;49mindex_label,\n\u001b[0;32m   2886\u001b[0m     chunksize\u001b[39m=\u001b[39;49mchunksize,\n\u001b[0;32m   2887\u001b[0m     dtype\u001b[39m=\u001b[39;49mdtype,\n\u001b[0;32m   2888\u001b[0m     method\u001b[39m=\u001b[39;49mmethod,\n\u001b[0;32m   2889\u001b[0m )\n",
            "File \u001b[1;32mc:\\Users\\sosaj\\AppData\\Local\\Programs\\Python\\Python311\\Lib\\site-packages\\pandas\\io\\sql.py:769\u001b[0m, in \u001b[0;36mto_sql\u001b[1;34m(frame, name, con, schema, if_exists, index, index_label, chunksize, dtype, method, engine, **engine_kwargs)\u001b[0m\n\u001b[0;32m    764\u001b[0m     \u001b[39mraise\u001b[39;00m \u001b[39mNotImplementedError\u001b[39;00m(\n\u001b[0;32m    765\u001b[0m         \u001b[39m\"\u001b[39m\u001b[39m'\u001b[39m\u001b[39mframe\u001b[39m\u001b[39m'\u001b[39m\u001b[39m argument should be either a Series or a DataFrame\u001b[39m\u001b[39m\"\u001b[39m\n\u001b[0;32m    766\u001b[0m     )\n\u001b[0;32m    768\u001b[0m \u001b[39mwith\u001b[39;00m pandasSQL_builder(con, schema\u001b[39m=\u001b[39mschema, need_transaction\u001b[39m=\u001b[39m\u001b[39mTrue\u001b[39;00m) \u001b[39mas\u001b[39;00m pandas_sql:\n\u001b[1;32m--> 769\u001b[0m     \u001b[39mreturn\u001b[39;00m pandas_sql\u001b[39m.\u001b[39;49mto_sql(\n\u001b[0;32m    770\u001b[0m         frame,\n\u001b[0;32m    771\u001b[0m         name,\n\u001b[0;32m    772\u001b[0m         if_exists\u001b[39m=\u001b[39;49mif_exists,\n\u001b[0;32m    773\u001b[0m         index\u001b[39m=\u001b[39;49mindex,\n\u001b[0;32m    774\u001b[0m         index_label\u001b[39m=\u001b[39;49mindex_label,\n\u001b[0;32m    775\u001b[0m         schema\u001b[39m=\u001b[39;49mschema,\n\u001b[0;32m    776\u001b[0m         chunksize\u001b[39m=\u001b[39;49mchunksize,\n\u001b[0;32m    777\u001b[0m         dtype\u001b[39m=\u001b[39;49mdtype,\n\u001b[0;32m    778\u001b[0m         method\u001b[39m=\u001b[39;49mmethod,\n\u001b[0;32m    779\u001b[0m         engine\u001b[39m=\u001b[39;49mengine,\n\u001b[0;32m    780\u001b[0m         \u001b[39m*\u001b[39;49m\u001b[39m*\u001b[39;49mengine_kwargs,\n\u001b[0;32m    781\u001b[0m     )\n",
            "File \u001b[1;32mc:\\Users\\sosaj\\AppData\\Local\\Programs\\Python\\Python311\\Lib\\site-packages\\pandas\\io\\sql.py:1920\u001b[0m, in \u001b[0;36mSQLDatabase.to_sql\u001b[1;34m(self, frame, name, if_exists, index, index_label, schema, chunksize, dtype, method, engine, **engine_kwargs)\u001b[0m\n\u001b[0;32m   1908\u001b[0m sql_engine \u001b[39m=\u001b[39m get_engine(engine)\n\u001b[0;32m   1910\u001b[0m table \u001b[39m=\u001b[39m \u001b[39mself\u001b[39m\u001b[39m.\u001b[39mprep_table(\n\u001b[0;32m   1911\u001b[0m     frame\u001b[39m=\u001b[39mframe,\n\u001b[0;32m   1912\u001b[0m     name\u001b[39m=\u001b[39mname,\n\u001b[1;32m   (...)\u001b[0m\n\u001b[0;32m   1917\u001b[0m     dtype\u001b[39m=\u001b[39mdtype,\n\u001b[0;32m   1918\u001b[0m )\n\u001b[1;32m-> 1920\u001b[0m total_inserted \u001b[39m=\u001b[39m sql_engine\u001b[39m.\u001b[39;49minsert_records(\n\u001b[0;32m   1921\u001b[0m     table\u001b[39m=\u001b[39;49mtable,\n\u001b[0;32m   1922\u001b[0m     con\u001b[39m=\u001b[39;49m\u001b[39mself\u001b[39;49m\u001b[39m.\u001b[39;49mcon,\n\u001b[0;32m   1923\u001b[0m     frame\u001b[39m=\u001b[39;49mframe,\n\u001b[0;32m   1924\u001b[0m     name\u001b[39m=\u001b[39;49mname,\n\u001b[0;32m   1925\u001b[0m     index\u001b[39m=\u001b[39;49mindex,\n\u001b[0;32m   1926\u001b[0m     schema\u001b[39m=\u001b[39;49mschema,\n\u001b[0;32m   1927\u001b[0m     chunksize\u001b[39m=\u001b[39;49mchunksize,\n\u001b[0;32m   1928\u001b[0m     method\u001b[39m=\u001b[39;49mmethod,\n\u001b[0;32m   1929\u001b[0m     \u001b[39m*\u001b[39;49m\u001b[39m*\u001b[39;49mengine_kwargs,\n\u001b[0;32m   1930\u001b[0m )\n\u001b[0;32m   1932\u001b[0m \u001b[39mself\u001b[39m\u001b[39m.\u001b[39mcheck_case_sensitive(name\u001b[39m=\u001b[39mname, schema\u001b[39m=\u001b[39mschema)\n\u001b[0;32m   1933\u001b[0m \u001b[39mreturn\u001b[39;00m total_inserted\n",
            "File \u001b[1;32mc:\\Users\\sosaj\\AppData\\Local\\Programs\\Python\\Python311\\Lib\\site-packages\\pandas\\io\\sql.py:1470\u001b[0m, in \u001b[0;36mSQLAlchemyEngine.insert_records\u001b[1;34m(self, table, con, frame, name, index, schema, chunksize, method, **engine_kwargs)\u001b[0m\n\u001b[0;32m   1468\u001b[0m \u001b[39mif\u001b[39;00m re\u001b[39m.\u001b[39msearch(msg, err_text):\n\u001b[0;32m   1469\u001b[0m     \u001b[39mraise\u001b[39;00m \u001b[39mValueError\u001b[39;00m(\u001b[39m\"\u001b[39m\u001b[39minf cannot be used with MySQL\u001b[39m\u001b[39m\"\u001b[39m) \u001b[39mfrom\u001b[39;00m \u001b[39merr\u001b[39;00m\n\u001b[1;32m-> 1470\u001b[0m \u001b[39mraise\u001b[39;00m err\n",
            "File \u001b[1;32mc:\\Users\\sosaj\\AppData\\Local\\Programs\\Python\\Python311\\Lib\\site-packages\\pandas\\io\\sql.py:1461\u001b[0m, in \u001b[0;36mSQLAlchemyEngine.insert_records\u001b[1;34m(self, table, con, frame, name, index, schema, chunksize, method, **engine_kwargs)\u001b[0m\n\u001b[0;32m   1458\u001b[0m \u001b[39mfrom\u001b[39;00m \u001b[39msqlalchemy\u001b[39;00m \u001b[39mimport\u001b[39;00m exc\n\u001b[0;32m   1460\u001b[0m \u001b[39mtry\u001b[39;00m:\n\u001b[1;32m-> 1461\u001b[0m     \u001b[39mreturn\u001b[39;00m table\u001b[39m.\u001b[39;49minsert(chunksize\u001b[39m=\u001b[39;49mchunksize, method\u001b[39m=\u001b[39;49mmethod)\n\u001b[0;32m   1462\u001b[0m \u001b[39mexcept\u001b[39;00m exc\u001b[39m.\u001b[39mStatementError \u001b[39mas\u001b[39;00m err:\n\u001b[0;32m   1463\u001b[0m     \u001b[39m# GH34431\u001b[39;00m\n\u001b[0;32m   1464\u001b[0m     \u001b[39m# https://stackoverflow.com/a/67358288/6067848\u001b[39;00m\n\u001b[0;32m   1465\u001b[0m     msg \u001b[39m=\u001b[39m \u001b[39mr\u001b[39m\u001b[39m\"\"\"\u001b[39m\u001b[39m(\u001b[39m\u001b[39m\\\u001b[39m\u001b[39m(1054, \u001b[39m\u001b[39m\"\u001b[39m\u001b[39mUnknown column \u001b[39m\u001b[39m'\u001b[39m\u001b[39minf(e0)?\u001b[39m\u001b[39m'\u001b[39m\u001b[39m in \u001b[39m\u001b[39m'\u001b[39m\u001b[39mfield list\u001b[39m\u001b[39m'\u001b[39m\u001b[39m\"\u001b[39m\u001b[39m\\\u001b[39m\u001b[39m))(?#\u001b[39m\n\u001b[0;32m   1466\u001b[0m \u001b[39m    )|inf can not be used with MySQL\u001b[39m\u001b[39m\"\"\"\u001b[39m\n",
            "File \u001b[1;32mc:\\Users\\sosaj\\AppData\\Local\\Programs\\Python\\Python311\\Lib\\site-packages\\pandas\\io\\sql.py:1023\u001b[0m, in \u001b[0;36mSQLTable.insert\u001b[1;34m(self, chunksize, method)\u001b[0m\n\u001b[0;32m   1020\u001b[0m     \u001b[39mbreak\u001b[39;00m\n\u001b[0;32m   1022\u001b[0m chunk_iter \u001b[39m=\u001b[39m \u001b[39mzip\u001b[39m(\u001b[39m*\u001b[39m(arr[start_i:end_i] \u001b[39mfor\u001b[39;00m arr \u001b[39min\u001b[39;00m data_list))\n\u001b[1;32m-> 1023\u001b[0m num_inserted \u001b[39m=\u001b[39m exec_insert(conn, keys, chunk_iter)\n\u001b[0;32m   1024\u001b[0m \u001b[39m# GH 46891\u001b[39;00m\n\u001b[0;32m   1025\u001b[0m \u001b[39mif\u001b[39;00m is_integer(num_inserted):\n",
            "File \u001b[1;32mc:\\Users\\sosaj\\AppData\\Local\\Programs\\Python\\Python311\\Lib\\site-packages\\pandas\\io\\sql.py:929\u001b[0m, in \u001b[0;36mSQLTable._execute_insert\u001b[1;34m(self, conn, keys, data_iter)\u001b[0m\n\u001b[0;32m    917\u001b[0m \u001b[39m\u001b[39m\u001b[39m\"\"\"\u001b[39;00m\n\u001b[0;32m    918\u001b[0m \u001b[39mExecute SQL statement inserting data\u001b[39;00m\n\u001b[0;32m    919\u001b[0m \n\u001b[1;32m   (...)\u001b[0m\n\u001b[0;32m    926\u001b[0m \u001b[39m   Each item contains a list of values to be inserted\u001b[39;00m\n\u001b[0;32m    927\u001b[0m \u001b[39m\"\"\"\u001b[39;00m\n\u001b[0;32m    928\u001b[0m data \u001b[39m=\u001b[39m [\u001b[39mdict\u001b[39m(\u001b[39mzip\u001b[39m(keys, row)) \u001b[39mfor\u001b[39;00m row \u001b[39min\u001b[39;00m data_iter]\n\u001b[1;32m--> 929\u001b[0m result \u001b[39m=\u001b[39m conn\u001b[39m.\u001b[39;49mexecute(\u001b[39mself\u001b[39;49m\u001b[39m.\u001b[39;49mtable\u001b[39m.\u001b[39;49minsert(), data)\n\u001b[0;32m    930\u001b[0m \u001b[39mreturn\u001b[39;00m result\u001b[39m.\u001b[39mrowcount\n",
            "File \u001b[1;32mc:\\Users\\sosaj\\AppData\\Local\\Programs\\Python\\Python311\\Lib\\site-packages\\sqlalchemy\\engine\\base.py:1412\u001b[0m, in \u001b[0;36mConnection.execute\u001b[1;34m(self, statement, parameters, execution_options)\u001b[0m\n\u001b[0;32m   1410\u001b[0m     \u001b[39mraise\u001b[39;00m exc\u001b[39m.\u001b[39mObjectNotExecutableError(statement) \u001b[39mfrom\u001b[39;00m \u001b[39merr\u001b[39;00m\n\u001b[0;32m   1411\u001b[0m \u001b[39melse\u001b[39;00m:\n\u001b[1;32m-> 1412\u001b[0m     \u001b[39mreturn\u001b[39;00m meth(\n\u001b[0;32m   1413\u001b[0m         \u001b[39mself\u001b[39;49m,\n\u001b[0;32m   1414\u001b[0m         distilled_parameters,\n\u001b[0;32m   1415\u001b[0m         execution_options \u001b[39mor\u001b[39;49;00m NO_OPTIONS,\n\u001b[0;32m   1416\u001b[0m     )\n",
            "File \u001b[1;32mc:\\Users\\sosaj\\AppData\\Local\\Programs\\Python\\Python311\\Lib\\site-packages\\sqlalchemy\\sql\\elements.py:515\u001b[0m, in \u001b[0;36mClauseElement._execute_on_connection\u001b[1;34m(self, connection, distilled_params, execution_options)\u001b[0m\n\u001b[0;32m    513\u001b[0m     \u001b[39mif\u001b[39;00m TYPE_CHECKING:\n\u001b[0;32m    514\u001b[0m         \u001b[39massert\u001b[39;00m \u001b[39misinstance\u001b[39m(\u001b[39mself\u001b[39m, Executable)\n\u001b[1;32m--> 515\u001b[0m     \u001b[39mreturn\u001b[39;00m connection\u001b[39m.\u001b[39;49m_execute_clauseelement(\n\u001b[0;32m    516\u001b[0m         \u001b[39mself\u001b[39;49m, distilled_params, execution_options\n\u001b[0;32m    517\u001b[0m     )\n\u001b[0;32m    518\u001b[0m \u001b[39melse\u001b[39;00m:\n\u001b[0;32m    519\u001b[0m     \u001b[39mraise\u001b[39;00m exc\u001b[39m.\u001b[39mObjectNotExecutableError(\u001b[39mself\u001b[39m)\n",
            "File \u001b[1;32mc:\\Users\\sosaj\\AppData\\Local\\Programs\\Python\\Python311\\Lib\\site-packages\\sqlalchemy\\engine\\base.py:1635\u001b[0m, in \u001b[0;36mConnection._execute_clauseelement\u001b[1;34m(self, elem, distilled_parameters, execution_options)\u001b[0m\n\u001b[0;32m   1623\u001b[0m compiled_cache: Optional[CompiledCacheType] \u001b[39m=\u001b[39m execution_options\u001b[39m.\u001b[39mget(\n\u001b[0;32m   1624\u001b[0m     \u001b[39m\"\u001b[39m\u001b[39mcompiled_cache\u001b[39m\u001b[39m\"\u001b[39m, \u001b[39mself\u001b[39m\u001b[39m.\u001b[39mengine\u001b[39m.\u001b[39m_compiled_cache\n\u001b[0;32m   1625\u001b[0m )\n\u001b[0;32m   1627\u001b[0m compiled_sql, extracted_params, cache_hit \u001b[39m=\u001b[39m elem\u001b[39m.\u001b[39m_compile_w_cache(\n\u001b[0;32m   1628\u001b[0m     dialect\u001b[39m=\u001b[39mdialect,\n\u001b[0;32m   1629\u001b[0m     compiled_cache\u001b[39m=\u001b[39mcompiled_cache,\n\u001b[1;32m   (...)\u001b[0m\n\u001b[0;32m   1633\u001b[0m     linting\u001b[39m=\u001b[39m\u001b[39mself\u001b[39m\u001b[39m.\u001b[39mdialect\u001b[39m.\u001b[39mcompiler_linting \u001b[39m|\u001b[39m compiler\u001b[39m.\u001b[39mWARN_LINTING,\n\u001b[0;32m   1634\u001b[0m )\n\u001b[1;32m-> 1635\u001b[0m ret \u001b[39m=\u001b[39m \u001b[39mself\u001b[39;49m\u001b[39m.\u001b[39;49m_execute_context(\n\u001b[0;32m   1636\u001b[0m     dialect,\n\u001b[0;32m   1637\u001b[0m     dialect\u001b[39m.\u001b[39;49mexecution_ctx_cls\u001b[39m.\u001b[39;49m_init_compiled,\n\u001b[0;32m   1638\u001b[0m     compiled_sql,\n\u001b[0;32m   1639\u001b[0m     distilled_parameters,\n\u001b[0;32m   1640\u001b[0m     execution_options,\n\u001b[0;32m   1641\u001b[0m     compiled_sql,\n\u001b[0;32m   1642\u001b[0m     distilled_parameters,\n\u001b[0;32m   1643\u001b[0m     elem,\n\u001b[0;32m   1644\u001b[0m     extracted_params,\n\u001b[0;32m   1645\u001b[0m     cache_hit\u001b[39m=\u001b[39;49mcache_hit,\n\u001b[0;32m   1646\u001b[0m )\n\u001b[0;32m   1647\u001b[0m \u001b[39mif\u001b[39;00m has_events:\n\u001b[0;32m   1648\u001b[0m     \u001b[39mself\u001b[39m\u001b[39m.\u001b[39mdispatch\u001b[39m.\u001b[39mafter_execute(\n\u001b[0;32m   1649\u001b[0m         \u001b[39mself\u001b[39m,\n\u001b[0;32m   1650\u001b[0m         elem,\n\u001b[1;32m   (...)\u001b[0m\n\u001b[0;32m   1654\u001b[0m         ret,\n\u001b[0;32m   1655\u001b[0m     )\n",
            "File \u001b[1;32mc:\\Users\\sosaj\\AppData\\Local\\Programs\\Python\\Python311\\Lib\\site-packages\\sqlalchemy\\engine\\base.py:1839\u001b[0m, in \u001b[0;36mConnection._execute_context\u001b[1;34m(self, dialect, constructor, statement, parameters, execution_options, *args, **kw)\u001b[0m\n\u001b[0;32m   1836\u001b[0m context\u001b[39m.\u001b[39mpre_exec()\n\u001b[0;32m   1838\u001b[0m \u001b[39mif\u001b[39;00m context\u001b[39m.\u001b[39mexecute_style \u001b[39mis\u001b[39;00m ExecuteStyle\u001b[39m.\u001b[39mINSERTMANYVALUES:\n\u001b[1;32m-> 1839\u001b[0m     \u001b[39mreturn\u001b[39;00m \u001b[39mself\u001b[39;49m\u001b[39m.\u001b[39;49m_exec_insertmany_context(\n\u001b[0;32m   1840\u001b[0m         dialect,\n\u001b[0;32m   1841\u001b[0m         context,\n\u001b[0;32m   1842\u001b[0m     )\n\u001b[0;32m   1843\u001b[0m \u001b[39melse\u001b[39;00m:\n\u001b[0;32m   1844\u001b[0m     \u001b[39mreturn\u001b[39;00m \u001b[39mself\u001b[39m\u001b[39m.\u001b[39m_exec_single_context(\n\u001b[0;32m   1845\u001b[0m         dialect, context, statement, parameters\n\u001b[0;32m   1846\u001b[0m     )\n",
            "File \u001b[1;32mc:\\Users\\sosaj\\AppData\\Local\\Programs\\Python\\Python311\\Lib\\site-packages\\sqlalchemy\\engine\\base.py:2116\u001b[0m, in \u001b[0;36mConnection._exec_insertmany_context\u001b[1;34m(self, dialect, context)\u001b[0m\n\u001b[0;32m   2108\u001b[0m         dialect\u001b[39m.\u001b[39mdo_execute(\n\u001b[0;32m   2109\u001b[0m             cursor,\n\u001b[0;32m   2110\u001b[0m             sub_stmt,\n\u001b[0;32m   2111\u001b[0m             sub_params,\n\u001b[0;32m   2112\u001b[0m             context,\n\u001b[0;32m   2113\u001b[0m         )\n\u001b[0;32m   2115\u001b[0m \u001b[39mexcept\u001b[39;00m \u001b[39mBaseException\u001b[39;00m \u001b[39mas\u001b[39;00m e:\n\u001b[1;32m-> 2116\u001b[0m     \u001b[39mself\u001b[39;49m\u001b[39m.\u001b[39;49m_handle_dbapi_exception(\n\u001b[0;32m   2117\u001b[0m         e,\n\u001b[0;32m   2118\u001b[0m         sql_util\u001b[39m.\u001b[39;49m_long_statement(sub_stmt),\n\u001b[0;32m   2119\u001b[0m         sub_params,\n\u001b[0;32m   2120\u001b[0m         cursor,\n\u001b[0;32m   2121\u001b[0m         context,\n\u001b[0;32m   2122\u001b[0m         is_sub_exec\u001b[39m=\u001b[39;49m\u001b[39mTrue\u001b[39;49;00m,\n\u001b[0;32m   2123\u001b[0m     )\n\u001b[0;32m   2125\u001b[0m \u001b[39mif\u001b[39;00m engine_events:\n\u001b[0;32m   2126\u001b[0m     \u001b[39mself\u001b[39m\u001b[39m.\u001b[39mdispatch\u001b[39m.\u001b[39mafter_cursor_execute(\n\u001b[0;32m   2127\u001b[0m         \u001b[39mself\u001b[39m,\n\u001b[0;32m   2128\u001b[0m         cursor,\n\u001b[1;32m   (...)\u001b[0m\n\u001b[0;32m   2132\u001b[0m         context\u001b[39m.\u001b[39mexecutemany,\n\u001b[0;32m   2133\u001b[0m     )\n",
            "File \u001b[1;32mc:\\Users\\sosaj\\AppData\\Local\\Programs\\Python\\Python311\\Lib\\site-packages\\sqlalchemy\\engine\\base.py:2339\u001b[0m, in \u001b[0;36mConnection._handle_dbapi_exception\u001b[1;34m(self, e, statement, parameters, cursor, context, is_sub_exec)\u001b[0m\n\u001b[0;32m   2337\u001b[0m \u001b[39melif\u001b[39;00m should_wrap:\n\u001b[0;32m   2338\u001b[0m     \u001b[39massert\u001b[39;00m sqlalchemy_exception \u001b[39mis\u001b[39;00m \u001b[39mnot\u001b[39;00m \u001b[39mNone\u001b[39;00m\n\u001b[1;32m-> 2339\u001b[0m     \u001b[39mraise\u001b[39;00m sqlalchemy_exception\u001b[39m.\u001b[39mwith_traceback(exc_info[\u001b[39m2\u001b[39m]) \u001b[39mfrom\u001b[39;00m \u001b[39me\u001b[39;00m\n\u001b[0;32m   2340\u001b[0m \u001b[39melse\u001b[39;00m:\n\u001b[0;32m   2341\u001b[0m     \u001b[39massert\u001b[39;00m exc_info[\u001b[39m1\u001b[39m] \u001b[39mis\u001b[39;00m \u001b[39mnot\u001b[39;00m \u001b[39mNone\u001b[39;00m\n",
            "File \u001b[1;32mc:\\Users\\sosaj\\AppData\\Local\\Programs\\Python\\Python311\\Lib\\site-packages\\sqlalchemy\\engine\\base.py:2108\u001b[0m, in \u001b[0;36mConnection._exec_insertmany_context\u001b[1;34m(self, dialect, context)\u001b[0m\n\u001b[0;32m   2106\u001b[0m             \u001b[39mbreak\u001b[39;00m\n\u001b[0;32m   2107\u001b[0m     \u001b[39melse\u001b[39;00m:\n\u001b[1;32m-> 2108\u001b[0m         dialect\u001b[39m.\u001b[39;49mdo_execute(\n\u001b[0;32m   2109\u001b[0m             cursor,\n\u001b[0;32m   2110\u001b[0m             sub_stmt,\n\u001b[0;32m   2111\u001b[0m             sub_params,\n\u001b[0;32m   2112\u001b[0m             context,\n\u001b[0;32m   2113\u001b[0m         )\n\u001b[0;32m   2115\u001b[0m \u001b[39mexcept\u001b[39;00m \u001b[39mBaseException\u001b[39;00m \u001b[39mas\u001b[39;00m e:\n\u001b[0;32m   2116\u001b[0m     \u001b[39mself\u001b[39m\u001b[39m.\u001b[39m_handle_dbapi_exception(\n\u001b[0;32m   2117\u001b[0m         e,\n\u001b[0;32m   2118\u001b[0m         sql_util\u001b[39m.\u001b[39m_long_statement(sub_stmt),\n\u001b[1;32m   (...)\u001b[0m\n\u001b[0;32m   2122\u001b[0m         is_sub_exec\u001b[39m=\u001b[39m\u001b[39mTrue\u001b[39;00m,\n\u001b[0;32m   2123\u001b[0m     )\n",
            "File \u001b[1;32mc:\\Users\\sosaj\\AppData\\Local\\Programs\\Python\\Python311\\Lib\\site-packages\\sqlalchemy\\engine\\default.py:921\u001b[0m, in \u001b[0;36mDefaultDialect.do_execute\u001b[1;34m(self, cursor, statement, parameters, context)\u001b[0m\n\u001b[0;32m    920\u001b[0m \u001b[39mdef\u001b[39;00m \u001b[39mdo_execute\u001b[39m(\u001b[39mself\u001b[39m, cursor, statement, parameters, context\u001b[39m=\u001b[39m\u001b[39mNone\u001b[39;00m):\n\u001b[1;32m--> 921\u001b[0m     cursor\u001b[39m.\u001b[39;49mexecute(statement, parameters)\n",
            "\u001b[1;31mProgrammingError\u001b[0m: (pyodbc.ProgrammingError) ('42S02', \"[42S02] [Microsoft][ODBC Driver 17 for SQL Server][SQL Server]Invalid object name 'Cerrados'. (208) (SQLExecDirectW); [42S02] [Microsoft][ODBC Driver 17 for SQL Server][SQL Server]Statement(s) could not be prepared. (8180)\")\n[SQL: INSERT INTO [Cerrados] ([ID_Alta], [Censista], [Nombre_local], [Dirección], [Coordenadas], [Provincia_x], [Departamento], [Localidad_x], [Canal_x], [Fecha], [Hora], [Descripción], [Fecha de inicio], [Hora inicio], [Coordenadas inicio], [Fecha complet ... 6903 characters truncated ... , ?, ?, ?, ?, ?, ?, ?, ?, ?, ?, ?, ?, ?, ?, ?, ?, ?, ?, ?, ?, ?, ?, ?, ?, ?, ?, ?, ?, ?, ?, ?, ?, ?)]\n[parameters: ('AG -603259', 'Cristian manuel Toscano', 'Agencia', 'Mardoqueo molina 235', '-28.48737310000000000000,-65.78376960000000000000', 'Catamarca', 'Capital', 'San Fernando del Valle de Catamarca', 'Bingo', '25/09/2023 09:29', '09:30:39', 'Cerrado', datetime.datetime(2023, 10, 5, 15, 33, 7, 117000), datetime.datetime(2023, 10, 5, 15, 33, 7, 117000), '-28.47766084423989000000,-65.77949501574040000000', datetime.datetime(2023, 10, 5, 15, 33, 41, 3000), datetime.datetime(2023, 10, 5, 15, 33, 41, 3000), '-28.47767310000000000000,-65.77953090000000000000', 'CT-174616', 'Cristian manuel Toscano', 'QU -508149', 'Quiniela germán', 'Catamarca', 'La rioja y los regionales', 'Catamarca', 'San Fernando', 'capital', 'Bingo', None, None, 'No', 'Bingo', None, None, None, None, None, None, None, None, None, None, None, None, '      ', 0.0, 'AG -603259', 'Cristian manuel Toscano', 'Agencia', 'Mardoqueo molina 235' ... 1970 parameters truncated ... None, None, '      ', 0.0, 'AG2-021442', 'Cristian manuel Toscano', 'Agencia 282', 'Rio negro y victor mauvecin', '-28.48070170000000000000,-65.79243330000000000000', 'Catamarca', 'Capital', 'San Fernando del Valle de Catamarca', 'Bingo', '26/09/2023 08:48', '08:49:39', 'Cerrado', datetime.datetime(2023, 9, 14, 10, 8, 42, 20000), datetime.datetime(2023, 9, 14, 10, 8, 42, 20000), '-28.49383440066586500000,-65.78486915677786000000', datetime.datetime(2023, 9, 14, 10, 9, 3, 310000), datetime.datetime(2023, 9, 14, 10, 9, 3, 310000), '-28.49433840000000000000,-65.78518460000000000000', 'CT-174616', 'Cristian manuel Toscano', 'DEA-206873', 'Despensa y verduleria lorena', 'Catamarca', 'Manuel navarro y manuel pedraza', 'Catamarca', 'San Fernando', 'san fernando del valle de catamarca', 'Verdulería', 'Lorena', None, 'No', 'Verdulería', None, None, None, None, None, None, None, None, None, None, None, None, '      ', 0.0)]\n(Background on this error at: https://sqlalche.me/e/20/f405)"
          ]
        }
      ],
      "source": [
        "import pyodbc\n",
        "from sqlalchemy import create_engine\n",
        "\n",
        "server = 'JUAN'  # Nombre del servidor\n",
        "database = 'datarius'  # Nombre de la base de datos\n",
        "\n",
        "# Definir un diccionario con los nombres de las tablas y los DataFrames correspondientes\n",
        "dataframes = {\n",
        "    'df': df,\n",
        "    'reporte': reporte,\n",
        "    'vinoteca': vinoteca,\n",
        "    'Farmacia_Perfumería': Farmacia_Perfumería,\n",
        "    'Autoservicio_chino': Autoservicio_chino,\n",
        "    'almacén': almacén,\n",
        "    'Maxi_Kiosco': Maxi_Kiosco,\n",
        "    'Kiosco_ventana': Kiosco_ventana,\n",
        "    'Goloteca_Golsineria': Goloteca_Golsineria,\n",
        "    'Dietética': Dietética,\n",
        "    'Cerrados': df_cerrados,\n",
        "    'Censistas':df_censistas\n",
        "}\n",
        "\n",
        "# Establece la conexión a la base de datos con pyodbc\n",
        "connection_string = f'DRIVER={{SQL Server}};SERVER={server};DATABASE={database};Trusted_Connection=yes;'\n",
        "conn = pyodbc.connect(connection_string)\n",
        "\n",
        "# Establece la conexión a la base de datos con SQLAlchemy\n",
        "engine = create_engine(f'mssql+pyodbc://{server}/{database}?driver=ODBC+Driver+17+for+SQL+Server')\n",
        "\n",
        "\n",
        "\n",
        "# Itera a través del diccionario y exporta cada DataFrame a una tabla en la base de datos usando SQLAlchemy\n",
        "for table_name, dataframe in dataframes.items():\n",
        "    dataframe.to_sql(table_name, con=engine, if_exists='replace', index=False)\n",
        "\n",
        "# Cierra la conexión a la base de datos con pyodbc\n",
        "conn.close()\n"
      ]
    },
    {
      "cell_type": "code",
      "execution_count": null,
      "metadata": {
        "id": "xaDGpC9beq78"
      },
      "outputs": [],
      "source": [
        "dataframe.to_sql(table_name, con=engine, if_exists='append', index=False)\n"
      ]
    }
  ],
  "metadata": {
    "kernelspec": {
      "display_name": "Python 3",
      "language": "python",
      "name": "python3"
    },
    "language_info": {
      "codemirror_mode": {
        "name": "ipython",
        "version": 3
      },
      "file_extension": ".py",
      "mimetype": "text/x-python",
      "name": "python",
      "nbconvert_exporter": "python",
      "pygments_lexer": "ipython3",
      "version": "3.11.4"
    },
    "colab": {
      "provenance": [],
      "include_colab_link": true
    }
  },
  "nbformat": 4,
  "nbformat_minor": 0
}